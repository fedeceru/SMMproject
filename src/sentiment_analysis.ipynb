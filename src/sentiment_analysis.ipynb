{
 "cells": [
  {
   "cell_type": "code",
   "execution_count": 1,
   "id": "3566c14b",
   "metadata": {},
   "outputs": [
    {
     "name": "stderr",
     "output_type": "stream",
     "text": [
      "c:\\Users\\feder\\Desktop\\SMMproject\\env\\lib\\site-packages\\tqdm\\auto.py:21: TqdmWarning: IProgress not found. Please update jupyter and ipywidgets. See https://ipywidgets.readthedocs.io/en/stable/user_install.html\n",
      "  from .autonotebook import tqdm as notebook_tqdm\n"
     ]
    }
   ],
   "source": [
    "import json\n",
    "import re\n",
    "from collections import defaultdict\n",
    "from transformers import pipeline\n",
    "import pandas as pd\n",
    "import torch\n",
    "import warnings\n",
    "from datasets import Dataset\n",
    "import matplotlib.pyplot as plt\n",
    "from tabulate import tabulate"
   ]
  },
  {
   "cell_type": "code",
   "execution_count": 2,
   "id": "fd4371a6",
   "metadata": {},
   "outputs": [
    {
     "name": "stdout",
     "output_type": "stream",
     "text": [
      "NVIDIA GeForce RTX 2060 SUPER\n"
     ]
    }
   ],
   "source": [
    "print(torch.cuda.get_device_name(0) if torch.cuda.is_available() else \"No CUDA device\")"
   ]
  },
  {
   "cell_type": "code",
   "execution_count": 3,
   "id": "6daaa3ac",
   "metadata": {},
   "outputs": [],
   "source": [
    "INPUT_PATH = \"commenti_associabili.json\"\n",
    "\n",
    "soggetti = {\n",
    "    \"stefania\": [\"stefania\", \"stefania cappa\"],\n",
    "    \"paola\": [\"paola\", \"paola cappa\"],\n",
    "    \"andrea\": [\"andrea\", \"andrea sempio\", \"sempio\"],\n",
    "    \"alberto\": [\"alberto\", \"alberto stasi\", \"stasi\"],\n",
    "    \"marco\": [\"marco\", \"marco poggi\"],\n",
    "    \"stefania e paola\": [\"stefania cappa e paola cappa\", \"stefania e paola\", \"gemelle cappa\", \"gemelle\", \"sorelle\"],\n",
    "}\n",
    "\n",
    "genere_soggetti = {\n",
    "    \"stefania\": \"femminile\",\n",
    "    \"paola\": \"femminile\",\n",
    "    \"andrea\": \"maschile\",\n",
    "    \"alberto\": \"maschile\",\n",
    "    \"marco\": \"maschile\",\n",
    "    \"stefania e paola\": \"femminile\",\n",
    "}"
   ]
  },
  {
   "cell_type": "code",
   "execution_count": 4,
   "id": "e78013d1",
   "metadata": {},
   "outputs": [],
   "source": [
    "def pulisci_testo(testo):\n",
    "    testo = testo.lower()\n",
    "    testo = re.sub(r\"http\\S+\", \"\", testo)\n",
    "    testo = re.sub(r\"@\\w+\", \"\", testo)\n",
    "    testo = re.sub(r\"[^a-zA-Zàèéìòùç0-9\\s']\", \" \", testo)\n",
    "    testo = re.sub(r\"\\s+\", \" \", testo)\n",
    "    return testo.strip()"
   ]
  },
  {
   "cell_type": "code",
   "execution_count": 5,
   "id": "e8137c37",
   "metadata": {},
   "outputs": [],
   "source": [
    "with open(INPUT_PATH, \"r\", encoding=\"utf-8\") as f:\n",
    "    all_comments = json.load(f)"
   ]
  },
  {
   "cell_type": "code",
   "execution_count": 6,
   "id": "237f41a2",
   "metadata": {},
   "outputs": [
    {
     "name": "stdout",
     "output_type": "stream",
     "text": [
      "Commenti da classificare: 14718\n"
     ]
    },
    {
     "name": "stderr",
     "output_type": "stream",
     "text": [
      "Map:   0%|          | 0/14718 [00:00<?, ? examples/s]Asking to truncate to max_length but no maximum length is provided and the model has no predefined maximum length. Default to no truncation.\n",
      "Map:   0%|          | 64/14718 [00:04<16:52, 14.47 examples/s]"
     ]
    },
    {
     "name": "stdout",
     "output_type": "stream",
     "text": [
      "Classificati 64/14718 (0.43%) commenti...\n"
     ]
    },
    {
     "name": "stderr",
     "output_type": "stream",
     "text": [
      "Map:   1%|          | 128/14718 [00:09<17:39, 13.77 examples/s]"
     ]
    },
    {
     "name": "stdout",
     "output_type": "stream",
     "text": [
      "Classificati 128/14718 (0.87%) commenti...\n"
     ]
    },
    {
     "name": "stderr",
     "output_type": "stream",
     "text": [
      "Map:   1%|▏         | 192/14718 [00:13<16:12, 14.94 examples/s]"
     ]
    },
    {
     "name": "stdout",
     "output_type": "stream",
     "text": [
      "Classificati 192/14718 (1.30%) commenti...\n"
     ]
    },
    {
     "name": "stderr",
     "output_type": "stream",
     "text": [
      "Map:   2%|▏         | 256/14718 [00:16<15:19, 15.74 examples/s]"
     ]
    },
    {
     "name": "stdout",
     "output_type": "stream",
     "text": [
      "Classificati 256/14718 (1.74%) commenti...\n"
     ]
    },
    {
     "name": "stderr",
     "output_type": "stream",
     "text": [
      "Map:   2%|▏         | 320/14718 [00:20<14:42, 16.31 examples/s]"
     ]
    },
    {
     "name": "stdout",
     "output_type": "stream",
     "text": [
      "Classificati 320/14718 (2.17%) commenti...\n"
     ]
    },
    {
     "name": "stderr",
     "output_type": "stream",
     "text": [
      "Map:   3%|▎         | 384/14718 [00:24<14:34, 16.38 examples/s]"
     ]
    },
    {
     "name": "stdout",
     "output_type": "stream",
     "text": [
      "Classificati 384/14718 (2.61%) commenti...\n"
     ]
    },
    {
     "name": "stderr",
     "output_type": "stream",
     "text": [
      "Map:   3%|▎         | 448/14718 [00:27<14:04, 16.89 examples/s]"
     ]
    },
    {
     "name": "stdout",
     "output_type": "stream",
     "text": [
      "Classificati 448/14718 (3.04%) commenti...\n"
     ]
    },
    {
     "name": "stderr",
     "output_type": "stream",
     "text": [
      "Map:   3%|▎         | 512/14718 [00:31<13:40, 17.31 examples/s]"
     ]
    },
    {
     "name": "stdout",
     "output_type": "stream",
     "text": [
      "Classificati 512/14718 (3.48%) commenti...\n"
     ]
    },
    {
     "name": "stderr",
     "output_type": "stream",
     "text": [
      "Map:   4%|▍         | 576/14718 [00:35<13:43, 17.18 examples/s]"
     ]
    },
    {
     "name": "stdout",
     "output_type": "stream",
     "text": [
      "Classificati 576/14718 (3.91%) commenti...\n"
     ]
    },
    {
     "name": "stderr",
     "output_type": "stream",
     "text": [
      "Map:   4%|▍         | 640/14718 [00:38<13:28, 17.42 examples/s]You seem to be using the pipelines sequentially on GPU. In order to maximize efficiency please use a dataset\n"
     ]
    },
    {
     "name": "stdout",
     "output_type": "stream",
     "text": [
      "Classificati 640/14718 (4.35%) commenti...\n"
     ]
    },
    {
     "name": "stderr",
     "output_type": "stream",
     "text": [
      "Map:   5%|▍         | 704/14718 [00:42<13:52, 16.83 examples/s]"
     ]
    },
    {
     "name": "stdout",
     "output_type": "stream",
     "text": [
      "Classificati 704/14718 (4.78%) commenti...\n"
     ]
    },
    {
     "name": "stderr",
     "output_type": "stream",
     "text": [
      "Map:   5%|▌         | 768/14718 [00:46<13:45, 16.90 examples/s]"
     ]
    },
    {
     "name": "stdout",
     "output_type": "stream",
     "text": [
      "Classificati 768/14718 (5.22%) commenti...\n"
     ]
    },
    {
     "name": "stderr",
     "output_type": "stream",
     "text": [
      "Map:   6%|▌         | 832/14718 [00:51<14:46, 15.67 examples/s]"
     ]
    },
    {
     "name": "stdout",
     "output_type": "stream",
     "text": [
      "Classificati 832/14718 (5.65%) commenti...\n"
     ]
    },
    {
     "name": "stderr",
     "output_type": "stream",
     "text": [
      "Map:   6%|▌         | 896/14718 [00:55<14:18, 16.11 examples/s]"
     ]
    },
    {
     "name": "stdout",
     "output_type": "stream",
     "text": [
      "Classificati 896/14718 (6.09%) commenti...\n"
     ]
    },
    {
     "name": "stderr",
     "output_type": "stream",
     "text": [
      "Map:   7%|▋         | 960/14718 [00:59<14:24, 15.92 examples/s]"
     ]
    },
    {
     "name": "stdout",
     "output_type": "stream",
     "text": [
      "Classificati 960/14718 (6.52%) commenti...\n"
     ]
    },
    {
     "name": "stderr",
     "output_type": "stream",
     "text": [
      "Map:   7%|▋         | 1024/14718 [01:02<13:56, 16.38 examples/s]"
     ]
    },
    {
     "name": "stdout",
     "output_type": "stream",
     "text": [
      "Classificati 1024/14718 (6.96%) commenti...\n"
     ]
    },
    {
     "name": "stderr",
     "output_type": "stream",
     "text": [
      "Map:   7%|▋         | 1088/14718 [01:06<13:51, 16.39 examples/s]"
     ]
    },
    {
     "name": "stdout",
     "output_type": "stream",
     "text": [
      "Classificati 1088/14718 (7.39%) commenti...\n"
     ]
    },
    {
     "name": "stderr",
     "output_type": "stream",
     "text": [
      "Map:   8%|▊         | 1152/14718 [01:10<13:27, 16.81 examples/s]"
     ]
    },
    {
     "name": "stdout",
     "output_type": "stream",
     "text": [
      "Classificati 1152/14718 (7.83%) commenti...\n"
     ]
    },
    {
     "name": "stderr",
     "output_type": "stream",
     "text": [
      "Map:   8%|▊         | 1216/14718 [01:14<13:20, 16.87 examples/s]"
     ]
    },
    {
     "name": "stdout",
     "output_type": "stream",
     "text": [
      "Classificati 1216/14718 (8.26%) commenti...\n"
     ]
    },
    {
     "name": "stderr",
     "output_type": "stream",
     "text": [
      "Map:   9%|▊         | 1280/14718 [01:17<13:21, 16.76 examples/s]"
     ]
    },
    {
     "name": "stdout",
     "output_type": "stream",
     "text": [
      "Classificati 1280/14718 (8.70%) commenti...\n"
     ]
    },
    {
     "name": "stderr",
     "output_type": "stream",
     "text": [
      "Map:   9%|▉         | 1344/14718 [01:21<13:05, 17.02 examples/s]"
     ]
    },
    {
     "name": "stdout",
     "output_type": "stream",
     "text": [
      "Classificati 1344/14718 (9.13%) commenti...\n"
     ]
    },
    {
     "name": "stderr",
     "output_type": "stream",
     "text": [
      "Map:  10%|▉         | 1408/14718 [01:25<13:07, 16.90 examples/s]"
     ]
    },
    {
     "name": "stdout",
     "output_type": "stream",
     "text": [
      "Classificati 1408/14718 (9.57%) commenti...\n"
     ]
    },
    {
     "name": "stderr",
     "output_type": "stream",
     "text": [
      "Map:  10%|█         | 1472/14718 [01:29<13:01, 16.95 examples/s]"
     ]
    },
    {
     "name": "stdout",
     "output_type": "stream",
     "text": [
      "Classificati 1472/14718 (10.00%) commenti...\n"
     ]
    },
    {
     "name": "stderr",
     "output_type": "stream",
     "text": [
      "Map:  10%|█         | 1536/14718 [01:33<13:07, 16.73 examples/s]"
     ]
    },
    {
     "name": "stdout",
     "output_type": "stream",
     "text": [
      "Classificati 1536/14718 (10.44%) commenti...\n"
     ]
    },
    {
     "name": "stderr",
     "output_type": "stream",
     "text": [
      "Map:  11%|█         | 1600/14718 [01:36<13:05, 16.69 examples/s]"
     ]
    },
    {
     "name": "stdout",
     "output_type": "stream",
     "text": [
      "Classificati 1600/14718 (10.87%) commenti...\n"
     ]
    },
    {
     "name": "stderr",
     "output_type": "stream",
     "text": [
      "Map:  11%|█▏        | 1664/14718 [01:40<12:57, 16.79 examples/s]"
     ]
    },
    {
     "name": "stdout",
     "output_type": "stream",
     "text": [
      "Classificati 1664/14718 (11.31%) commenti...\n"
     ]
    },
    {
     "name": "stderr",
     "output_type": "stream",
     "text": [
      "Map:  12%|█▏        | 1728/14718 [01:45<13:33, 15.96 examples/s]"
     ]
    },
    {
     "name": "stdout",
     "output_type": "stream",
     "text": [
      "Classificati 1728/14718 (11.74%) commenti...\n"
     ]
    },
    {
     "name": "stderr",
     "output_type": "stream",
     "text": [
      "Map:  12%|█▏        | 1792/14718 [01:48<13:09, 16.38 examples/s]"
     ]
    },
    {
     "name": "stdout",
     "output_type": "stream",
     "text": [
      "Classificati 1792/14718 (12.18%) commenti...\n"
     ]
    },
    {
     "name": "stderr",
     "output_type": "stream",
     "text": [
      "Map:  13%|█▎        | 1856/14718 [01:52<12:59, 16.51 examples/s]"
     ]
    },
    {
     "name": "stdout",
     "output_type": "stream",
     "text": [
      "Classificati 1856/14718 (12.61%) commenti...\n"
     ]
    },
    {
     "name": "stderr",
     "output_type": "stream",
     "text": [
      "Map:  13%|█▎        | 1920/14718 [01:56<13:01, 16.37 examples/s]"
     ]
    },
    {
     "name": "stdout",
     "output_type": "stream",
     "text": [
      "Classificati 1920/14718 (13.05%) commenti...\n"
     ]
    },
    {
     "name": "stderr",
     "output_type": "stream",
     "text": [
      "Map:  13%|█▎        | 1984/14718 [02:01<14:01, 15.14 examples/s]"
     ]
    },
    {
     "name": "stdout",
     "output_type": "stream",
     "text": [
      "Classificati 1984/14718 (13.48%) commenti...\n"
     ]
    },
    {
     "name": "stderr",
     "output_type": "stream",
     "text": [
      "Map:  14%|█▍        | 2048/14718 [02:05<13:54, 15.19 examples/s]"
     ]
    },
    {
     "name": "stdout",
     "output_type": "stream",
     "text": [
      "Classificati 2048/14718 (13.91%) commenti...\n"
     ]
    },
    {
     "name": "stderr",
     "output_type": "stream",
     "text": [
      "Map:  14%|█▍        | 2112/14718 [02:10<14:03, 14.94 examples/s]"
     ]
    },
    {
     "name": "stdout",
     "output_type": "stream",
     "text": [
      "Classificati 2112/14718 (14.35%) commenti...\n"
     ]
    },
    {
     "name": "stderr",
     "output_type": "stream",
     "text": [
      "Map:  15%|█▍        | 2176/14718 [02:14<13:34, 15.40 examples/s]"
     ]
    },
    {
     "name": "stdout",
     "output_type": "stream",
     "text": [
      "Classificati 2176/14718 (14.78%) commenti...\n"
     ]
    },
    {
     "name": "stderr",
     "output_type": "stream",
     "text": [
      "Map:  15%|█▌        | 2240/14718 [02:18<13:32, 15.36 examples/s]"
     ]
    },
    {
     "name": "stdout",
     "output_type": "stream",
     "text": [
      "Classificati 2240/14718 (15.22%) commenti...\n"
     ]
    },
    {
     "name": "stderr",
     "output_type": "stream",
     "text": [
      "Map:  16%|█▌        | 2304/14718 [02:22<13:27, 15.36 examples/s]"
     ]
    },
    {
     "name": "stdout",
     "output_type": "stream",
     "text": [
      "Classificati 2304/14718 (15.65%) commenti...\n"
     ]
    },
    {
     "name": "stderr",
     "output_type": "stream",
     "text": [
      "Map:  16%|█▌        | 2368/14718 [02:26<13:11, 15.61 examples/s]"
     ]
    },
    {
     "name": "stdout",
     "output_type": "stream",
     "text": [
      "Classificati 2368/14718 (16.09%) commenti...\n"
     ]
    },
    {
     "name": "stderr",
     "output_type": "stream",
     "text": [
      "Map:  17%|█▋        | 2432/14718 [02:30<12:52, 15.89 examples/s]"
     ]
    },
    {
     "name": "stdout",
     "output_type": "stream",
     "text": [
      "Classificati 2432/14718 (16.52%) commenti...\n"
     ]
    },
    {
     "name": "stderr",
     "output_type": "stream",
     "text": [
      "Map:  17%|█▋        | 2496/14718 [02:34<12:47, 15.92 examples/s]"
     ]
    },
    {
     "name": "stdout",
     "output_type": "stream",
     "text": [
      "Classificati 2496/14718 (16.96%) commenti...\n"
     ]
    },
    {
     "name": "stderr",
     "output_type": "stream",
     "text": [
      "Map:  17%|█▋        | 2560/14718 [02:37<12:24, 16.32 examples/s]"
     ]
    },
    {
     "name": "stdout",
     "output_type": "stream",
     "text": [
      "Classificati 2560/14718 (17.39%) commenti...\n"
     ]
    },
    {
     "name": "stderr",
     "output_type": "stream",
     "text": [
      "Map:  18%|█▊        | 2624/14718 [02:41<12:23, 16.27 examples/s]"
     ]
    },
    {
     "name": "stdout",
     "output_type": "stream",
     "text": [
      "Classificati 2624/14718 (17.83%) commenti...\n"
     ]
    },
    {
     "name": "stderr",
     "output_type": "stream",
     "text": [
      "Map:  18%|█▊        | 2688/14718 [02:46<12:30, 16.03 examples/s]"
     ]
    },
    {
     "name": "stdout",
     "output_type": "stream",
     "text": [
      "Classificati 2688/14718 (18.26%) commenti...\n"
     ]
    },
    {
     "name": "stderr",
     "output_type": "stream",
     "text": [
      "Map:  19%|█▊        | 2752/14718 [02:49<12:07, 16.45 examples/s]"
     ]
    },
    {
     "name": "stdout",
     "output_type": "stream",
     "text": [
      "Classificati 2752/14718 (18.70%) commenti...\n"
     ]
    },
    {
     "name": "stderr",
     "output_type": "stream",
     "text": [
      "Map:  19%|█▉        | 2816/14718 [02:53<11:42, 16.93 examples/s]"
     ]
    },
    {
     "name": "stdout",
     "output_type": "stream",
     "text": [
      "Classificati 2816/14718 (19.13%) commenti...\n"
     ]
    },
    {
     "name": "stderr",
     "output_type": "stream",
     "text": [
      "Map:  20%|█▉        | 2880/14718 [02:57<11:40, 16.89 examples/s]"
     ]
    },
    {
     "name": "stdout",
     "output_type": "stream",
     "text": [
      "Classificati 2880/14718 (19.57%) commenti...\n"
     ]
    },
    {
     "name": "stderr",
     "output_type": "stream",
     "text": [
      "Map:  20%|██        | 2944/14718 [03:00<11:19, 17.33 examples/s]"
     ]
    },
    {
     "name": "stdout",
     "output_type": "stream",
     "text": [
      "Classificati 2944/14718 (20.00%) commenti...\n"
     ]
    },
    {
     "name": "stderr",
     "output_type": "stream",
     "text": [
      "Map:  20%|██        | 3008/14718 [03:04<11:32, 16.92 examples/s]"
     ]
    },
    {
     "name": "stdout",
     "output_type": "stream",
     "text": [
      "Classificati 3008/14718 (20.44%) commenti...\n"
     ]
    },
    {
     "name": "stderr",
     "output_type": "stream",
     "text": [
      "Map:  21%|██        | 3072/14718 [03:08<11:32, 16.81 examples/s]"
     ]
    },
    {
     "name": "stdout",
     "output_type": "stream",
     "text": [
      "Classificati 3072/14718 (20.87%) commenti...\n"
     ]
    },
    {
     "name": "stderr",
     "output_type": "stream",
     "text": [
      "Map:  21%|██▏       | 3136/14718 [03:11<11:17, 17.10 examples/s]"
     ]
    },
    {
     "name": "stdout",
     "output_type": "stream",
     "text": [
      "Classificati 3136/14718 (21.31%) commenti...\n"
     ]
    },
    {
     "name": "stderr",
     "output_type": "stream",
     "text": [
      "Map:  22%|██▏       | 3200/14718 [03:16<11:33, 16.60 examples/s]"
     ]
    },
    {
     "name": "stdout",
     "output_type": "stream",
     "text": [
      "Classificati 3200/14718 (21.74%) commenti...\n"
     ]
    },
    {
     "name": "stderr",
     "output_type": "stream",
     "text": [
      "Map:  22%|██▏       | 3264/14718 [03:20<12:00, 15.89 examples/s]"
     ]
    },
    {
     "name": "stdout",
     "output_type": "stream",
     "text": [
      "Classificati 3264/14718 (22.18%) commenti...\n"
     ]
    },
    {
     "name": "stderr",
     "output_type": "stream",
     "text": [
      "Map:  23%|██▎       | 3328/14718 [03:24<11:36, 16.35 examples/s]"
     ]
    },
    {
     "name": "stdout",
     "output_type": "stream",
     "text": [
      "Classificati 3328/14718 (22.61%) commenti...\n"
     ]
    },
    {
     "name": "stderr",
     "output_type": "stream",
     "text": [
      "Map:  23%|██▎       | 3392/14718 [03:28<11:43, 16.11 examples/s]"
     ]
    },
    {
     "name": "stdout",
     "output_type": "stream",
     "text": [
      "Classificati 3392/14718 (23.05%) commenti...\n"
     ]
    },
    {
     "name": "stderr",
     "output_type": "stream",
     "text": [
      "Map:  23%|██▎       | 3456/14718 [03:32<12:03, 15.57 examples/s]"
     ]
    },
    {
     "name": "stdout",
     "output_type": "stream",
     "text": [
      "Classificati 3456/14718 (23.48%) commenti...\n"
     ]
    },
    {
     "name": "stderr",
     "output_type": "stream",
     "text": [
      "Map:  24%|██▍       | 3520/14718 [03:37<12:10, 15.33 examples/s]"
     ]
    },
    {
     "name": "stdout",
     "output_type": "stream",
     "text": [
      "Classificati 3520/14718 (23.92%) commenti...\n"
     ]
    },
    {
     "name": "stderr",
     "output_type": "stream",
     "text": [
      "Map:  24%|██▍       | 3584/14718 [03:41<12:12, 15.20 examples/s]"
     ]
    },
    {
     "name": "stdout",
     "output_type": "stream",
     "text": [
      "Classificati 3584/14718 (24.35%) commenti...\n"
     ]
    },
    {
     "name": "stderr",
     "output_type": "stream",
     "text": [
      "Map:  25%|██▍       | 3648/14718 [03:45<12:22, 14.91 examples/s]"
     ]
    },
    {
     "name": "stdout",
     "output_type": "stream",
     "text": [
      "Classificati 3648/14718 (24.79%) commenti...\n"
     ]
    },
    {
     "name": "stderr",
     "output_type": "stream",
     "text": [
      "Map:  25%|██▌       | 3712/14718 [03:49<12:08, 15.11 examples/s]"
     ]
    },
    {
     "name": "stdout",
     "output_type": "stream",
     "text": [
      "Classificati 3712/14718 (25.22%) commenti...\n"
     ]
    },
    {
     "name": "stderr",
     "output_type": "stream",
     "text": [
      "Map:  26%|██▌       | 3776/14718 [03:54<12:11, 14.96 examples/s]"
     ]
    },
    {
     "name": "stdout",
     "output_type": "stream",
     "text": [
      "Classificati 3776/14718 (25.66%) commenti...\n"
     ]
    },
    {
     "name": "stderr",
     "output_type": "stream",
     "text": [
      "Map:  26%|██▌       | 3840/14718 [03:58<12:01, 15.07 examples/s]"
     ]
    },
    {
     "name": "stdout",
     "output_type": "stream",
     "text": [
      "Classificati 3840/14718 (26.09%) commenti...\n"
     ]
    },
    {
     "name": "stderr",
     "output_type": "stream",
     "text": [
      "Map:  27%|██▋       | 3904/14718 [04:02<11:53, 15.15 examples/s]"
     ]
    },
    {
     "name": "stdout",
     "output_type": "stream",
     "text": [
      "Classificati 3904/14718 (26.53%) commenti...\n"
     ]
    },
    {
     "name": "stderr",
     "output_type": "stream",
     "text": [
      "Map:  27%|██▋       | 3968/14718 [04:07<11:59, 14.93 examples/s]"
     ]
    },
    {
     "name": "stdout",
     "output_type": "stream",
     "text": [
      "Classificati 3968/14718 (26.96%) commenti...\n"
     ]
    },
    {
     "name": "stderr",
     "output_type": "stream",
     "text": [
      "Map:  27%|██▋       | 4032/14718 [04:10<11:36, 15.34 examples/s]"
     ]
    },
    {
     "name": "stdout",
     "output_type": "stream",
     "text": [
      "Classificati 4032/14718 (27.40%) commenti...\n"
     ]
    },
    {
     "name": "stderr",
     "output_type": "stream",
     "text": [
      "Map:  28%|██▊       | 4096/14718 [04:15<11:48, 15.00 examples/s]"
     ]
    },
    {
     "name": "stdout",
     "output_type": "stream",
     "text": [
      "Classificati 4096/14718 (27.83%) commenti...\n"
     ]
    },
    {
     "name": "stderr",
     "output_type": "stream",
     "text": [
      "Map:  28%|██▊       | 4160/14718 [04:20<12:24, 14.18 examples/s]"
     ]
    },
    {
     "name": "stdout",
     "output_type": "stream",
     "text": [
      "Classificati 4160/14718 (28.26%) commenti...\n"
     ]
    },
    {
     "name": "stderr",
     "output_type": "stream",
     "text": [
      "Map:  29%|██▊       | 4224/14718 [04:26<13:14, 13.21 examples/s]"
     ]
    },
    {
     "name": "stdout",
     "output_type": "stream",
     "text": [
      "Classificati 4224/14718 (28.70%) commenti...\n"
     ]
    },
    {
     "name": "stderr",
     "output_type": "stream",
     "text": [
      "Map:  29%|██▉       | 4288/14718 [04:30<12:35, 13.81 examples/s]"
     ]
    },
    {
     "name": "stdout",
     "output_type": "stream",
     "text": [
      "Classificati 4288/14718 (29.13%) commenti...\n"
     ]
    },
    {
     "name": "stderr",
     "output_type": "stream",
     "text": [
      "Map:  30%|██▉       | 4352/14718 [04:35<13:08, 13.15 examples/s]"
     ]
    },
    {
     "name": "stdout",
     "output_type": "stream",
     "text": [
      "Classificati 4352/14718 (29.57%) commenti...\n"
     ]
    },
    {
     "name": "stderr",
     "output_type": "stream",
     "text": [
      "Map:  30%|███       | 4416/14718 [04:39<12:16, 13.98 examples/s]"
     ]
    },
    {
     "name": "stdout",
     "output_type": "stream",
     "text": [
      "Classificati 4416/14718 (30.00%) commenti...\n"
     ]
    },
    {
     "name": "stderr",
     "output_type": "stream",
     "text": [
      "Map:  30%|███       | 4480/14718 [04:43<11:55, 14.31 examples/s]"
     ]
    },
    {
     "name": "stdout",
     "output_type": "stream",
     "text": [
      "Classificati 4480/14718 (30.44%) commenti...\n"
     ]
    },
    {
     "name": "stderr",
     "output_type": "stream",
     "text": [
      "Map:  31%|███       | 4544/14718 [04:48<11:44, 14.43 examples/s]"
     ]
    },
    {
     "name": "stdout",
     "output_type": "stream",
     "text": [
      "Classificati 4544/14718 (30.87%) commenti...\n"
     ]
    },
    {
     "name": "stderr",
     "output_type": "stream",
     "text": [
      "Map:  31%|███▏      | 4608/14718 [04:52<11:25, 14.76 examples/s]"
     ]
    },
    {
     "name": "stdout",
     "output_type": "stream",
     "text": [
      "Classificati 4608/14718 (31.31%) commenti...\n"
     ]
    },
    {
     "name": "stderr",
     "output_type": "stream",
     "text": [
      "Map:  32%|███▏      | 4672/14718 [04:56<11:23, 14.70 examples/s]"
     ]
    },
    {
     "name": "stdout",
     "output_type": "stream",
     "text": [
      "Classificati 4672/14718 (31.74%) commenti...\n"
     ]
    },
    {
     "name": "stderr",
     "output_type": "stream",
     "text": [
      "Map:  32%|███▏      | 4736/14718 [05:01<11:27, 14.52 examples/s]"
     ]
    },
    {
     "name": "stdout",
     "output_type": "stream",
     "text": [
      "Classificati 4736/14718 (32.18%) commenti...\n"
     ]
    },
    {
     "name": "stderr",
     "output_type": "stream",
     "text": [
      "Map:  33%|███▎      | 4800/14718 [05:05<11:07, 14.85 examples/s]"
     ]
    },
    {
     "name": "stdout",
     "output_type": "stream",
     "text": [
      "Classificati 4800/14718 (32.61%) commenti...\n"
     ]
    },
    {
     "name": "stderr",
     "output_type": "stream",
     "text": [
      "Map:  33%|███▎      | 4864/14718 [05:09<10:56, 15.01 examples/s]"
     ]
    },
    {
     "name": "stdout",
     "output_type": "stream",
     "text": [
      "Classificati 4864/14718 (33.05%) commenti...\n"
     ]
    },
    {
     "name": "stderr",
     "output_type": "stream",
     "text": [
      "Map:  33%|███▎      | 4928/14718 [05:13<11:01, 14.80 examples/s]"
     ]
    },
    {
     "name": "stdout",
     "output_type": "stream",
     "text": [
      "Classificati 4928/14718 (33.48%) commenti...\n"
     ]
    },
    {
     "name": "stderr",
     "output_type": "stream",
     "text": [
      "Map:  34%|███▍      | 4992/14718 [05:17<10:43, 15.11 examples/s]"
     ]
    },
    {
     "name": "stdout",
     "output_type": "stream",
     "text": [
      "Classificati 4992/14718 (33.92%) commenti...\n"
     ]
    },
    {
     "name": "stderr",
     "output_type": "stream",
     "text": [
      "Map:  34%|███▍      | 5056/14718 [05:21<10:27, 15.40 examples/s]"
     ]
    },
    {
     "name": "stdout",
     "output_type": "stream",
     "text": [
      "Classificati 5056/14718 (34.35%) commenti...\n"
     ]
    },
    {
     "name": "stderr",
     "output_type": "stream",
     "text": [
      "Map:  35%|███▍      | 5120/14718 [05:25<09:56, 16.09 examples/s]"
     ]
    },
    {
     "name": "stdout",
     "output_type": "stream",
     "text": [
      "Classificati 5120/14718 (34.79%) commenti...\n"
     ]
    },
    {
     "name": "stderr",
     "output_type": "stream",
     "text": [
      "Map:  35%|███▌      | 5184/14718 [05:28<09:27, 16.81 examples/s]"
     ]
    },
    {
     "name": "stdout",
     "output_type": "stream",
     "text": [
      "Classificati 5184/14718 (35.22%) commenti...\n"
     ]
    },
    {
     "name": "stderr",
     "output_type": "stream",
     "text": [
      "Map:  36%|███▌      | 5248/14718 [05:32<09:10, 17.21 examples/s]"
     ]
    },
    {
     "name": "stdout",
     "output_type": "stream",
     "text": [
      "Classificati 5248/14718 (35.66%) commenti...\n"
     ]
    },
    {
     "name": "stderr",
     "output_type": "stream",
     "text": [
      "Map:  36%|███▌      | 5312/14718 [05:36<09:01, 17.39 examples/s]"
     ]
    },
    {
     "name": "stdout",
     "output_type": "stream",
     "text": [
      "Classificati 5312/14718 (36.09%) commenti...\n"
     ]
    },
    {
     "name": "stderr",
     "output_type": "stream",
     "text": [
      "Map:  37%|███▋      | 5376/14718 [05:39<08:49, 17.65 examples/s]"
     ]
    },
    {
     "name": "stdout",
     "output_type": "stream",
     "text": [
      "Classificati 5376/14718 (36.53%) commenti...\n"
     ]
    },
    {
     "name": "stderr",
     "output_type": "stream",
     "text": [
      "Map:  37%|███▋      | 5440/14718 [05:43<08:41, 17.78 examples/s]"
     ]
    },
    {
     "name": "stdout",
     "output_type": "stream",
     "text": [
      "Classificati 5440/14718 (36.96%) commenti...\n"
     ]
    },
    {
     "name": "stderr",
     "output_type": "stream",
     "text": [
      "Map:  37%|███▋      | 5504/14718 [05:46<08:42, 17.63 examples/s]"
     ]
    },
    {
     "name": "stdout",
     "output_type": "stream",
     "text": [
      "Classificati 5504/14718 (37.40%) commenti...\n"
     ]
    },
    {
     "name": "stderr",
     "output_type": "stream",
     "text": [
      "Map:  38%|███▊      | 5568/14718 [05:50<08:40, 17.59 examples/s]"
     ]
    },
    {
     "name": "stdout",
     "output_type": "stream",
     "text": [
      "Classificati 5568/14718 (37.83%) commenti...\n"
     ]
    },
    {
     "name": "stderr",
     "output_type": "stream",
     "text": [
      "Map:  38%|███▊      | 5632/14718 [05:53<08:31, 17.76 examples/s]"
     ]
    },
    {
     "name": "stdout",
     "output_type": "stream",
     "text": [
      "Classificati 5632/14718 (38.27%) commenti...\n"
     ]
    },
    {
     "name": "stderr",
     "output_type": "stream",
     "text": [
      "Map:  39%|███▊      | 5696/14718 [05:57<08:30, 17.69 examples/s]"
     ]
    },
    {
     "name": "stdout",
     "output_type": "stream",
     "text": [
      "Classificati 5696/14718 (38.70%) commenti...\n"
     ]
    },
    {
     "name": "stderr",
     "output_type": "stream",
     "text": [
      "Map:  39%|███▉      | 5760/14718 [06:01<08:29, 17.58 examples/s]"
     ]
    },
    {
     "name": "stdout",
     "output_type": "stream",
     "text": [
      "Classificati 5760/14718 (39.14%) commenti...\n"
     ]
    },
    {
     "name": "stderr",
     "output_type": "stream",
     "text": [
      "Map:  40%|███▉      | 5824/14718 [06:05<08:52, 16.70 examples/s]"
     ]
    },
    {
     "name": "stdout",
     "output_type": "stream",
     "text": [
      "Classificati 5824/14718 (39.57%) commenti...\n"
     ]
    },
    {
     "name": "stderr",
     "output_type": "stream",
     "text": [
      "Map:  40%|████      | 5888/14718 [06:09<08:58, 16.40 examples/s]"
     ]
    },
    {
     "name": "stdout",
     "output_type": "stream",
     "text": [
      "Classificati 5888/14718 (40.01%) commenti...\n"
     ]
    },
    {
     "name": "stderr",
     "output_type": "stream",
     "text": [
      "Map:  40%|████      | 5952/14718 [06:13<08:53, 16.43 examples/s]"
     ]
    },
    {
     "name": "stdout",
     "output_type": "stream",
     "text": [
      "Classificati 5952/14718 (40.44%) commenti...\n"
     ]
    },
    {
     "name": "stderr",
     "output_type": "stream",
     "text": [
      "Map:  41%|████      | 6016/14718 [06:17<08:47, 16.50 examples/s]"
     ]
    },
    {
     "name": "stdout",
     "output_type": "stream",
     "text": [
      "Classificati 6016/14718 (40.88%) commenti...\n"
     ]
    },
    {
     "name": "stderr",
     "output_type": "stream",
     "text": [
      "Map:  41%|████▏     | 6080/14718 [06:20<08:28, 16.98 examples/s]"
     ]
    },
    {
     "name": "stdout",
     "output_type": "stream",
     "text": [
      "Classificati 6080/14718 (41.31%) commenti...\n"
     ]
    },
    {
     "name": "stderr",
     "output_type": "stream",
     "text": [
      "Map:  42%|████▏     | 6144/14718 [06:25<08:48, 16.22 examples/s]"
     ]
    },
    {
     "name": "stdout",
     "output_type": "stream",
     "text": [
      "Classificati 6144/14718 (41.74%) commenti...\n"
     ]
    },
    {
     "name": "stderr",
     "output_type": "stream",
     "text": [
      "Map:  42%|████▏     | 6208/14718 [06:29<08:49, 16.08 examples/s]"
     ]
    },
    {
     "name": "stdout",
     "output_type": "stream",
     "text": [
      "Classificati 6208/14718 (42.18%) commenti...\n"
     ]
    },
    {
     "name": "stderr",
     "output_type": "stream",
     "text": [
      "Map:  43%|████▎     | 6272/14718 [06:34<09:24, 14.96 examples/s]"
     ]
    },
    {
     "name": "stdout",
     "output_type": "stream",
     "text": [
      "Classificati 6272/14718 (42.61%) commenti...\n"
     ]
    },
    {
     "name": "stderr",
     "output_type": "stream",
     "text": [
      "Map:  43%|████▎     | 6336/14718 [06:39<09:58, 14.00 examples/s]"
     ]
    },
    {
     "name": "stdout",
     "output_type": "stream",
     "text": [
      "Classificati 6336/14718 (43.05%) commenti...\n"
     ]
    },
    {
     "name": "stderr",
     "output_type": "stream",
     "text": [
      "Map:  43%|████▎     | 6400/14718 [06:44<10:10, 13.62 examples/s]"
     ]
    },
    {
     "name": "stdout",
     "output_type": "stream",
     "text": [
      "Classificati 6400/14718 (43.48%) commenti...\n"
     ]
    },
    {
     "name": "stderr",
     "output_type": "stream",
     "text": [
      "Map:  44%|████▍     | 6464/14718 [06:49<10:09, 13.53 examples/s]"
     ]
    },
    {
     "name": "stdout",
     "output_type": "stream",
     "text": [
      "Classificati 6464/14718 (43.92%) commenti...\n"
     ]
    },
    {
     "name": "stderr",
     "output_type": "stream",
     "text": [
      "Map:  44%|████▍     | 6528/14718 [06:53<09:50, 13.86 examples/s]"
     ]
    },
    {
     "name": "stdout",
     "output_type": "stream",
     "text": [
      "Classificati 6528/14718 (44.35%) commenti...\n"
     ]
    },
    {
     "name": "stderr",
     "output_type": "stream",
     "text": [
      "Map:  45%|████▍     | 6592/14718 [06:57<09:17, 14.57 examples/s]"
     ]
    },
    {
     "name": "stdout",
     "output_type": "stream",
     "text": [
      "Classificati 6592/14718 (44.79%) commenti...\n"
     ]
    },
    {
     "name": "stderr",
     "output_type": "stream",
     "text": [
      "Map:  45%|████▌     | 6656/14718 [07:02<09:20, 14.39 examples/s]"
     ]
    },
    {
     "name": "stdout",
     "output_type": "stream",
     "text": [
      "Classificati 6656/14718 (45.22%) commenti...\n"
     ]
    },
    {
     "name": "stderr",
     "output_type": "stream",
     "text": [
      "Map:  46%|████▌     | 6720/14718 [07:05<08:50, 15.07 examples/s]"
     ]
    },
    {
     "name": "stdout",
     "output_type": "stream",
     "text": [
      "Classificati 6720/14718 (45.66%) commenti...\n"
     ]
    },
    {
     "name": "stderr",
     "output_type": "stream",
     "text": [
      "Map:  46%|████▌     | 6784/14718 [07:09<08:29, 15.57 examples/s]"
     ]
    },
    {
     "name": "stdout",
     "output_type": "stream",
     "text": [
      "Classificati 6784/14718 (46.09%) commenti...\n"
     ]
    },
    {
     "name": "stderr",
     "output_type": "stream",
     "text": [
      "Map:  47%|████▋     | 6848/14718 [07:14<08:54, 14.73 examples/s]"
     ]
    },
    {
     "name": "stdout",
     "output_type": "stream",
     "text": [
      "Classificati 6848/14718 (46.53%) commenti...\n"
     ]
    },
    {
     "name": "stderr",
     "output_type": "stream",
     "text": [
      "Map:  47%|████▋     | 6912/14718 [07:18<08:27, 15.39 examples/s]"
     ]
    },
    {
     "name": "stdout",
     "output_type": "stream",
     "text": [
      "Classificati 6912/14718 (46.96%) commenti...\n"
     ]
    },
    {
     "name": "stderr",
     "output_type": "stream",
     "text": [
      "Map:  47%|████▋     | 6976/14718 [07:22<08:17, 15.57 examples/s]"
     ]
    },
    {
     "name": "stdout",
     "output_type": "stream",
     "text": [
      "Classificati 6976/14718 (47.40%) commenti...\n"
     ]
    },
    {
     "name": "stderr",
     "output_type": "stream",
     "text": [
      "Map:  48%|████▊     | 7040/14718 [07:26<08:05, 15.83 examples/s]"
     ]
    },
    {
     "name": "stdout",
     "output_type": "stream",
     "text": [
      "Classificati 7040/14718 (47.83%) commenti...\n"
     ]
    },
    {
     "name": "stderr",
     "output_type": "stream",
     "text": [
      "Map:  48%|████▊     | 7104/14718 [07:29<07:52, 16.11 examples/s]"
     ]
    },
    {
     "name": "stdout",
     "output_type": "stream",
     "text": [
      "Classificati 7104/14718 (48.27%) commenti...\n"
     ]
    },
    {
     "name": "stderr",
     "output_type": "stream",
     "text": [
      "Map:  49%|████▊     | 7168/14718 [07:33<07:42, 16.31 examples/s]"
     ]
    },
    {
     "name": "stdout",
     "output_type": "stream",
     "text": [
      "Classificati 7168/14718 (48.70%) commenti...\n"
     ]
    },
    {
     "name": "stderr",
     "output_type": "stream",
     "text": [
      "Map:  49%|████▉     | 7232/14718 [07:38<08:14, 15.14 examples/s]"
     ]
    },
    {
     "name": "stdout",
     "output_type": "stream",
     "text": [
      "Classificati 7232/14718 (49.14%) commenti...\n"
     ]
    },
    {
     "name": "stderr",
     "output_type": "stream",
     "text": [
      "Map:  50%|████▉     | 7296/14718 [07:43<08:11, 15.09 examples/s]"
     ]
    },
    {
     "name": "stdout",
     "output_type": "stream",
     "text": [
      "Classificati 7296/14718 (49.57%) commenti...\n"
     ]
    },
    {
     "name": "stderr",
     "output_type": "stream",
     "text": [
      "Map:  50%|█████     | 7360/14718 [07:46<07:48, 15.71 examples/s]"
     ]
    },
    {
     "name": "stdout",
     "output_type": "stream",
     "text": [
      "Classificati 7360/14718 (50.01%) commenti...\n"
     ]
    },
    {
     "name": "stderr",
     "output_type": "stream",
     "text": [
      "Map:  50%|█████     | 7424/14718 [07:50<07:30, 16.21 examples/s]"
     ]
    },
    {
     "name": "stdout",
     "output_type": "stream",
     "text": [
      "Classificati 7424/14718 (50.44%) commenti...\n"
     ]
    },
    {
     "name": "stderr",
     "output_type": "stream",
     "text": [
      "Map:  51%|█████     | 7488/14718 [07:54<07:22, 16.33 examples/s]"
     ]
    },
    {
     "name": "stdout",
     "output_type": "stream",
     "text": [
      "Classificati 7488/14718 (50.88%) commenti...\n"
     ]
    },
    {
     "name": "stderr",
     "output_type": "stream",
     "text": [
      "Map:  51%|█████▏    | 7552/14718 [07:57<07:14, 16.51 examples/s]"
     ]
    },
    {
     "name": "stdout",
     "output_type": "stream",
     "text": [
      "Classificati 7552/14718 (51.31%) commenti...\n"
     ]
    },
    {
     "name": "stderr",
     "output_type": "stream",
     "text": [
      "Map:  52%|█████▏    | 7616/14718 [08:01<06:57, 17.00 examples/s]"
     ]
    },
    {
     "name": "stdout",
     "output_type": "stream",
     "text": [
      "Classificati 7616/14718 (51.75%) commenti...\n"
     ]
    },
    {
     "name": "stderr",
     "output_type": "stream",
     "text": [
      "Map:  52%|█████▏    | 7680/14718 [08:05<07:00, 16.75 examples/s]"
     ]
    },
    {
     "name": "stdout",
     "output_type": "stream",
     "text": [
      "Classificati 7680/14718 (52.18%) commenti...\n"
     ]
    },
    {
     "name": "stderr",
     "output_type": "stream",
     "text": [
      "Map:  53%|█████▎    | 7744/14718 [08:09<07:02, 16.51 examples/s]"
     ]
    },
    {
     "name": "stdout",
     "output_type": "stream",
     "text": [
      "Classificati 7744/14718 (52.62%) commenti...\n"
     ]
    },
    {
     "name": "stderr",
     "output_type": "stream",
     "text": [
      "Map:  53%|█████▎    | 7808/14718 [08:13<06:53, 16.70 examples/s]"
     ]
    },
    {
     "name": "stdout",
     "output_type": "stream",
     "text": [
      "Classificati 7808/14718 (53.05%) commenti...\n"
     ]
    },
    {
     "name": "stderr",
     "output_type": "stream",
     "text": [
      "Map:  53%|█████▎    | 7872/14718 [08:17<07:04, 16.11 examples/s]"
     ]
    },
    {
     "name": "stdout",
     "output_type": "stream",
     "text": [
      "Classificati 7872/14718 (53.49%) commenti...\n"
     ]
    },
    {
     "name": "stderr",
     "output_type": "stream",
     "text": [
      "Map:  54%|█████▍    | 7936/14718 [08:21<06:49, 16.54 examples/s]"
     ]
    },
    {
     "name": "stdout",
     "output_type": "stream",
     "text": [
      "Classificati 7936/14718 (53.92%) commenti...\n"
     ]
    },
    {
     "name": "stderr",
     "output_type": "stream",
     "text": [
      "Map:  54%|█████▍    | 8000/14718 [08:25<06:47, 16.48 examples/s]"
     ]
    },
    {
     "name": "stdout",
     "output_type": "stream",
     "text": [
      "Classificati 8000/14718 (54.36%) commenti...\n"
     ]
    },
    {
     "name": "stderr",
     "output_type": "stream",
     "text": [
      "Map:  55%|█████▍    | 8064/14718 [08:28<06:42, 16.52 examples/s]"
     ]
    },
    {
     "name": "stdout",
     "output_type": "stream",
     "text": [
      "Classificati 8064/14718 (54.79%) commenti...\n"
     ]
    },
    {
     "name": "stderr",
     "output_type": "stream",
     "text": [
      "Map:  55%|█████▌    | 8128/14718 [08:32<06:33, 16.75 examples/s]"
     ]
    },
    {
     "name": "stdout",
     "output_type": "stream",
     "text": [
      "Classificati 8128/14718 (55.22%) commenti...\n"
     ]
    },
    {
     "name": "stderr",
     "output_type": "stream",
     "text": [
      "Map:  56%|█████▌    | 8192/14718 [08:36<06:33, 16.57 examples/s]"
     ]
    },
    {
     "name": "stdout",
     "output_type": "stream",
     "text": [
      "Classificati 8192/14718 (55.66%) commenti...\n"
     ]
    },
    {
     "name": "stderr",
     "output_type": "stream",
     "text": [
      "Map:  56%|█████▌    | 8256/14718 [08:40<06:33, 16.42 examples/s]"
     ]
    },
    {
     "name": "stdout",
     "output_type": "stream",
     "text": [
      "Classificati 8256/14718 (56.09%) commenti...\n"
     ]
    },
    {
     "name": "stderr",
     "output_type": "stream",
     "text": [
      "Map:  57%|█████▋    | 8320/14718 [08:44<06:26, 16.57 examples/s]"
     ]
    },
    {
     "name": "stdout",
     "output_type": "stream",
     "text": [
      "Classificati 8320/14718 (56.53%) commenti...\n"
     ]
    },
    {
     "name": "stderr",
     "output_type": "stream",
     "text": [
      "Map:  57%|█████▋    | 8384/14718 [08:48<06:27, 16.33 examples/s]"
     ]
    },
    {
     "name": "stdout",
     "output_type": "stream",
     "text": [
      "Classificati 8384/14718 (56.96%) commenti...\n"
     ]
    },
    {
     "name": "stderr",
     "output_type": "stream",
     "text": [
      "Map:  57%|█████▋    | 8448/14718 [08:52<06:35, 15.87 examples/s]"
     ]
    },
    {
     "name": "stdout",
     "output_type": "stream",
     "text": [
      "Classificati 8448/14718 (57.40%) commenti...\n"
     ]
    },
    {
     "name": "stderr",
     "output_type": "stream",
     "text": [
      "Map:  58%|█████▊    | 8512/14718 [08:56<06:27, 16.00 examples/s]"
     ]
    },
    {
     "name": "stdout",
     "output_type": "stream",
     "text": [
      "Classificati 8512/14718 (57.83%) commenti...\n"
     ]
    },
    {
     "name": "stderr",
     "output_type": "stream",
     "text": [
      "Map:  58%|█████▊    | 8576/14718 [09:00<06:13, 16.43 examples/s]"
     ]
    },
    {
     "name": "stdout",
     "output_type": "stream",
     "text": [
      "Classificati 8576/14718 (58.27%) commenti...\n"
     ]
    },
    {
     "name": "stderr",
     "output_type": "stream",
     "text": [
      "Map:  59%|█████▊    | 8640/14718 [09:04<06:10, 16.42 examples/s]"
     ]
    },
    {
     "name": "stdout",
     "output_type": "stream",
     "text": [
      "Classificati 8640/14718 (58.70%) commenti...\n"
     ]
    },
    {
     "name": "stderr",
     "output_type": "stream",
     "text": [
      "Map:  59%|█████▉    | 8704/14718 [09:08<06:09, 16.26 examples/s]"
     ]
    },
    {
     "name": "stdout",
     "output_type": "stream",
     "text": [
      "Classificati 8704/14718 (59.14%) commenti...\n"
     ]
    },
    {
     "name": "stderr",
     "output_type": "stream",
     "text": [
      "Map:  60%|█████▉    | 8768/14718 [09:12<06:04, 16.32 examples/s]"
     ]
    },
    {
     "name": "stdout",
     "output_type": "stream",
     "text": [
      "Classificati 8768/14718 (59.57%) commenti...\n"
     ]
    },
    {
     "name": "stderr",
     "output_type": "stream",
     "text": [
      "Map:  60%|██████    | 8832/14718 [09:15<05:53, 16.67 examples/s]"
     ]
    },
    {
     "name": "stdout",
     "output_type": "stream",
     "text": [
      "Classificati 8832/14718 (60.01%) commenti...\n"
     ]
    },
    {
     "name": "stderr",
     "output_type": "stream",
     "text": [
      "Map:  60%|██████    | 8896/14718 [09:19<05:49, 16.67 examples/s]"
     ]
    },
    {
     "name": "stdout",
     "output_type": "stream",
     "text": [
      "Classificati 8896/14718 (60.44%) commenti...\n"
     ]
    },
    {
     "name": "stderr",
     "output_type": "stream",
     "text": [
      "Map:  61%|██████    | 8960/14718 [09:23<05:46, 16.64 examples/s]"
     ]
    },
    {
     "name": "stdout",
     "output_type": "stream",
     "text": [
      "Classificati 8960/14718 (60.88%) commenti...\n"
     ]
    },
    {
     "name": "stderr",
     "output_type": "stream",
     "text": [
      "Map:  61%|██████▏   | 9024/14718 [09:27<05:56, 15.96 examples/s]"
     ]
    },
    {
     "name": "stdout",
     "output_type": "stream",
     "text": [
      "Classificati 9024/14718 (61.31%) commenti...\n"
     ]
    },
    {
     "name": "stderr",
     "output_type": "stream",
     "text": [
      "Map:  62%|██████▏   | 9088/14718 [09:31<05:56, 15.79 examples/s]"
     ]
    },
    {
     "name": "stdout",
     "output_type": "stream",
     "text": [
      "Classificati 9088/14718 (61.75%) commenti...\n"
     ]
    },
    {
     "name": "stderr",
     "output_type": "stream",
     "text": [
      "Map:  62%|██████▏   | 9152/14718 [09:36<05:58, 15.54 examples/s]"
     ]
    },
    {
     "name": "stdout",
     "output_type": "stream",
     "text": [
      "Classificati 9152/14718 (62.18%) commenti...\n"
     ]
    },
    {
     "name": "stderr",
     "output_type": "stream",
     "text": [
      "Map:  63%|██████▎   | 9216/14718 [09:40<06:02, 15.16 examples/s]"
     ]
    },
    {
     "name": "stdout",
     "output_type": "stream",
     "text": [
      "Classificati 9216/14718 (62.62%) commenti...\n"
     ]
    },
    {
     "name": "stderr",
     "output_type": "stream",
     "text": [
      "Map:  63%|██████▎   | 9280/14718 [09:44<05:48, 15.60 examples/s]"
     ]
    },
    {
     "name": "stdout",
     "output_type": "stream",
     "text": [
      "Classificati 9280/14718 (63.05%) commenti...\n"
     ]
    },
    {
     "name": "stderr",
     "output_type": "stream",
     "text": [
      "Map:  63%|██████▎   | 9344/14718 [09:48<05:41, 15.72 examples/s]"
     ]
    },
    {
     "name": "stdout",
     "output_type": "stream",
     "text": [
      "Classificati 9344/14718 (63.49%) commenti...\n"
     ]
    },
    {
     "name": "stderr",
     "output_type": "stream",
     "text": [
      "Map:  64%|██████▍   | 9408/14718 [09:52<05:38, 15.68 examples/s]"
     ]
    },
    {
     "name": "stdout",
     "output_type": "stream",
     "text": [
      "Classificati 9408/14718 (63.92%) commenti...\n"
     ]
    },
    {
     "name": "stderr",
     "output_type": "stream",
     "text": [
      "Map:  64%|██████▍   | 9472/14718 [09:56<05:30, 15.88 examples/s]"
     ]
    },
    {
     "name": "stdout",
     "output_type": "stream",
     "text": [
      "Classificati 9472/14718 (64.36%) commenti...\n"
     ]
    },
    {
     "name": "stderr",
     "output_type": "stream",
     "text": [
      "Map:  65%|██████▍   | 9536/14718 [10:00<05:25, 15.93 examples/s]"
     ]
    },
    {
     "name": "stdout",
     "output_type": "stream",
     "text": [
      "Classificati 9536/14718 (64.79%) commenti...\n"
     ]
    },
    {
     "name": "stderr",
     "output_type": "stream",
     "text": [
      "Map:  65%|██████▌   | 9600/14718 [10:04<05:19, 16.02 examples/s]"
     ]
    },
    {
     "name": "stdout",
     "output_type": "stream",
     "text": [
      "Classificati 9600/14718 (65.23%) commenti...\n"
     ]
    },
    {
     "name": "stderr",
     "output_type": "stream",
     "text": [
      "Map:  66%|██████▌   | 9664/14718 [10:08<05:20, 15.78 examples/s]"
     ]
    },
    {
     "name": "stdout",
     "output_type": "stream",
     "text": [
      "Classificati 9664/14718 (65.66%) commenti...\n"
     ]
    },
    {
     "name": "stderr",
     "output_type": "stream",
     "text": [
      "Map:  66%|██████▌   | 9728/14718 [10:12<05:14, 15.85 examples/s]"
     ]
    },
    {
     "name": "stdout",
     "output_type": "stream",
     "text": [
      "Classificati 9728/14718 (66.10%) commenti...\n"
     ]
    },
    {
     "name": "stderr",
     "output_type": "stream",
     "text": [
      "Map:  67%|██████▋   | 9792/14718 [10:16<05:02, 16.31 examples/s]"
     ]
    },
    {
     "name": "stdout",
     "output_type": "stream",
     "text": [
      "Classificati 9792/14718 (66.53%) commenti...\n"
     ]
    },
    {
     "name": "stderr",
     "output_type": "stream",
     "text": [
      "Map:  67%|██████▋   | 9856/14718 [10:20<04:59, 16.21 examples/s]"
     ]
    },
    {
     "name": "stdout",
     "output_type": "stream",
     "text": [
      "Classificati 9856/14718 (66.97%) commenti...\n"
     ]
    },
    {
     "name": "stderr",
     "output_type": "stream",
     "text": [
      "Map:  67%|██████▋   | 9920/14718 [10:23<04:48, 16.64 examples/s]"
     ]
    },
    {
     "name": "stdout",
     "output_type": "stream",
     "text": [
      "Classificati 9920/14718 (67.40%) commenti...\n"
     ]
    },
    {
     "name": "stderr",
     "output_type": "stream",
     "text": [
      "Map:  68%|██████▊   | 9984/14718 [10:27<04:42, 16.73 examples/s]"
     ]
    },
    {
     "name": "stdout",
     "output_type": "stream",
     "text": [
      "Classificati 9984/14718 (67.84%) commenti...\n"
     ]
    },
    {
     "name": "stderr",
     "output_type": "stream",
     "text": [
      "Map:  68%|██████▊   | 10048/14718 [10:31<04:44, 16.43 examples/s]"
     ]
    },
    {
     "name": "stdout",
     "output_type": "stream",
     "text": [
      "Classificati 10048/14718 (68.27%) commenti...\n"
     ]
    },
    {
     "name": "stderr",
     "output_type": "stream",
     "text": [
      "Map:  69%|██████▊   | 10112/14718 [10:36<04:48, 15.95 examples/s]"
     ]
    },
    {
     "name": "stdout",
     "output_type": "stream",
     "text": [
      "Classificati 10112/14718 (68.70%) commenti...\n"
     ]
    },
    {
     "name": "stderr",
     "output_type": "stream",
     "text": [
      "Map:  69%|██████▉   | 10176/14718 [10:40<05:02, 14.99 examples/s]"
     ]
    },
    {
     "name": "stdout",
     "output_type": "stream",
     "text": [
      "Classificati 10176/14718 (69.14%) commenti...\n"
     ]
    },
    {
     "name": "stderr",
     "output_type": "stream",
     "text": [
      "Map:  70%|██████▉   | 10240/14718 [10:44<04:52, 15.31 examples/s]"
     ]
    },
    {
     "name": "stdout",
     "output_type": "stream",
     "text": [
      "Classificati 10240/14718 (69.57%) commenti...\n"
     ]
    },
    {
     "name": "stderr",
     "output_type": "stream",
     "text": [
      "Map:  70%|███████   | 10304/14718 [10:49<04:50, 15.17 examples/s]"
     ]
    },
    {
     "name": "stdout",
     "output_type": "stream",
     "text": [
      "Classificati 10304/14718 (70.01%) commenti...\n"
     ]
    },
    {
     "name": "stderr",
     "output_type": "stream",
     "text": [
      "Map:  70%|███████   | 10368/14718 [10:53<04:41, 15.46 examples/s]"
     ]
    },
    {
     "name": "stdout",
     "output_type": "stream",
     "text": [
      "Classificati 10368/14718 (70.44%) commenti...\n"
     ]
    },
    {
     "name": "stderr",
     "output_type": "stream",
     "text": [
      "Map:  71%|███████   | 10432/14718 [10:57<04:33, 15.69 examples/s]"
     ]
    },
    {
     "name": "stdout",
     "output_type": "stream",
     "text": [
      "Classificati 10432/14718 (70.88%) commenti...\n"
     ]
    },
    {
     "name": "stderr",
     "output_type": "stream",
     "text": [
      "Map:  71%|███████▏  | 10496/14718 [11:01<04:27, 15.77 examples/s]"
     ]
    },
    {
     "name": "stdout",
     "output_type": "stream",
     "text": [
      "Classificati 10496/14718 (71.31%) commenti...\n"
     ]
    },
    {
     "name": "stderr",
     "output_type": "stream",
     "text": [
      "Map:  72%|███████▏  | 10560/14718 [11:04<04:19, 16.05 examples/s]"
     ]
    },
    {
     "name": "stdout",
     "output_type": "stream",
     "text": [
      "Classificati 10560/14718 (71.75%) commenti...\n"
     ]
    },
    {
     "name": "stderr",
     "output_type": "stream",
     "text": [
      "Map:  72%|███████▏  | 10624/14718 [11:08<04:12, 16.19 examples/s]"
     ]
    },
    {
     "name": "stdout",
     "output_type": "stream",
     "text": [
      "Classificati 10624/14718 (72.18%) commenti...\n"
     ]
    },
    {
     "name": "stderr",
     "output_type": "stream",
     "text": [
      "Map:  73%|███████▎  | 10688/14718 [11:12<04:05, 16.43 examples/s]"
     ]
    },
    {
     "name": "stdout",
     "output_type": "stream",
     "text": [
      "Classificati 10688/14718 (72.62%) commenti...\n"
     ]
    },
    {
     "name": "stderr",
     "output_type": "stream",
     "text": [
      "Map:  73%|███████▎  | 10752/14718 [11:16<03:59, 16.59 examples/s]"
     ]
    },
    {
     "name": "stdout",
     "output_type": "stream",
     "text": [
      "Classificati 10752/14718 (73.05%) commenti...\n"
     ]
    },
    {
     "name": "stderr",
     "output_type": "stream",
     "text": [
      "Map:  73%|███████▎  | 10816/14718 [11:21<04:13, 15.36 examples/s]"
     ]
    },
    {
     "name": "stdout",
     "output_type": "stream",
     "text": [
      "Classificati 10816/14718 (73.49%) commenti...\n"
     ]
    },
    {
     "name": "stderr",
     "output_type": "stream",
     "text": [
      "Map:  74%|███████▍  | 10880/14718 [11:25<04:04, 15.68 examples/s]"
     ]
    },
    {
     "name": "stdout",
     "output_type": "stream",
     "text": [
      "Classificati 10880/14718 (73.92%) commenti...\n"
     ]
    },
    {
     "name": "stderr",
     "output_type": "stream",
     "text": [
      "Map:  74%|███████▍  | 10944/14718 [11:29<03:58, 15.82 examples/s]"
     ]
    },
    {
     "name": "stdout",
     "output_type": "stream",
     "text": [
      "Classificati 10944/14718 (74.36%) commenti...\n"
     ]
    },
    {
     "name": "stderr",
     "output_type": "stream",
     "text": [
      "Map:  75%|███████▍  | 11008/14718 [11:32<03:51, 15.99 examples/s]"
     ]
    },
    {
     "name": "stdout",
     "output_type": "stream",
     "text": [
      "Classificati 11008/14718 (74.79%) commenti...\n"
     ]
    },
    {
     "name": "stderr",
     "output_type": "stream",
     "text": [
      "Map:  75%|███████▌  | 11072/14718 [11:37<03:51, 15.72 examples/s]"
     ]
    },
    {
     "name": "stdout",
     "output_type": "stream",
     "text": [
      "Classificati 11072/14718 (75.23%) commenti...\n"
     ]
    },
    {
     "name": "stderr",
     "output_type": "stream",
     "text": [
      "Map:  76%|███████▌  | 11136/14718 [11:41<03:54, 15.28 examples/s]"
     ]
    },
    {
     "name": "stdout",
     "output_type": "stream",
     "text": [
      "Classificati 11136/14718 (75.66%) commenti...\n"
     ]
    },
    {
     "name": "stderr",
     "output_type": "stream",
     "text": [
      "Map:  76%|███████▌  | 11200/14718 [11:45<03:52, 15.12 examples/s]"
     ]
    },
    {
     "name": "stdout",
     "output_type": "stream",
     "text": [
      "Classificati 11200/14718 (76.10%) commenti...\n"
     ]
    },
    {
     "name": "stderr",
     "output_type": "stream",
     "text": [
      "Map:  77%|███████▋  | 11264/14718 [11:49<03:44, 15.39 examples/s]"
     ]
    },
    {
     "name": "stdout",
     "output_type": "stream",
     "text": [
      "Classificati 11264/14718 (76.53%) commenti...\n"
     ]
    },
    {
     "name": "stderr",
     "output_type": "stream",
     "text": [
      "Map:  77%|███████▋  | 11328/14718 [11:54<03:43, 15.17 examples/s]"
     ]
    },
    {
     "name": "stdout",
     "output_type": "stream",
     "text": [
      "Classificati 11328/14718 (76.97%) commenti...\n"
     ]
    },
    {
     "name": "stderr",
     "output_type": "stream",
     "text": [
      "Map:  77%|███████▋  | 11392/14718 [11:58<03:41, 15.01 examples/s]"
     ]
    },
    {
     "name": "stdout",
     "output_type": "stream",
     "text": [
      "Classificati 11392/14718 (77.40%) commenti...\n"
     ]
    },
    {
     "name": "stderr",
     "output_type": "stream",
     "text": [
      "Map:  78%|███████▊  | 11456/14718 [12:02<03:36, 15.06 examples/s]"
     ]
    },
    {
     "name": "stdout",
     "output_type": "stream",
     "text": [
      "Classificati 11456/14718 (77.84%) commenti...\n"
     ]
    },
    {
     "name": "stderr",
     "output_type": "stream",
     "text": [
      "Map:  78%|███████▊  | 11520/14718 [12:06<03:26, 15.46 examples/s]"
     ]
    },
    {
     "name": "stdout",
     "output_type": "stream",
     "text": [
      "Classificati 11520/14718 (78.27%) commenti...\n"
     ]
    },
    {
     "name": "stderr",
     "output_type": "stream",
     "text": [
      "Map:  79%|███████▊  | 11584/14718 [12:10<03:17, 15.88 examples/s]"
     ]
    },
    {
     "name": "stdout",
     "output_type": "stream",
     "text": [
      "Classificati 11584/14718 (78.71%) commenti...\n"
     ]
    },
    {
     "name": "stderr",
     "output_type": "stream",
     "text": [
      "Map:  79%|███████▉  | 11648/14718 [12:15<03:31, 14.51 examples/s]"
     ]
    },
    {
     "name": "stdout",
     "output_type": "stream",
     "text": [
      "Classificati 11648/14718 (79.14%) commenti...\n"
     ]
    },
    {
     "name": "stderr",
     "output_type": "stream",
     "text": [
      "Map:  80%|███████▉  | 11712/14718 [12:20<03:35, 13.97 examples/s]"
     ]
    },
    {
     "name": "stdout",
     "output_type": "stream",
     "text": [
      "Classificati 11712/14718 (79.58%) commenti...\n"
     ]
    },
    {
     "name": "stderr",
     "output_type": "stream",
     "text": [
      "Map:  80%|████████  | 11776/14718 [12:25<03:29, 14.04 examples/s]"
     ]
    },
    {
     "name": "stdout",
     "output_type": "stream",
     "text": [
      "Classificati 11776/14718 (80.01%) commenti...\n"
     ]
    },
    {
     "name": "stderr",
     "output_type": "stream",
     "text": [
      "Map:  80%|████████  | 11840/14718 [12:29<03:17, 14.55 examples/s]"
     ]
    },
    {
     "name": "stdout",
     "output_type": "stream",
     "text": [
      "Classificati 11840/14718 (80.45%) commenti...\n"
     ]
    },
    {
     "name": "stderr",
     "output_type": "stream",
     "text": [
      "Map:  81%|████████  | 11904/14718 [12:33<03:08, 14.95 examples/s]"
     ]
    },
    {
     "name": "stdout",
     "output_type": "stream",
     "text": [
      "Classificati 11904/14718 (80.88%) commenti...\n"
     ]
    },
    {
     "name": "stderr",
     "output_type": "stream",
     "text": [
      "Map:  81%|████████▏ | 11968/14718 [12:37<03:01, 15.12 examples/s]"
     ]
    },
    {
     "name": "stdout",
     "output_type": "stream",
     "text": [
      "Classificati 11968/14718 (81.32%) commenti...\n"
     ]
    },
    {
     "name": "stderr",
     "output_type": "stream",
     "text": [
      "Map:  82%|████████▏ | 12032/14718 [12:42<03:02, 14.74 examples/s]"
     ]
    },
    {
     "name": "stdout",
     "output_type": "stream",
     "text": [
      "Classificati 12032/14718 (81.75%) commenti...\n"
     ]
    },
    {
     "name": "stderr",
     "output_type": "stream",
     "text": [
      "Map:  82%|████████▏ | 12096/14718 [12:46<02:56, 14.87 examples/s]"
     ]
    },
    {
     "name": "stdout",
     "output_type": "stream",
     "text": [
      "Classificati 12096/14718 (82.19%) commenti...\n"
     ]
    },
    {
     "name": "stderr",
     "output_type": "stream",
     "text": [
      "Map:  83%|████████▎ | 12160/14718 [12:50<02:47, 15.23 examples/s]"
     ]
    },
    {
     "name": "stdout",
     "output_type": "stream",
     "text": [
      "Classificati 12160/14718 (82.62%) commenti...\n"
     ]
    },
    {
     "name": "stderr",
     "output_type": "stream",
     "text": [
      "Map:  83%|████████▎ | 12224/14718 [12:54<02:42, 15.34 examples/s]"
     ]
    },
    {
     "name": "stdout",
     "output_type": "stream",
     "text": [
      "Classificati 12224/14718 (83.05%) commenti...\n"
     ]
    },
    {
     "name": "stderr",
     "output_type": "stream",
     "text": [
      "Map:  83%|████████▎ | 12288/14718 [12:58<02:36, 15.49 examples/s]"
     ]
    },
    {
     "name": "stdout",
     "output_type": "stream",
     "text": [
      "Classificati 12288/14718 (83.49%) commenti...\n"
     ]
    },
    {
     "name": "stderr",
     "output_type": "stream",
     "text": [
      "Map:  84%|████████▍ | 12352/14718 [13:02<02:31, 15.61 examples/s]"
     ]
    },
    {
     "name": "stdout",
     "output_type": "stream",
     "text": [
      "Classificati 12352/14718 (83.92%) commenti...\n"
     ]
    },
    {
     "name": "stderr",
     "output_type": "stream",
     "text": [
      "Map:  84%|████████▍ | 12416/14718 [13:06<02:27, 15.63 examples/s]"
     ]
    },
    {
     "name": "stdout",
     "output_type": "stream",
     "text": [
      "Classificati 12416/14718 (84.36%) commenti...\n"
     ]
    },
    {
     "name": "stderr",
     "output_type": "stream",
     "text": [
      "Map:  85%|████████▍ | 12480/14718 [13:10<02:22, 15.71 examples/s]"
     ]
    },
    {
     "name": "stdout",
     "output_type": "stream",
     "text": [
      "Classificati 12480/14718 (84.79%) commenti...\n"
     ]
    },
    {
     "name": "stderr",
     "output_type": "stream",
     "text": [
      "Map:  85%|████████▌ | 12544/14718 [13:14<02:16, 15.95 examples/s]"
     ]
    },
    {
     "name": "stdout",
     "output_type": "stream",
     "text": [
      "Classificati 12544/14718 (85.23%) commenti...\n"
     ]
    },
    {
     "name": "stderr",
     "output_type": "stream",
     "text": [
      "Map:  86%|████████▌ | 12608/14718 [13:18<02:17, 15.33 examples/s]"
     ]
    },
    {
     "name": "stdout",
     "output_type": "stream",
     "text": [
      "Classificati 12608/14718 (85.66%) commenti...\n"
     ]
    },
    {
     "name": "stderr",
     "output_type": "stream",
     "text": [
      "Map:  86%|████████▌ | 12672/14718 [13:22<02:11, 15.53 examples/s]"
     ]
    },
    {
     "name": "stdout",
     "output_type": "stream",
     "text": [
      "Classificati 12672/14718 (86.10%) commenti...\n"
     ]
    },
    {
     "name": "stderr",
     "output_type": "stream",
     "text": [
      "Map:  87%|████████▋ | 12736/14718 [13:27<02:09, 15.28 examples/s]"
     ]
    },
    {
     "name": "stdout",
     "output_type": "stream",
     "text": [
      "Classificati 12736/14718 (86.53%) commenti...\n"
     ]
    },
    {
     "name": "stderr",
     "output_type": "stream",
     "text": [
      "Map:  87%|████████▋ | 12800/14718 [13:31<02:04, 15.40 examples/s]"
     ]
    },
    {
     "name": "stdout",
     "output_type": "stream",
     "text": [
      "Classificati 12800/14718 (86.97%) commenti...\n"
     ]
    },
    {
     "name": "stderr",
     "output_type": "stream",
     "text": [
      "Map:  87%|████████▋ | 12864/14718 [13:35<01:57, 15.79 examples/s]"
     ]
    },
    {
     "name": "stdout",
     "output_type": "stream",
     "text": [
      "Classificati 12864/14718 (87.40%) commenti...\n"
     ]
    },
    {
     "name": "stderr",
     "output_type": "stream",
     "text": [
      "Map:  88%|████████▊ | 12928/14718 [13:39<01:53, 15.75 examples/s]"
     ]
    },
    {
     "name": "stdout",
     "output_type": "stream",
     "text": [
      "Classificati 12928/14718 (87.84%) commenti...\n"
     ]
    },
    {
     "name": "stderr",
     "output_type": "stream",
     "text": [
      "Map:  88%|████████▊ | 12992/14718 [13:43<01:50, 15.61 examples/s]"
     ]
    },
    {
     "name": "stdout",
     "output_type": "stream",
     "text": [
      "Classificati 12992/14718 (88.27%) commenti...\n"
     ]
    },
    {
     "name": "stderr",
     "output_type": "stream",
     "text": [
      "Map:  89%|████████▊ | 13056/14718 [13:47<01:48, 15.31 examples/s]"
     ]
    },
    {
     "name": "stdout",
     "output_type": "stream",
     "text": [
      "Classificati 13056/14718 (88.71%) commenti...\n"
     ]
    },
    {
     "name": "stderr",
     "output_type": "stream",
     "text": [
      "Map:  89%|████████▉ | 13120/14718 [13:51<01:41, 15.67 examples/s]"
     ]
    },
    {
     "name": "stdout",
     "output_type": "stream",
     "text": [
      "Classificati 13120/14718 (89.14%) commenti...\n"
     ]
    },
    {
     "name": "stderr",
     "output_type": "stream",
     "text": [
      "Map:  90%|████████▉ | 13184/14718 [13:55<01:35, 16.08 examples/s]"
     ]
    },
    {
     "name": "stdout",
     "output_type": "stream",
     "text": [
      "Classificati 13184/14718 (89.58%) commenti...\n"
     ]
    },
    {
     "name": "stderr",
     "output_type": "stream",
     "text": [
      "Map:  90%|█████████ | 13248/14718 [13:59<01:30, 16.33 examples/s]"
     ]
    },
    {
     "name": "stdout",
     "output_type": "stream",
     "text": [
      "Classificati 13248/14718 (90.01%) commenti...\n"
     ]
    },
    {
     "name": "stderr",
     "output_type": "stream",
     "text": [
      "Map:  90%|█████████ | 13312/14718 [14:02<01:25, 16.52 examples/s]"
     ]
    },
    {
     "name": "stdout",
     "output_type": "stream",
     "text": [
      "Classificati 13312/14718 (90.45%) commenti...\n"
     ]
    },
    {
     "name": "stderr",
     "output_type": "stream",
     "text": [
      "Map:  91%|█████████ | 13376/14718 [14:06<01:20, 16.64 examples/s]"
     ]
    },
    {
     "name": "stdout",
     "output_type": "stream",
     "text": [
      "Classificati 13376/14718 (90.88%) commenti...\n"
     ]
    },
    {
     "name": "stderr",
     "output_type": "stream",
     "text": [
      "Map:  91%|█████████▏| 13440/14718 [14:10<01:16, 16.66 examples/s]"
     ]
    },
    {
     "name": "stdout",
     "output_type": "stream",
     "text": [
      "Classificati 13440/14718 (91.32%) commenti...\n"
     ]
    },
    {
     "name": "stderr",
     "output_type": "stream",
     "text": [
      "Map:  92%|█████████▏| 13504/14718 [14:14<01:12, 16.64 examples/s]"
     ]
    },
    {
     "name": "stdout",
     "output_type": "stream",
     "text": [
      "Classificati 13504/14718 (91.75%) commenti...\n"
     ]
    },
    {
     "name": "stderr",
     "output_type": "stream",
     "text": [
      "Map:  92%|█████████▏| 13568/14718 [14:18<01:08, 16.83 examples/s]"
     ]
    },
    {
     "name": "stdout",
     "output_type": "stream",
     "text": [
      "Classificati 13568/14718 (92.19%) commenti...\n"
     ]
    },
    {
     "name": "stderr",
     "output_type": "stream",
     "text": [
      "Map:  93%|█████████▎| 13632/14718 [14:23<01:10, 15.46 examples/s]"
     ]
    },
    {
     "name": "stdout",
     "output_type": "stream",
     "text": [
      "Classificati 13632/14718 (92.62%) commenti...\n"
     ]
    },
    {
     "name": "stderr",
     "output_type": "stream",
     "text": [
      "Map:  93%|█████████▎| 13696/14718 [14:27<01:06, 15.34 examples/s]"
     ]
    },
    {
     "name": "stdout",
     "output_type": "stream",
     "text": [
      "Classificati 13696/14718 (93.06%) commenti...\n"
     ]
    },
    {
     "name": "stderr",
     "output_type": "stream",
     "text": [
      "Map:  93%|█████████▎| 13760/14718 [14:32<01:05, 14.58 examples/s]"
     ]
    },
    {
     "name": "stdout",
     "output_type": "stream",
     "text": [
      "Classificati 13760/14718 (93.49%) commenti...\n"
     ]
    },
    {
     "name": "stderr",
     "output_type": "stream",
     "text": [
      "Map:  94%|█████████▍| 13824/14718 [14:36<00:59, 14.95 examples/s]"
     ]
    },
    {
     "name": "stdout",
     "output_type": "stream",
     "text": [
      "Classificati 13824/14718 (93.93%) commenti...\n"
     ]
    },
    {
     "name": "stderr",
     "output_type": "stream",
     "text": [
      "Map:  94%|█████████▍| 13888/14718 [14:40<00:55, 15.02 examples/s]"
     ]
    },
    {
     "name": "stdout",
     "output_type": "stream",
     "text": [
      "Classificati 13888/14718 (94.36%) commenti...\n"
     ]
    },
    {
     "name": "stderr",
     "output_type": "stream",
     "text": [
      "Map:  95%|█████████▍| 13952/14718 [14:45<00:53, 14.41 examples/s]"
     ]
    },
    {
     "name": "stdout",
     "output_type": "stream",
     "text": [
      "Classificati 13952/14718 (94.80%) commenti...\n"
     ]
    },
    {
     "name": "stderr",
     "output_type": "stream",
     "text": [
      "Map:  95%|█████████▌| 14016/14718 [14:49<00:47, 14.78 examples/s]"
     ]
    },
    {
     "name": "stdout",
     "output_type": "stream",
     "text": [
      "Classificati 14016/14718 (95.23%) commenti...\n"
     ]
    },
    {
     "name": "stderr",
     "output_type": "stream",
     "text": [
      "Map:  96%|█████████▌| 14080/14718 [14:53<00:42, 15.11 examples/s]"
     ]
    },
    {
     "name": "stdout",
     "output_type": "stream",
     "text": [
      "Classificati 14080/14718 (95.67%) commenti...\n"
     ]
    },
    {
     "name": "stderr",
     "output_type": "stream",
     "text": [
      "Map:  96%|█████████▌| 14144/14718 [14:57<00:38, 15.03 examples/s]"
     ]
    },
    {
     "name": "stdout",
     "output_type": "stream",
     "text": [
      "Classificati 14144/14718 (96.10%) commenti...\n"
     ]
    },
    {
     "name": "stderr",
     "output_type": "stream",
     "text": [
      "Map:  97%|█████████▋| 14208/14718 [15:01<00:32, 15.54 examples/s]"
     ]
    },
    {
     "name": "stdout",
     "output_type": "stream",
     "text": [
      "Classificati 14208/14718 (96.53%) commenti...\n"
     ]
    },
    {
     "name": "stderr",
     "output_type": "stream",
     "text": [
      "Map:  97%|█████████▋| 14272/14718 [15:05<00:28, 15.71 examples/s]"
     ]
    },
    {
     "name": "stdout",
     "output_type": "stream",
     "text": [
      "Classificati 14272/14718 (96.97%) commenti...\n"
     ]
    },
    {
     "name": "stderr",
     "output_type": "stream",
     "text": [
      "Map:  97%|█████████▋| 14336/14718 [15:10<00:25, 15.18 examples/s]"
     ]
    },
    {
     "name": "stdout",
     "output_type": "stream",
     "text": [
      "Classificati 14336/14718 (97.40%) commenti...\n"
     ]
    },
    {
     "name": "stderr",
     "output_type": "stream",
     "text": [
      "Map:  98%|█████████▊| 14400/14718 [15:13<00:20, 15.45 examples/s]"
     ]
    },
    {
     "name": "stdout",
     "output_type": "stream",
     "text": [
      "Classificati 14400/14718 (97.84%) commenti...\n"
     ]
    },
    {
     "name": "stderr",
     "output_type": "stream",
     "text": [
      "Map:  98%|█████████▊| 14464/14718 [15:18<00:16, 15.08 examples/s]"
     ]
    },
    {
     "name": "stdout",
     "output_type": "stream",
     "text": [
      "Classificati 14464/14718 (98.27%) commenti...\n"
     ]
    },
    {
     "name": "stderr",
     "output_type": "stream",
     "text": [
      "Map:  99%|█████████▊| 14528/14718 [15:22<00:12, 14.84 examples/s]"
     ]
    },
    {
     "name": "stdout",
     "output_type": "stream",
     "text": [
      "Classificati 14528/14718 (98.71%) commenti...\n"
     ]
    },
    {
     "name": "stderr",
     "output_type": "stream",
     "text": [
      "Map:  99%|█████████▉| 14592/14718 [15:27<00:08, 14.71 examples/s]"
     ]
    },
    {
     "name": "stdout",
     "output_type": "stream",
     "text": [
      "Classificati 14592/14718 (99.14%) commenti...\n"
     ]
    },
    {
     "name": "stderr",
     "output_type": "stream",
     "text": [
      "Map: 100%|█████████▉| 14656/14718 [15:31<00:04, 15.02 examples/s]"
     ]
    },
    {
     "name": "stdout",
     "output_type": "stream",
     "text": [
      "Classificati 14656/14718 (99.58%) commenti...\n"
     ]
    },
    {
     "name": "stderr",
     "output_type": "stream",
     "text": [
      "Map: 100%|██████████| 14718/14718 [15:35<00:00, 15.74 examples/s]"
     ]
    },
    {
     "name": "stdout",
     "output_type": "stream",
     "text": [
      "Classificati 14718/14718 (100.00%) commenti...\n"
     ]
    },
    {
     "name": "stderr",
     "output_type": "stream",
     "text": [
      "\n"
     ]
    },
    {
     "name": "stdout",
     "output_type": "stream",
     "text": [
      "Classificazione completata.\n"
     ]
    }
   ],
   "source": [
    "warnings.filterwarnings(\"ignore\", category=UserWarning, module=\"torch.utils.data.dataloader\")\n",
    "\n",
    "classifier = pipeline(\n",
    "    \"zero-shot-classification\",\n",
    "    model=\"MoritzLaurer/DeBERTa-v3-base-mnli-fever-anli\",\n",
    "    device=0,\n",
    "    truncation=True\n",
    ")\n",
    "\n",
    "etichette = [\"colpevole\", \"innocente\", \"neutro\"]\n",
    "template = \"Il soggetto è {}.\"\n",
    "\n",
    "texts = []\n",
    "matched_subjects = []\n",
    "dates = []\n",
    "original_comments = []\n",
    "genres = []\n",
    "\n",
    "for c in all_comments:\n",
    "    testo_pulito = pulisci_testo(c[\"content\"])\n",
    "    soggetto_trovato = None\n",
    "    for soggetto, varianti in soggetti.items():\n",
    "        if any(v in testo_pulito for v in varianti):\n",
    "            soggetto_trovato = soggetto\n",
    "            break\n",
    "    if soggetto_trovato:\n",
    "        texts.append(c[\"content\"])\n",
    "        matched_subjects.append(soggetto_trovato)\n",
    "        dates.append(c[\"date\"])\n",
    "        original_comments.append(c[\"content\"])\n",
    "        genres.append(genere_soggetti[soggetto_trovato])\n",
    "\n",
    "dataset = Dataset.from_dict({\n",
    "    \"text\": texts,\n",
    "    \"subject\": matched_subjects,\n",
    "    \"genre\": genres,\n",
    "    \"date\": dates,\n",
    "    \"original_comment\": original_comments,\n",
    "})\n",
    "\n",
    "giudizi = defaultdict(lambda: {\"colpevole\": 0, \"innocente\": 0, \"neutro\": 0})\n",
    "giudizi_per_genere = defaultdict(lambda: {\"colpevole\": 0, \"innocente\": 0, \"neutro\": 0})\n",
    "dettagli = []\n",
    "\n",
    "total = len(dataset)\n",
    "print(f\"Commenti da classificare: {total}\")\n",
    "total_classified = 0\n",
    "\n",
    "def classify_batch(batch):\n",
    "    outputs = classifier(\n",
    "        batch[\"text\"],\n",
    "        candidate_labels=etichette,\n",
    "        hypothesis_template=template,\n",
    "        multi_label=False\n",
    "    )\n",
    "    global total_classified\n",
    "    total_classified += len(outputs)\n",
    "    print(f\"Classificati {total_classified}/{total} ({total_classified / total * 100:.2f}%) commenti...\")\n",
    "    return {\"pred_label\": [out[\"labels\"][0] for out in outputs]}\n",
    "\n",
    "results = dataset.map(\n",
    "    classify_batch,\n",
    "    batched=True,\n",
    "    batch_size=64,\n",
    ")\n",
    "\n",
    "for i in range(len(results)):\n",
    "    soggetto = results[i][\"subject\"]\n",
    "    genere = results[i][\"genre\"]\n",
    "    label = results[i][\"pred_label\"]\n",
    "    giudizi[soggetto][label] += 1\n",
    "    giudizi_per_genere[genere][label] += 1\n",
    "    dettagli.append({\n",
    "        \"soggetto\": soggetto,\n",
    "        \"genere\": genere,\n",
    "        \"data\": results[i][\"date\"],\n",
    "        \"giudizio\": label,\n",
    "        \"commento\": results[i][\"original_comment\"],\n",
    "    })\n",
    "\n",
    "print(\"Classificazione completata.\")"
   ]
  },
  {
   "cell_type": "code",
   "execution_count": 7,
   "id": "cb4ffbb1",
   "metadata": {},
   "outputs": [
    {
     "name": "stdout",
     "output_type": "stream",
     "text": [
      "\n",
      "== Riepilogo Giudizi per Soggetto ==\n",
      "+------------------+-------------+-------------+----------+----------+-----------------------------------------------------+\n",
      "|                  |   colpevole |   innocente |   neutro |   totale | Distribuzione giudizi (%)                           |\n",
      "+==================+=============+=============+==========+==========+=====================================================+\n",
      "| stefania e paola |         386 |          14 |      235 |      635 | colpevole: 60.8% | innocente: 2.2% | neutro: 37.0%  |\n",
      "+------------------+-------------+-------------+----------+----------+-----------------------------------------------------+\n",
      "| alberto          |        3930 |         679 |     2081 |     6690 | colpevole: 58.7% | innocente: 10.1% | neutro: 31.1% |\n",
      "+------------------+-------------+-------------+----------+----------+-----------------------------------------------------+\n",
      "| andrea           |        3123 |         266 |     1921 |     5310 | colpevole: 58.8% | innocente: 5.0% | neutro: 36.2%  |\n",
      "+------------------+-------------+-------------+----------+----------+-----------------------------------------------------+\n",
      "| paola            |         188 |           3 |      112 |      303 | colpevole: 62.0% | innocente: 1.0% | neutro: 37.0%  |\n",
      "+------------------+-------------+-------------+----------+----------+-----------------------------------------------------+\n",
      "| stefania         |         563 |          22 |      388 |      973 | colpevole: 57.9% | innocente: 2.3% | neutro: 39.9%  |\n",
      "+------------------+-------------+-------------+----------+----------+-----------------------------------------------------+\n",
      "| marco            |         393 |           9 |      405 |      807 | colpevole: 48.7% | innocente: 1.1% | neutro: 50.2%  |\n",
      "+------------------+-------------+-------------+----------+----------+-----------------------------------------------------+\n"
     ]
    }
   ],
   "source": [
    "df_riepilogo = pd.DataFrame(giudizi).T\n",
    "df_riepilogo[\"totale\"] = df_riepilogo.sum(axis=1)\n",
    "\n",
    "for col in [\"colpevole\", \"innocente\", \"neutro\"]:\n",
    "    df_riepilogo[f\"% {col}\"] = 100 * df_riepilogo[col] / df_riepilogo[\"totale\"]\n",
    "\n",
    "df_riepilogo[\"Distribuzione giudizi (%)\"] = df_riepilogo.apply(\n",
    "    lambda row: f\"colpevole: {row['% colpevole']:.1f}% | innocente: {row['% innocente']:.1f}% | neutro: {row['% neutro']:.1f}%\",\n",
    "    axis=1\n",
    ")\n",
    "\n",
    "df_visualizza = df_riepilogo[[\"colpevole\", \"innocente\", \"neutro\", \"totale\", \"Distribuzione giudizi (%)\"]]\n",
    "\n",
    "totali_globali = df_riepilogo[[\"colpevole\", \"innocente\", \"neutro\"]].sum()\n",
    "totale_commenti = totali_globali.sum()\n",
    "percentuali_globali = (totali_globali / totale_commenti * 100).round(2)\n",
    "\n",
    "df_classifica_colpevolezza = (df_riepilogo[\"colpevole\"] / totale_commenti * 100).to_frame(name=\"% Colpevole secondo opinione pubblica\")\n",
    "df_classifica_innocenza = (df_riepilogo[\"innocente\"] / totale_commenti * 100).to_frame(name=\"% Innocente secondo opinione pubblica\")\n",
    "\n",
    "print(\"\\n== Riepilogo Giudizi per Soggetto ==\")\n",
    "print(tabulate(df_visualizza.round(2), headers='keys', tablefmt='grid'))"
   ]
  },
  {
   "cell_type": "code",
   "execution_count": 8,
   "id": "3e02b48d",
   "metadata": {},
   "outputs": [
    {
     "name": "stdout",
     "output_type": "stream",
     "text": [
      "\n",
      "== Distribuzione Globale Giudizi ==\n",
      "+-----------+---------------+\n",
      "|           |   Percentuale |\n",
      "+===========+===============+\n",
      "| colpevole |         58.32 |\n",
      "+-----------+---------------+\n",
      "| neutro    |         34.94 |\n",
      "+-----------+---------------+\n",
      "| innocente |          6.75 |\n",
      "+-----------+---------------+\n"
     ]
    }
   ],
   "source": [
    "print(\"\\n== Distribuzione Globale Giudizi ==\")\n",
    "print(tabulate(percentuali_globali.sort_values(ascending=False).to_frame(\"Percentuale\"), headers='keys', tablefmt='grid'))"
   ]
  },
  {
   "cell_type": "code",
   "execution_count": 9,
   "id": "778b0314",
   "metadata": {},
   "outputs": [
    {
     "name": "stdout",
     "output_type": "stream",
     "text": [
      "\n",
      "== Classifica Colpevolezza Globale ==\n",
      "+------------------+-----------------------------------------+\n",
      "|                  |   % Colpevole secondo opinione pubblica |\n",
      "+==================+=========================================+\n",
      "| alberto          |                                26.702   |\n",
      "+------------------+-----------------------------------------+\n",
      "| andrea           |                                21.2189  |\n",
      "+------------------+-----------------------------------------+\n",
      "| stefania         |                                 3.82525 |\n",
      "+------------------+-----------------------------------------+\n",
      "| marco            |                                 2.6702  |\n",
      "+------------------+-----------------------------------------+\n",
      "| stefania e paola |                                 2.62264 |\n",
      "+------------------+-----------------------------------------+\n",
      "| paola            |                                 1.27735 |\n",
      "+------------------+-----------------------------------------+\n"
     ]
    }
   ],
   "source": [
    "print(\"\\n== Classifica Colpevolezza Globale ==\")\n",
    "print(tabulate(df_classifica_colpevolezza.sort_values(by=\"% Colpevole secondo opinione pubblica\", ascending=False), headers='keys', tablefmt='grid'))"
   ]
  },
  {
   "cell_type": "code",
   "execution_count": 10,
   "id": "55e9c6eb",
   "metadata": {},
   "outputs": [
    {
     "name": "stdout",
     "output_type": "stream",
     "text": [
      "\n",
      "== Classifica Innocenza Globale ==\n",
      "+------------------+-----------------------------------------+\n",
      "|                  |   % Innocente secondo opinione pubblica |\n",
      "+==================+=========================================+\n",
      "| alberto          |                               4.6134    |\n",
      "+------------------+-----------------------------------------+\n",
      "| andrea           |                               1.80731   |\n",
      "+------------------+-----------------------------------------+\n",
      "| stefania         |                               0.149477  |\n",
      "+------------------+-----------------------------------------+\n",
      "| stefania e paola |                               0.0951216 |\n",
      "+------------------+-----------------------------------------+\n",
      "| marco            |                               0.0611496 |\n",
      "+------------------+-----------------------------------------+\n",
      "| paola            |                               0.0203832 |\n",
      "+------------------+-----------------------------------------+\n"
     ]
    }
   ],
   "source": [
    "print(\"\\n== Classifica Innocenza Globale ==\")\n",
    "print(tabulate(df_classifica_innocenza.sort_values(by=\"% Innocente secondo opinione pubblica\", ascending=False), headers='keys', tablefmt='grid'))"
   ]
  },
  {
   "cell_type": "code",
   "execution_count": 11,
   "id": "866c8596",
   "metadata": {},
   "outputs": [
    {
     "data": {
      "image/png": "[encoded data removed]",
      "text/plain": [
       "<Figure size 1000x600 with 1 Axes>"
      ]
     },
     "metadata": {},
     "output_type": "display_data"
    }
   ],
   "source": [
    "df_riepilogo[[\"colpevole\", \"innocente\", \"neutro\"]].plot(\n",
    "    kind=\"bar\", stacked=True, figsize=(10, 6),\n",
    "    title=\"Distribuzione Giudizi per Soggetto\"\n",
    ")\n",
    "plt.ylabel(\"Numero di commenti\")\n",
    "plt.xlabel(\"Soggetto\")\n",
    "plt.xticks(rotation=45)\n",
    "plt.tight_layout()\n",
    "plt.show()"
   ]
  },
  {
   "cell_type": "code",
   "execution_count": 12,
   "id": "686ee4d6",
   "metadata": {},
   "outputs": [
    {
     "name": "stdout",
     "output_type": "stream",
     "text": [
      "\n",
      "== Distribuzione Giudizi per Genere ==\n",
      "+-----------+-------------+-------------+----------+----------+---------------+---------------+------------+\n",
      "|           |   colpevole |   innocente |   neutro |   totale |   % colpevole |   % innocente |   % neutro |\n",
      "+===========+=============+=============+==========+==========+===============+===============+============+\n",
      "| femminile |        1137 |          39 |      735 |     1911 |         59.5  |          2.04 |      38.46 |\n",
      "+-----------+-------------+-------------+----------+----------+---------------+---------------+------------+\n",
      "| maschile  |        7446 |         954 |     4407 |    12807 |         58.14 |          7.45 |      34.41 |\n",
      "+-----------+-------------+-------------+----------+----------+---------------+---------------+------------+\n"
     ]
    },
    {
     "data": {
      "image/png": "[encoded data removed]",
      "text/plain": [
       "<Figure size 800x500 with 1 Axes>"
      ]
     },
     "metadata": {},
     "output_type": "display_data"
    }
   ],
   "source": [
    "df_genere = pd.DataFrame(giudizi_per_genere).T\n",
    "df_genere[\"totale\"] = df_genere.sum(axis=1)\n",
    "\n",
    "for col in [\"colpevole\", \"innocente\", \"neutro\"]:\n",
    "    df_genere[f\"% {col}\"] = 100 * df_genere[col] / df_genere[\"totale\"]\n",
    "\n",
    "print(\"\\n== Distribuzione Giudizi per Genere ==\")\n",
    "print(tabulate(df_genere.round(2), headers='keys', tablefmt='grid'))\n",
    "\n",
    "df_genere[[\"colpevole\", \"innocente\", \"neutro\"]].plot(\n",
    "    kind=\"bar\", stacked=True, figsize=(8, 5),\n",
    "    title=\"Distribuzione Giudizi per Genere\"\n",
    ")\n",
    "plt.ylabel(\"Numero di commenti\")\n",
    "plt.xlabel(\"Genere\")\n",
    "plt.xticks(rotation=0)\n",
    "plt.tight_layout()\n",
    "plt.show()"
   ]
  }
 ],
 "metadata": {
  "kernelspec": {
   "display_name": "env",
   "language": "python",
   "name": "python3"
  },
  "language_info": {
   "codemirror_mode": {
    "name": "ipython",
    "version": 3
   },
   "file_extension": ".py",
   "mimetype": "text/x-python",
   "name": "python",
   "nbconvert_exporter": "python",
   "pygments_lexer": "ipython3",
   "version": "3.8.0"
  }
 },
 "nbformat": 4,
 "nbformat_minor": 5
}
