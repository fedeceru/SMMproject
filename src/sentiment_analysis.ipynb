{
 "cells": [
  {
   "cell_type": "code",
   "execution_count": 1,
   "id": "3566c14b",
   "metadata": {},
   "outputs": [
    {
     "name": "stderr",
     "output_type": "stream",
     "text": [
      "c:\\Users\\feder\\Desktop\\SMMproject\\env\\lib\\site-packages\\tqdm\\auto.py:21: TqdmWarning: IProgress not found. Please update jupyter and ipywidgets. See https://ipywidgets.readthedocs.io/en/stable/user_install.html\n",
      "  from .autonotebook import tqdm as notebook_tqdm\n"
     ]
    }
   ],
   "source": [
    "import json\n",
    "import re\n",
    "from collections import defaultdict\n",
    "from transformers import pipeline\n",
    "import pandas as pd\n",
    "import torch\n",
    "import warnings\n",
    "from datasets import Dataset\n",
    "import matplotlib.pyplot as plt\n",
    "from tabulate import tabulate\n",
    "from difflib import SequenceMatcher"
   ]
  },
  {
   "cell_type": "code",
   "execution_count": 2,
   "id": "fd4371a6",
   "metadata": {},
   "outputs": [
    {
     "name": "stdout",
     "output_type": "stream",
     "text": [
      "NVIDIA GeForce RTX 2060 SUPER\n"
     ]
    }
   ],
   "source": [
    "print(torch.cuda.get_device_name(0) if torch.cuda.is_available() else \"No CUDA device\")"
   ]
  },
  {
   "cell_type": "code",
   "execution_count": 3,
   "id": "6daaa3ac",
   "metadata": {},
   "outputs": [],
   "source": [
    "INPUT_PATH = \"commenti_associabili.json\"\n",
    "\n",
    "soggetti = {\n",
    "    \"stefania\": [\"stefania\", \"stefania cappa\"],\n",
    "    \"paola\": [\"paola\", \"paola cappa\"],\n",
    "    \"andrea\": [\"andrea\", \"andrea sempio\", \"sempio\"],\n",
    "    \"alberto\": [\"alberto\", \"alberto stasi\", \"stasi\"],\n",
    "    \"marco\": [\"marco\", \"marco poggi\"],\n",
    "    \"stefania e paola\": [\"stefania cappa e paola cappa\", \"stefania e paola\", \"gemelle cappa\", \"gemelle\", \"sorelle\"],\n",
    "}\n",
    "\n",
    "genere_soggetti = {\n",
    "    \"stefania\": \"femminile\",\n",
    "    \"paola\": \"femminile\",\n",
    "    \"andrea\": \"maschile\",\n",
    "    \"alberto\": \"maschile\",\n",
    "    \"marco\": \"maschile\",\n",
    "    \"stefania e paola\": \"femminile\",\n",
    "}"
   ]
  },
  {
   "cell_type": "code",
   "execution_count": 4,
   "id": "e78013d1",
   "metadata": {},
   "outputs": [],
   "source": [
    "def pulisci_testo(testo):\n",
    "    testo = testo.lower()\n",
    "    testo = re.sub(r\"http\\S+\", \"\", testo)\n",
    "    testo = re.sub(r\"@\\w+\", \"\", testo)\n",
    "    testo = re.sub(r\"[^a-zA-Zàèéìòùç0-9\\s']\", \" \", testo)\n",
    "    testo = re.sub(r\"\\s+\", \" \", testo)\n",
    "    return testo.strip()\n",
    "\n",
    "parole_vaghe = [\"mah\", \"boh\", \"non lo so\", \"assurdo\", \"incredibile\", \"chissà\"]\n",
    "\n",
    "def commento_valido(testo):\n",
    "    parole = testo.split()\n",
    "    if len(parole) < 4:\n",
    "        return False\n",
    "    if len(parole) > 100: \n",
    "        return False\n",
    "    if any(vaga in testo for vaga in parole_vaghe):\n",
    "        return False\n",
    "    return True\n",
    "\n",
    "def trova_soggetto(testo):\n",
    "    for soggetto, varianti in soggetti.items():\n",
    "        for v in varianti:\n",
    "            if v in testo:\n",
    "                return soggetto\n",
    "            if SequenceMatcher(None, v, testo).ratio() > 0.88:\n",
    "                return soggetto\n",
    "    return None"
   ]
  },
  {
   "cell_type": "code",
   "execution_count": 5,
   "id": "e8137c37",
   "metadata": {},
   "outputs": [],
   "source": [
    "with open(INPUT_PATH, \"r\", encoding=\"utf-8\") as f:\n",
    "    all_comments = json.load(f)"
   ]
  },
  {
   "cell_type": "code",
   "execution_count": 6,
   "id": "237f41a2",
   "metadata": {},
   "outputs": [
    {
     "name": "stdout",
     "output_type": "stream",
     "text": [
      "Commenti da classificare: 12471\n"
     ]
    },
    {
     "name": "stderr",
     "output_type": "stream",
     "text": [
      "Map:   0%|          | 0/12471 [00:00<?, ? examples/s]Asking to truncate to max_length but no maximum length is provided and the model has no predefined maximum length. Default to no truncation.\n",
      "Map:   1%|          | 64/12471 [00:07<23:29,  8.80 examples/s]"
     ]
    },
    {
     "name": "stdout",
     "output_type": "stream",
     "text": [
      "Classificati 64/12471 (0.51%) commenti...\n"
     ]
    },
    {
     "name": "stderr",
     "output_type": "stream",
     "text": [
      "Map:   1%|          | 128/12471 [00:14<23:10,  8.87 examples/s]"
     ]
    },
    {
     "name": "stdout",
     "output_type": "stream",
     "text": [
      "Classificati 128/12471 (1.03%) commenti...\n"
     ]
    },
    {
     "name": "stderr",
     "output_type": "stream",
     "text": [
      "Map:   2%|▏         | 192/12471 [00:21<23:00,  8.89 examples/s]"
     ]
    },
    {
     "name": "stdout",
     "output_type": "stream",
     "text": [
      "Classificati 192/12471 (1.54%) commenti...\n"
     ]
    },
    {
     "name": "stderr",
     "output_type": "stream",
     "text": [
      "Map:   2%|▏         | 256/12471 [00:28<22:54,  8.89 examples/s]"
     ]
    },
    {
     "name": "stdout",
     "output_type": "stream",
     "text": [
      "Classificati 256/12471 (2.05%) commenti...\n"
     ]
    },
    {
     "name": "stderr",
     "output_type": "stream",
     "text": [
      "Map:   3%|▎         | 320/12471 [00:35<22:37,  8.95 examples/s]You seem to be using the pipelines sequentially on GPU. In order to maximize efficiency please use a dataset\n"
     ]
    },
    {
     "name": "stdout",
     "output_type": "stream",
     "text": [
      "Classificati 320/12471 (2.57%) commenti...\n"
     ]
    },
    {
     "name": "stderr",
     "output_type": "stream",
     "text": [
      "Map:   3%|▎         | 384/12471 [00:42<22:16,  9.04 examples/s]"
     ]
    },
    {
     "name": "stdout",
     "output_type": "stream",
     "text": [
      "Classificati 384/12471 (3.08%) commenti...\n"
     ]
    },
    {
     "name": "stderr",
     "output_type": "stream",
     "text": [
      "Map:   4%|▎         | 448/12471 [00:49<22:13,  9.02 examples/s]"
     ]
    },
    {
     "name": "stdout",
     "output_type": "stream",
     "text": [
      "Classificati 448/12471 (3.59%) commenti...\n"
     ]
    },
    {
     "name": "stderr",
     "output_type": "stream",
     "text": [
      "Map:   4%|▍         | 512/12471 [00:57<22:03,  9.04 examples/s]"
     ]
    },
    {
     "name": "stdout",
     "output_type": "stream",
     "text": [
      "Classificati 512/12471 (4.11%) commenti...\n"
     ]
    },
    {
     "name": "stderr",
     "output_type": "stream",
     "text": [
      "Map:   5%|▍         | 576/12471 [01:04<21:52,  9.06 examples/s]"
     ]
    },
    {
     "name": "stdout",
     "output_type": "stream",
     "text": [
      "Classificati 576/12471 (4.62%) commenti...\n"
     ]
    },
    {
     "name": "stderr",
     "output_type": "stream",
     "text": [
      "Map:   5%|▌         | 640/12471 [01:11<21:45,  9.06 examples/s]"
     ]
    },
    {
     "name": "stdout",
     "output_type": "stream",
     "text": [
      "Classificati 640/12471 (5.13%) commenti...\n"
     ]
    },
    {
     "name": "stderr",
     "output_type": "stream",
     "text": [
      "Map:   6%|▌         | 704/12471 [01:18<21:37,  9.07 examples/s]"
     ]
    },
    {
     "name": "stdout",
     "output_type": "stream",
     "text": [
      "Classificati 704/12471 (5.65%) commenti...\n"
     ]
    },
    {
     "name": "stderr",
     "output_type": "stream",
     "text": [
      "Map:   6%|▌         | 768/12471 [01:25<21:37,  9.02 examples/s]"
     ]
    },
    {
     "name": "stdout",
     "output_type": "stream",
     "text": [
      "Classificati 768/12471 (6.16%) commenti...\n"
     ]
    },
    {
     "name": "stderr",
     "output_type": "stream",
     "text": [
      "Map:   7%|▋         | 832/12471 [01:32<21:25,  9.05 examples/s]"
     ]
    },
    {
     "name": "stdout",
     "output_type": "stream",
     "text": [
      "Classificati 832/12471 (6.67%) commenti...\n"
     ]
    },
    {
     "name": "stderr",
     "output_type": "stream",
     "text": [
      "Map:   7%|▋         | 896/12471 [01:39<21:11,  9.10 examples/s]"
     ]
    },
    {
     "name": "stdout",
     "output_type": "stream",
     "text": [
      "Classificati 896/12471 (7.18%) commenti...\n"
     ]
    },
    {
     "name": "stderr",
     "output_type": "stream",
     "text": [
      "Map:   8%|▊         | 960/12471 [01:46<21:03,  9.11 examples/s]"
     ]
    },
    {
     "name": "stdout",
     "output_type": "stream",
     "text": [
      "Classificati 960/12471 (7.70%) commenti...\n"
     ]
    },
    {
     "name": "stderr",
     "output_type": "stream",
     "text": [
      "Map:   8%|▊         | 1024/12471 [01:53<20:59,  9.09 examples/s]"
     ]
    },
    {
     "name": "stdout",
     "output_type": "stream",
     "text": [
      "Classificati 1024/12471 (8.21%) commenti...\n"
     ]
    },
    {
     "name": "stderr",
     "output_type": "stream",
     "text": [
      "Map:   9%|▊         | 1088/12471 [02:00<20:51,  9.10 examples/s]"
     ]
    },
    {
     "name": "stdout",
     "output_type": "stream",
     "text": [
      "Classificati 1088/12471 (8.72%) commenti...\n"
     ]
    },
    {
     "name": "stderr",
     "output_type": "stream",
     "text": [
      "Map:   9%|▉         | 1152/12471 [02:07<20:46,  9.08 examples/s]"
     ]
    },
    {
     "name": "stdout",
     "output_type": "stream",
     "text": [
      "Classificati 1152/12471 (9.24%) commenti...\n"
     ]
    },
    {
     "name": "stderr",
     "output_type": "stream",
     "text": [
      "Map:  10%|▉         | 1216/12471 [02:14<20:33,  9.12 examples/s]"
     ]
    },
    {
     "name": "stdout",
     "output_type": "stream",
     "text": [
      "Classificati 1216/12471 (9.75%) commenti...\n"
     ]
    },
    {
     "name": "stderr",
     "output_type": "stream",
     "text": [
      "Map:  10%|█         | 1280/12471 [02:21<20:31,  9.09 examples/s]"
     ]
    },
    {
     "name": "stdout",
     "output_type": "stream",
     "text": [
      "Classificati 1280/12471 (10.26%) commenti...\n"
     ]
    },
    {
     "name": "stderr",
     "output_type": "stream",
     "text": [
      "Map:  11%|█         | 1344/12471 [02:28<20:31,  9.03 examples/s]"
     ]
    },
    {
     "name": "stdout",
     "output_type": "stream",
     "text": [
      "Classificati 1344/12471 (10.78%) commenti...\n"
     ]
    },
    {
     "name": "stderr",
     "output_type": "stream",
     "text": [
      "Map:  11%|█▏        | 1408/12471 [02:35<20:23,  9.04 examples/s]"
     ]
    },
    {
     "name": "stdout",
     "output_type": "stream",
     "text": [
      "Classificati 1408/12471 (11.29%) commenti...\n"
     ]
    },
    {
     "name": "stderr",
     "output_type": "stream",
     "text": [
      "Map:  12%|█▏        | 1472/12471 [02:42<20:16,  9.04 examples/s]"
     ]
    },
    {
     "name": "stdout",
     "output_type": "stream",
     "text": [
      "Classificati 1472/12471 (11.80%) commenti...\n"
     ]
    },
    {
     "name": "stderr",
     "output_type": "stream",
     "text": [
      "Map:  12%|█▏        | 1536/12471 [02:49<20:06,  9.06 examples/s]"
     ]
    },
    {
     "name": "stdout",
     "output_type": "stream",
     "text": [
      "Classificati 1536/12471 (12.32%) commenti...\n"
     ]
    },
    {
     "name": "stderr",
     "output_type": "stream",
     "text": [
      "Map:  13%|█▎        | 1600/12471 [02:56<19:54,  9.10 examples/s]"
     ]
    },
    {
     "name": "stdout",
     "output_type": "stream",
     "text": [
      "Classificati 1600/12471 (12.83%) commenti...\n"
     ]
    },
    {
     "name": "stderr",
     "output_type": "stream",
     "text": [
      "Map:  13%|█▎        | 1664/12471 [03:03<19:49,  9.09 examples/s]"
     ]
    },
    {
     "name": "stdout",
     "output_type": "stream",
     "text": [
      "Classificati 1664/12471 (13.34%) commenti...\n"
     ]
    },
    {
     "name": "stderr",
     "output_type": "stream",
     "text": [
      "Map:  14%|█▍        | 1728/12471 [03:10<19:41,  9.10 examples/s]"
     ]
    },
    {
     "name": "stdout",
     "output_type": "stream",
     "text": [
      "Classificati 1728/12471 (13.86%) commenti...\n"
     ]
    },
    {
     "name": "stderr",
     "output_type": "stream",
     "text": [
      "Map:  14%|█▍        | 1792/12471 [03:18<19:40,  9.04 examples/s]"
     ]
    },
    {
     "name": "stdout",
     "output_type": "stream",
     "text": [
      "Classificati 1792/12471 (14.37%) commenti...\n"
     ]
    },
    {
     "name": "stderr",
     "output_type": "stream",
     "text": [
      "Map:  15%|█▍        | 1856/12471 [03:25<19:30,  9.07 examples/s]"
     ]
    },
    {
     "name": "stdout",
     "output_type": "stream",
     "text": [
      "Classificati 1856/12471 (14.88%) commenti...\n"
     ]
    },
    {
     "name": "stderr",
     "output_type": "stream",
     "text": [
      "Map:  15%|█▌        | 1920/12471 [03:32<19:23,  9.07 examples/s]"
     ]
    },
    {
     "name": "stdout",
     "output_type": "stream",
     "text": [
      "Classificati 1920/12471 (15.40%) commenti...\n"
     ]
    },
    {
     "name": "stderr",
     "output_type": "stream",
     "text": [
      "Map:  16%|█▌        | 1984/12471 [03:39<19:15,  9.08 examples/s]"
     ]
    },
    {
     "name": "stdout",
     "output_type": "stream",
     "text": [
      "Classificati 1984/12471 (15.91%) commenti...\n"
     ]
    },
    {
     "name": "stderr",
     "output_type": "stream",
     "text": [
      "Map:  16%|█▋        | 2048/12471 [03:46<19:00,  9.14 examples/s]"
     ]
    },
    {
     "name": "stdout",
     "output_type": "stream",
     "text": [
      "Classificati 2048/12471 (16.42%) commenti...\n"
     ]
    },
    {
     "name": "stderr",
     "output_type": "stream",
     "text": [
      "Map:  17%|█▋        | 2112/12471 [03:53<18:53,  9.14 examples/s]"
     ]
    },
    {
     "name": "stdout",
     "output_type": "stream",
     "text": [
      "Classificati 2112/12471 (16.94%) commenti...\n"
     ]
    },
    {
     "name": "stderr",
     "output_type": "stream",
     "text": [
      "Map:  17%|█▋        | 2176/12471 [04:00<18:45,  9.14 examples/s]"
     ]
    },
    {
     "name": "stdout",
     "output_type": "stream",
     "text": [
      "Classificati 2176/12471 (17.45%) commenti...\n"
     ]
    },
    {
     "name": "stderr",
     "output_type": "stream",
     "text": [
      "Map:  18%|█▊        | 2240/12471 [04:07<18:39,  9.14 examples/s]"
     ]
    },
    {
     "name": "stdout",
     "output_type": "stream",
     "text": [
      "Classificati 2240/12471 (17.96%) commenti...\n"
     ]
    },
    {
     "name": "stderr",
     "output_type": "stream",
     "text": [
      "Map:  18%|█▊        | 2304/12471 [04:13<18:26,  9.19 examples/s]"
     ]
    },
    {
     "name": "stdout",
     "output_type": "stream",
     "text": [
      "Classificati 2304/12471 (18.47%) commenti...\n"
     ]
    },
    {
     "name": "stderr",
     "output_type": "stream",
     "text": [
      "Map:  19%|█▉        | 2368/12471 [04:20<18:20,  9.18 examples/s]"
     ]
    },
    {
     "name": "stdout",
     "output_type": "stream",
     "text": [
      "Classificati 2368/12471 (18.99%) commenti...\n"
     ]
    },
    {
     "name": "stderr",
     "output_type": "stream",
     "text": [
      "Map:  20%|█▉        | 2432/12471 [04:28<18:17,  9.15 examples/s]"
     ]
    },
    {
     "name": "stdout",
     "output_type": "stream",
     "text": [
      "Classificati 2432/12471 (19.50%) commenti...\n"
     ]
    },
    {
     "name": "stderr",
     "output_type": "stream",
     "text": [
      "Map:  20%|██        | 2496/12471 [04:34<18:09,  9.15 examples/s]"
     ]
    },
    {
     "name": "stdout",
     "output_type": "stream",
     "text": [
      "Classificati 2496/12471 (20.01%) commenti...\n"
     ]
    },
    {
     "name": "stderr",
     "output_type": "stream",
     "text": [
      "Map:  21%|██        | 2560/12471 [04:41<18:00,  9.18 examples/s]"
     ]
    },
    {
     "name": "stdout",
     "output_type": "stream",
     "text": [
      "Classificati 2560/12471 (20.53%) commenti...\n"
     ]
    },
    {
     "name": "stderr",
     "output_type": "stream",
     "text": [
      "Map:  21%|██        | 2624/12471 [04:48<17:53,  9.18 examples/s]"
     ]
    },
    {
     "name": "stdout",
     "output_type": "stream",
     "text": [
      "Classificati 2624/12471 (21.04%) commenti...\n"
     ]
    },
    {
     "name": "stderr",
     "output_type": "stream",
     "text": [
      "Map:  22%|██▏       | 2688/12471 [04:55<17:45,  9.18 examples/s]"
     ]
    },
    {
     "name": "stdout",
     "output_type": "stream",
     "text": [
      "Classificati 2688/12471 (21.55%) commenti...\n"
     ]
    },
    {
     "name": "stderr",
     "output_type": "stream",
     "text": [
      "Map:  22%|██▏       | 2752/12471 [05:02<17:37,  9.19 examples/s]"
     ]
    },
    {
     "name": "stdout",
     "output_type": "stream",
     "text": [
      "Classificati 2752/12471 (22.07%) commenti...\n"
     ]
    },
    {
     "name": "stderr",
     "output_type": "stream",
     "text": [
      "Map:  23%|██▎       | 2816/12471 [05:09<17:31,  9.18 examples/s]"
     ]
    },
    {
     "name": "stdout",
     "output_type": "stream",
     "text": [
      "Classificati 2816/12471 (22.58%) commenti...\n"
     ]
    },
    {
     "name": "stderr",
     "output_type": "stream",
     "text": [
      "Map:  23%|██▎       | 2880/12471 [05:16<17:25,  9.18 examples/s]"
     ]
    },
    {
     "name": "stdout",
     "output_type": "stream",
     "text": [
      "Classificati 2880/12471 (23.09%) commenti...\n"
     ]
    },
    {
     "name": "stderr",
     "output_type": "stream",
     "text": [
      "Map:  24%|██▎       | 2944/12471 [05:23<17:18,  9.17 examples/s]"
     ]
    },
    {
     "name": "stdout",
     "output_type": "stream",
     "text": [
      "Classificati 2944/12471 (23.61%) commenti...\n"
     ]
    },
    {
     "name": "stderr",
     "output_type": "stream",
     "text": [
      "Map:  24%|██▍       | 3008/12471 [05:30<17:20,  9.09 examples/s]"
     ]
    },
    {
     "name": "stdout",
     "output_type": "stream",
     "text": [
      "Classificati 3008/12471 (24.12%) commenti...\n"
     ]
    },
    {
     "name": "stderr",
     "output_type": "stream",
     "text": [
      "Map:  25%|██▍       | 3072/12471 [05:37<17:10,  9.12 examples/s]"
     ]
    },
    {
     "name": "stdout",
     "output_type": "stream",
     "text": [
      "Classificati 3072/12471 (24.63%) commenti...\n"
     ]
    },
    {
     "name": "stderr",
     "output_type": "stream",
     "text": [
      "Map:  25%|██▌       | 3136/12471 [05:44<17:02,  9.13 examples/s]"
     ]
    },
    {
     "name": "stdout",
     "output_type": "stream",
     "text": [
      "Classificati 3136/12471 (25.15%) commenti...\n"
     ]
    },
    {
     "name": "stderr",
     "output_type": "stream",
     "text": [
      "Map:  26%|██▌       | 3200/12471 [05:51<16:50,  9.18 examples/s]"
     ]
    },
    {
     "name": "stdout",
     "output_type": "stream",
     "text": [
      "Classificati 3200/12471 (25.66%) commenti...\n"
     ]
    },
    {
     "name": "stderr",
     "output_type": "stream",
     "text": [
      "Map:  26%|██▌       | 3264/12471 [05:58<16:42,  9.19 examples/s]"
     ]
    },
    {
     "name": "stdout",
     "output_type": "stream",
     "text": [
      "Classificati 3264/12471 (26.17%) commenti...\n"
     ]
    },
    {
     "name": "stderr",
     "output_type": "stream",
     "text": [
      "Map:  27%|██▋       | 3328/12471 [06:05<16:32,  9.21 examples/s]"
     ]
    },
    {
     "name": "stdout",
     "output_type": "stream",
     "text": [
      "Classificati 3328/12471 (26.69%) commenti...\n"
     ]
    },
    {
     "name": "stderr",
     "output_type": "stream",
     "text": [
      "Map:  27%|██▋       | 3392/12471 [06:12<16:25,  9.21 examples/s]"
     ]
    },
    {
     "name": "stdout",
     "output_type": "stream",
     "text": [
      "Classificati 3392/12471 (27.20%) commenti...\n"
     ]
    },
    {
     "name": "stderr",
     "output_type": "stream",
     "text": [
      "Map:  28%|██▊       | 3456/12471 [06:19<16:21,  9.19 examples/s]"
     ]
    },
    {
     "name": "stdout",
     "output_type": "stream",
     "text": [
      "Classificati 3456/12471 (27.71%) commenti...\n"
     ]
    },
    {
     "name": "stderr",
     "output_type": "stream",
     "text": [
      "Map:  28%|██▊       | 3520/12471 [06:26<16:24,  9.09 examples/s]"
     ]
    },
    {
     "name": "stdout",
     "output_type": "stream",
     "text": [
      "Classificati 3520/12471 (28.23%) commenti...\n"
     ]
    },
    {
     "name": "stderr",
     "output_type": "stream",
     "text": [
      "Map:  29%|██▊       | 3584/12471 [06:33<16:14,  9.12 examples/s]"
     ]
    },
    {
     "name": "stdout",
     "output_type": "stream",
     "text": [
      "Classificati 3584/12471 (28.74%) commenti...\n"
     ]
    },
    {
     "name": "stderr",
     "output_type": "stream",
     "text": [
      "Map:  29%|██▉       | 3648/12471 [06:40<16:05,  9.14 examples/s]"
     ]
    },
    {
     "name": "stdout",
     "output_type": "stream",
     "text": [
      "Classificati 3648/12471 (29.25%) commenti...\n"
     ]
    },
    {
     "name": "stderr",
     "output_type": "stream",
     "text": [
      "Map:  30%|██▉       | 3712/12471 [06:47<15:55,  9.17 examples/s]"
     ]
    },
    {
     "name": "stdout",
     "output_type": "stream",
     "text": [
      "Classificati 3712/12471 (29.77%) commenti...\n"
     ]
    },
    {
     "name": "stderr",
     "output_type": "stream",
     "text": [
      "Map:  30%|███       | 3776/12471 [06:54<15:45,  9.20 examples/s]"
     ]
    },
    {
     "name": "stdout",
     "output_type": "stream",
     "text": [
      "Classificati 3776/12471 (30.28%) commenti...\n"
     ]
    },
    {
     "name": "stderr",
     "output_type": "stream",
     "text": [
      "Map:  31%|███       | 3840/12471 [07:01<15:35,  9.22 examples/s]"
     ]
    },
    {
     "name": "stdout",
     "output_type": "stream",
     "text": [
      "Classificati 3840/12471 (30.79%) commenti...\n"
     ]
    },
    {
     "name": "stderr",
     "output_type": "stream",
     "text": [
      "Map:  31%|███▏      | 3904/12471 [07:08<15:30,  9.21 examples/s]"
     ]
    },
    {
     "name": "stdout",
     "output_type": "stream",
     "text": [
      "Classificati 3904/12471 (31.30%) commenti...\n"
     ]
    },
    {
     "name": "stderr",
     "output_type": "stream",
     "text": [
      "Map:  32%|███▏      | 3968/12471 [07:15<15:24,  9.19 examples/s]"
     ]
    },
    {
     "name": "stdout",
     "output_type": "stream",
     "text": [
      "Classificati 3968/12471 (31.82%) commenti...\n"
     ]
    },
    {
     "name": "stderr",
     "output_type": "stream",
     "text": [
      "Map:  32%|███▏      | 4032/12471 [07:22<15:16,  9.21 examples/s]"
     ]
    },
    {
     "name": "stdout",
     "output_type": "stream",
     "text": [
      "Classificati 4032/12471 (32.33%) commenti...\n"
     ]
    },
    {
     "name": "stderr",
     "output_type": "stream",
     "text": [
      "Map:  33%|███▎      | 4096/12471 [07:29<15:13,  9.16 examples/s]"
     ]
    },
    {
     "name": "stdout",
     "output_type": "stream",
     "text": [
      "Classificati 4096/12471 (32.84%) commenti...\n"
     ]
    },
    {
     "name": "stderr",
     "output_type": "stream",
     "text": [
      "Map:  33%|███▎      | 4160/12471 [07:36<15:08,  9.15 examples/s]"
     ]
    },
    {
     "name": "stdout",
     "output_type": "stream",
     "text": [
      "Classificati 4160/12471 (33.36%) commenti...\n"
     ]
    },
    {
     "name": "stderr",
     "output_type": "stream",
     "text": [
      "Map:  34%|███▍      | 4224/12471 [07:43<14:59,  9.17 examples/s]"
     ]
    },
    {
     "name": "stdout",
     "output_type": "stream",
     "text": [
      "Classificati 4224/12471 (33.87%) commenti...\n"
     ]
    },
    {
     "name": "stderr",
     "output_type": "stream",
     "text": [
      "Map:  34%|███▍      | 4288/12471 [07:50<14:51,  9.17 examples/s]"
     ]
    },
    {
     "name": "stdout",
     "output_type": "stream",
     "text": [
      "Classificati 4288/12471 (34.38%) commenti...\n"
     ]
    },
    {
     "name": "stderr",
     "output_type": "stream",
     "text": [
      "Map:  35%|███▍      | 4352/12471 [07:57<14:45,  9.17 examples/s]"
     ]
    },
    {
     "name": "stdout",
     "output_type": "stream",
     "text": [
      "Classificati 4352/12471 (34.90%) commenti...\n"
     ]
    },
    {
     "name": "stderr",
     "output_type": "stream",
     "text": [
      "Map:  35%|███▌      | 4416/12471 [08:04<14:35,  9.21 examples/s]"
     ]
    },
    {
     "name": "stdout",
     "output_type": "stream",
     "text": [
      "Classificati 4416/12471 (35.41%) commenti...\n"
     ]
    },
    {
     "name": "stderr",
     "output_type": "stream",
     "text": [
      "Map:  36%|███▌      | 4480/12471 [08:11<14:25,  9.24 examples/s]"
     ]
    },
    {
     "name": "stdout",
     "output_type": "stream",
     "text": [
      "Classificati 4480/12471 (35.92%) commenti...\n"
     ]
    },
    {
     "name": "stderr",
     "output_type": "stream",
     "text": [
      "Map:  36%|███▋      | 4544/12471 [08:18<14:22,  9.19 examples/s]"
     ]
    },
    {
     "name": "stdout",
     "output_type": "stream",
     "text": [
      "Classificati 4544/12471 (36.44%) commenti...\n"
     ]
    },
    {
     "name": "stderr",
     "output_type": "stream",
     "text": [
      "Map:  37%|███▋      | 4608/12471 [08:25<14:17,  9.17 examples/s]"
     ]
    },
    {
     "name": "stdout",
     "output_type": "stream",
     "text": [
      "Classificati 4608/12471 (36.95%) commenti...\n"
     ]
    },
    {
     "name": "stderr",
     "output_type": "stream",
     "text": [
      "Map:  37%|███▋      | 4672/12471 [08:32<14:14,  9.12 examples/s]"
     ]
    },
    {
     "name": "stdout",
     "output_type": "stream",
     "text": [
      "Classificati 4672/12471 (37.46%) commenti...\n"
     ]
    },
    {
     "name": "stderr",
     "output_type": "stream",
     "text": [
      "Map:  38%|███▊      | 4736/12471 [08:39<14:04,  9.16 examples/s]"
     ]
    },
    {
     "name": "stdout",
     "output_type": "stream",
     "text": [
      "Classificati 4736/12471 (37.98%) commenti...\n"
     ]
    },
    {
     "name": "stderr",
     "output_type": "stream",
     "text": [
      "Map:  38%|███▊      | 4800/12471 [08:46<13:57,  9.16 examples/s]"
     ]
    },
    {
     "name": "stdout",
     "output_type": "stream",
     "text": [
      "Classificati 4800/12471 (38.49%) commenti...\n"
     ]
    },
    {
     "name": "stderr",
     "output_type": "stream",
     "text": [
      "Map:  39%|███▉      | 4864/12471 [08:53<13:51,  9.15 examples/s]"
     ]
    },
    {
     "name": "stdout",
     "output_type": "stream",
     "text": [
      "Classificati 4864/12471 (39.00%) commenti...\n"
     ]
    },
    {
     "name": "stderr",
     "output_type": "stream",
     "text": [
      "Map:  40%|███▉      | 4928/12471 [09:00<13:55,  9.03 examples/s]"
     ]
    },
    {
     "name": "stdout",
     "output_type": "stream",
     "text": [
      "Classificati 4928/12471 (39.52%) commenti...\n"
     ]
    },
    {
     "name": "stderr",
     "output_type": "stream",
     "text": [
      "Map:  40%|████      | 4992/12471 [09:07<13:55,  8.95 examples/s]"
     ]
    },
    {
     "name": "stdout",
     "output_type": "stream",
     "text": [
      "Classificati 4992/12471 (40.03%) commenti...\n"
     ]
    },
    {
     "name": "stderr",
     "output_type": "stream",
     "text": [
      "Map:  41%|████      | 5056/12471 [09:14<13:41,  9.03 examples/s]"
     ]
    },
    {
     "name": "stdout",
     "output_type": "stream",
     "text": [
      "Classificati 5056/12471 (40.54%) commenti...\n"
     ]
    },
    {
     "name": "stderr",
     "output_type": "stream",
     "text": [
      "Map:  41%|████      | 5120/12471 [09:21<13:30,  9.07 examples/s]"
     ]
    },
    {
     "name": "stdout",
     "output_type": "stream",
     "text": [
      "Classificati 5120/12471 (41.06%) commenti...\n"
     ]
    },
    {
     "name": "stderr",
     "output_type": "stream",
     "text": [
      "Map:  42%|████▏     | 5184/12471 [09:28<13:26,  9.04 examples/s]"
     ]
    },
    {
     "name": "stdout",
     "output_type": "stream",
     "text": [
      "Classificati 5184/12471 (41.57%) commenti...\n"
     ]
    },
    {
     "name": "stderr",
     "output_type": "stream",
     "text": [
      "Map:  42%|████▏     | 5248/12471 [09:35<13:14,  9.09 examples/s]"
     ]
    },
    {
     "name": "stdout",
     "output_type": "stream",
     "text": [
      "Classificati 5248/12471 (42.08%) commenti...\n"
     ]
    },
    {
     "name": "stderr",
     "output_type": "stream",
     "text": [
      "Map:  43%|████▎     | 5312/12471 [09:42<13:04,  9.13 examples/s]"
     ]
    },
    {
     "name": "stdout",
     "output_type": "stream",
     "text": [
      "Classificati 5312/12471 (42.59%) commenti...\n"
     ]
    },
    {
     "name": "stderr",
     "output_type": "stream",
     "text": [
      "Map:  43%|████▎     | 5376/12471 [09:49<12:56,  9.14 examples/s]"
     ]
    },
    {
     "name": "stdout",
     "output_type": "stream",
     "text": [
      "Classificati 5376/12471 (43.11%) commenti...\n"
     ]
    },
    {
     "name": "stderr",
     "output_type": "stream",
     "text": [
      "Map:  44%|████▎     | 5440/12471 [09:56<12:45,  9.18 examples/s]"
     ]
    },
    {
     "name": "stdout",
     "output_type": "stream",
     "text": [
      "Classificati 5440/12471 (43.62%) commenti...\n"
     ]
    },
    {
     "name": "stderr",
     "output_type": "stream",
     "text": [
      "Map:  44%|████▍     | 5504/12471 [10:03<12:41,  9.14 examples/s]"
     ]
    },
    {
     "name": "stdout",
     "output_type": "stream",
     "text": [
      "Classificati 5504/12471 (44.13%) commenti...\n"
     ]
    },
    {
     "name": "stderr",
     "output_type": "stream",
     "text": [
      "Map:  45%|████▍     | 5568/12471 [10:10<12:31,  9.19 examples/s]"
     ]
    },
    {
     "name": "stdout",
     "output_type": "stream",
     "text": [
      "Classificati 5568/12471 (44.65%) commenti...\n"
     ]
    },
    {
     "name": "stderr",
     "output_type": "stream",
     "text": [
      "Map:  45%|████▌     | 5632/12471 [10:17<12:23,  9.20 examples/s]"
     ]
    },
    {
     "name": "stdout",
     "output_type": "stream",
     "text": [
      "Classificati 5632/12471 (45.16%) commenti...\n"
     ]
    },
    {
     "name": "stderr",
     "output_type": "stream",
     "text": [
      "Map:  46%|████▌     | 5696/12471 [10:24<12:16,  9.20 examples/s]"
     ]
    },
    {
     "name": "stdout",
     "output_type": "stream",
     "text": [
      "Classificati 5696/12471 (45.67%) commenti...\n"
     ]
    },
    {
     "name": "stderr",
     "output_type": "stream",
     "text": [
      "Map:  46%|████▌     | 5760/12471 [10:31<12:11,  9.18 examples/s]"
     ]
    },
    {
     "name": "stdout",
     "output_type": "stream",
     "text": [
      "Classificati 5760/12471 (46.19%) commenti...\n"
     ]
    },
    {
     "name": "stderr",
     "output_type": "stream",
     "text": [
      "Map:  47%|████▋     | 5824/12471 [10:38<12:01,  9.21 examples/s]"
     ]
    },
    {
     "name": "stdout",
     "output_type": "stream",
     "text": [
      "Classificati 5824/12471 (46.70%) commenti...\n"
     ]
    },
    {
     "name": "stderr",
     "output_type": "stream",
     "text": [
      "Map:  47%|████▋     | 5888/12471 [10:45<11:54,  9.21 examples/s]"
     ]
    },
    {
     "name": "stdout",
     "output_type": "stream",
     "text": [
      "Classificati 5888/12471 (47.21%) commenti...\n"
     ]
    },
    {
     "name": "stderr",
     "output_type": "stream",
     "text": [
      "Map:  48%|████▊     | 5952/12471 [10:52<11:48,  9.20 examples/s]"
     ]
    },
    {
     "name": "stdout",
     "output_type": "stream",
     "text": [
      "Classificati 5952/12471 (47.73%) commenti...\n"
     ]
    },
    {
     "name": "stderr",
     "output_type": "stream",
     "text": [
      "Map:  48%|████▊     | 6016/12471 [10:59<11:41,  9.20 examples/s]"
     ]
    },
    {
     "name": "stdout",
     "output_type": "stream",
     "text": [
      "Classificati 6016/12471 (48.24%) commenti...\n"
     ]
    },
    {
     "name": "stderr",
     "output_type": "stream",
     "text": [
      "Map:  49%|████▉     | 6080/12471 [11:06<11:34,  9.20 examples/s]"
     ]
    },
    {
     "name": "stdout",
     "output_type": "stream",
     "text": [
      "Classificati 6080/12471 (48.75%) commenti...\n"
     ]
    },
    {
     "name": "stderr",
     "output_type": "stream",
     "text": [
      "Map:  49%|████▉     | 6144/12471 [11:13<11:28,  9.19 examples/s]"
     ]
    },
    {
     "name": "stdout",
     "output_type": "stream",
     "text": [
      "Classificati 6144/12471 (49.27%) commenti...\n"
     ]
    },
    {
     "name": "stderr",
     "output_type": "stream",
     "text": [
      "Map:  50%|████▉     | 6208/12471 [11:20<11:24,  9.16 examples/s]"
     ]
    },
    {
     "name": "stdout",
     "output_type": "stream",
     "text": [
      "Classificati 6208/12471 (49.78%) commenti...\n"
     ]
    },
    {
     "name": "stderr",
     "output_type": "stream",
     "text": [
      "Map:  50%|█████     | 6272/12471 [11:27<11:23,  9.07 examples/s]"
     ]
    },
    {
     "name": "stdout",
     "output_type": "stream",
     "text": [
      "Classificati 6272/12471 (50.29%) commenti...\n"
     ]
    },
    {
     "name": "stderr",
     "output_type": "stream",
     "text": [
      "Map:  51%|█████     | 6336/12471 [11:34<11:10,  9.15 examples/s]"
     ]
    },
    {
     "name": "stdout",
     "output_type": "stream",
     "text": [
      "Classificati 6336/12471 (50.81%) commenti...\n"
     ]
    },
    {
     "name": "stderr",
     "output_type": "stream",
     "text": [
      "Map:  51%|█████▏    | 6400/12471 [11:41<11:01,  9.18 examples/s]"
     ]
    },
    {
     "name": "stdout",
     "output_type": "stream",
     "text": [
      "Classificati 6400/12471 (51.32%) commenti...\n"
     ]
    },
    {
     "name": "stderr",
     "output_type": "stream",
     "text": [
      "Map:  52%|█████▏    | 6464/12471 [11:48<10:52,  9.21 examples/s]"
     ]
    },
    {
     "name": "stdout",
     "output_type": "stream",
     "text": [
      "Classificati 6464/12471 (51.83%) commenti...\n"
     ]
    },
    {
     "name": "stderr",
     "output_type": "stream",
     "text": [
      "Map:  52%|█████▏    | 6528/12471 [11:54<10:42,  9.24 examples/s]"
     ]
    },
    {
     "name": "stdout",
     "output_type": "stream",
     "text": [
      "Classificati 6528/12471 (52.35%) commenti...\n"
     ]
    },
    {
     "name": "stderr",
     "output_type": "stream",
     "text": [
      "Map:  53%|█████▎    | 6592/12471 [12:01<10:37,  9.23 examples/s]"
     ]
    },
    {
     "name": "stdout",
     "output_type": "stream",
     "text": [
      "Classificati 6592/12471 (52.86%) commenti...\n"
     ]
    },
    {
     "name": "stderr",
     "output_type": "stream",
     "text": [
      "Map:  53%|█████▎    | 6656/12471 [12:08<10:29,  9.24 examples/s]"
     ]
    },
    {
     "name": "stdout",
     "output_type": "stream",
     "text": [
      "Classificati 6656/12471 (53.37%) commenti...\n"
     ]
    },
    {
     "name": "stderr",
     "output_type": "stream",
     "text": [
      "Map:  54%|█████▍    | 6720/12471 [12:15<10:24,  9.22 examples/s]"
     ]
    },
    {
     "name": "stdout",
     "output_type": "stream",
     "text": [
      "Classificati 6720/12471 (53.89%) commenti...\n"
     ]
    },
    {
     "name": "stderr",
     "output_type": "stream",
     "text": [
      "Map:  54%|█████▍    | 6784/12471 [12:22<10:20,  9.17 examples/s]"
     ]
    },
    {
     "name": "stdout",
     "output_type": "stream",
     "text": [
      "Classificati 6784/12471 (54.40%) commenti...\n"
     ]
    },
    {
     "name": "stderr",
     "output_type": "stream",
     "text": [
      "Map:  55%|█████▍    | 6848/12471 [12:29<10:15,  9.14 examples/s]"
     ]
    },
    {
     "name": "stdout",
     "output_type": "stream",
     "text": [
      "Classificati 6848/12471 (54.91%) commenti...\n"
     ]
    },
    {
     "name": "stderr",
     "output_type": "stream",
     "text": [
      "Map:  55%|█████▌    | 6912/12471 [12:37<10:11,  9.09 examples/s]"
     ]
    },
    {
     "name": "stdout",
     "output_type": "stream",
     "text": [
      "Classificati 6912/12471 (55.42%) commenti...\n"
     ]
    },
    {
     "name": "stderr",
     "output_type": "stream",
     "text": [
      "Map:  56%|█████▌    | 6976/12471 [12:44<10:05,  9.08 examples/s]"
     ]
    },
    {
     "name": "stdout",
     "output_type": "stream",
     "text": [
      "Classificati 6976/12471 (55.94%) commenti...\n"
     ]
    },
    {
     "name": "stderr",
     "output_type": "stream",
     "text": [
      "Map:  56%|█████▋    | 7040/12471 [12:51<09:53,  9.15 examples/s]"
     ]
    },
    {
     "name": "stdout",
     "output_type": "stream",
     "text": [
      "Classificati 7040/12471 (56.45%) commenti...\n"
     ]
    },
    {
     "name": "stderr",
     "output_type": "stream",
     "text": [
      "Map:  57%|█████▋    | 7104/12471 [12:57<09:45,  9.17 examples/s]"
     ]
    },
    {
     "name": "stdout",
     "output_type": "stream",
     "text": [
      "Classificati 7104/12471 (56.96%) commenti...\n"
     ]
    },
    {
     "name": "stderr",
     "output_type": "stream",
     "text": [
      "Map:  57%|█████▋    | 7168/12471 [13:04<09:38,  9.16 examples/s]"
     ]
    },
    {
     "name": "stdout",
     "output_type": "stream",
     "text": [
      "Classificati 7168/12471 (57.48%) commenti...\n"
     ]
    },
    {
     "name": "stderr",
     "output_type": "stream",
     "text": [
      "Map:  58%|█████▊    | 7232/12471 [13:11<09:31,  9.16 examples/s]"
     ]
    },
    {
     "name": "stdout",
     "output_type": "stream",
     "text": [
      "Classificati 7232/12471 (57.99%) commenti...\n"
     ]
    },
    {
     "name": "stderr",
     "output_type": "stream",
     "text": [
      "Map:  59%|█████▊    | 7296/12471 [13:18<09:24,  9.16 examples/s]"
     ]
    },
    {
     "name": "stdout",
     "output_type": "stream",
     "text": [
      "Classificati 7296/12471 (58.50%) commenti...\n"
     ]
    },
    {
     "name": "stderr",
     "output_type": "stream",
     "text": [
      "Map:  59%|█████▉    | 7360/12471 [13:26<09:21,  9.11 examples/s]"
     ]
    },
    {
     "name": "stdout",
     "output_type": "stream",
     "text": [
      "Classificati 7360/12471 (59.02%) commenti...\n"
     ]
    },
    {
     "name": "stderr",
     "output_type": "stream",
     "text": [
      "Map:  60%|█████▉    | 7424/12471 [13:32<09:11,  9.14 examples/s]"
     ]
    },
    {
     "name": "stdout",
     "output_type": "stream",
     "text": [
      "Classificati 7424/12471 (59.53%) commenti...\n"
     ]
    },
    {
     "name": "stderr",
     "output_type": "stream",
     "text": [
      "Map:  60%|██████    | 7488/12471 [13:39<09:04,  9.15 examples/s]"
     ]
    },
    {
     "name": "stdout",
     "output_type": "stream",
     "text": [
      "Classificati 7488/12471 (60.04%) commenti...\n"
     ]
    },
    {
     "name": "stderr",
     "output_type": "stream",
     "text": [
      "Map:  61%|██████    | 7552/12471 [13:46<08:57,  9.14 examples/s]"
     ]
    },
    {
     "name": "stdout",
     "output_type": "stream",
     "text": [
      "Classificati 7552/12471 (60.56%) commenti...\n"
     ]
    },
    {
     "name": "stderr",
     "output_type": "stream",
     "text": [
      "Map:  61%|██████    | 7616/12471 [13:53<08:49,  9.16 examples/s]"
     ]
    },
    {
     "name": "stdout",
     "output_type": "stream",
     "text": [
      "Classificati 7616/12471 (61.07%) commenti...\n"
     ]
    },
    {
     "name": "stderr",
     "output_type": "stream",
     "text": [
      "Map:  62%|██████▏   | 7680/12471 [14:00<08:39,  9.22 examples/s]"
     ]
    },
    {
     "name": "stdout",
     "output_type": "stream",
     "text": [
      "Classificati 7680/12471 (61.58%) commenti...\n"
     ]
    },
    {
     "name": "stderr",
     "output_type": "stream",
     "text": [
      "Map:  62%|██████▏   | 7744/12471 [14:07<08:32,  9.22 examples/s]"
     ]
    },
    {
     "name": "stdout",
     "output_type": "stream",
     "text": [
      "Classificati 7744/12471 (62.10%) commenti...\n"
     ]
    },
    {
     "name": "stderr",
     "output_type": "stream",
     "text": [
      "Map:  63%|██████▎   | 7808/12471 [14:14<08:26,  9.20 examples/s]"
     ]
    },
    {
     "name": "stdout",
     "output_type": "stream",
     "text": [
      "Classificati 7808/12471 (62.61%) commenti...\n"
     ]
    },
    {
     "name": "stderr",
     "output_type": "stream",
     "text": [
      "Map:  63%|██████▎   | 7872/12471 [14:21<08:19,  9.20 examples/s]"
     ]
    },
    {
     "name": "stdout",
     "output_type": "stream",
     "text": [
      "Classificati 7872/12471 (63.12%) commenti...\n"
     ]
    },
    {
     "name": "stderr",
     "output_type": "stream",
     "text": [
      "Map:  64%|██████▎   | 7936/12471 [14:28<08:17,  9.12 examples/s]"
     ]
    },
    {
     "name": "stdout",
     "output_type": "stream",
     "text": [
      "Classificati 7936/12471 (63.64%) commenti...\n"
     ]
    },
    {
     "name": "stderr",
     "output_type": "stream",
     "text": [
      "Map:  64%|██████▍   | 8000/12471 [14:35<08:10,  9.12 examples/s]"
     ]
    },
    {
     "name": "stdout",
     "output_type": "stream",
     "text": [
      "Classificati 8000/12471 (64.15%) commenti...\n"
     ]
    },
    {
     "name": "stderr",
     "output_type": "stream",
     "text": [
      "Map:  65%|██████▍   | 8064/12471 [14:42<08:02,  9.12 examples/s]"
     ]
    },
    {
     "name": "stdout",
     "output_type": "stream",
     "text": [
      "Classificati 8064/12471 (64.66%) commenti...\n"
     ]
    },
    {
     "name": "stderr",
     "output_type": "stream",
     "text": [
      "Map:  65%|██████▌   | 8128/12471 [14:49<07:53,  9.17 examples/s]"
     ]
    },
    {
     "name": "stdout",
     "output_type": "stream",
     "text": [
      "Classificati 8128/12471 (65.18%) commenti...\n"
     ]
    },
    {
     "name": "stderr",
     "output_type": "stream",
     "text": [
      "Map:  66%|██████▌   | 8192/12471 [14:56<07:47,  9.15 examples/s]"
     ]
    },
    {
     "name": "stdout",
     "output_type": "stream",
     "text": [
      "Classificati 8192/12471 (65.69%) commenti...\n"
     ]
    },
    {
     "name": "stderr",
     "output_type": "stream",
     "text": [
      "Map:  66%|██████▌   | 8256/12471 [15:03<07:37,  9.21 examples/s]"
     ]
    },
    {
     "name": "stdout",
     "output_type": "stream",
     "text": [
      "Classificati 8256/12471 (66.20%) commenti...\n"
     ]
    },
    {
     "name": "stderr",
     "output_type": "stream",
     "text": [
      "Map:  67%|██████▋   | 8320/12471 [15:10<07:30,  9.22 examples/s]"
     ]
    },
    {
     "name": "stdout",
     "output_type": "stream",
     "text": [
      "Classificati 8320/12471 (66.71%) commenti...\n"
     ]
    },
    {
     "name": "stderr",
     "output_type": "stream",
     "text": [
      "Map:  67%|██████▋   | 8384/12471 [15:17<07:25,  9.18 examples/s]"
     ]
    },
    {
     "name": "stdout",
     "output_type": "stream",
     "text": [
      "Classificati 8384/12471 (67.23%) commenti...\n"
     ]
    },
    {
     "name": "stderr",
     "output_type": "stream",
     "text": [
      "Map:  68%|██████▊   | 8448/12471 [15:24<07:17,  9.19 examples/s]"
     ]
    },
    {
     "name": "stdout",
     "output_type": "stream",
     "text": [
      "Classificati 8448/12471 (67.74%) commenti...\n"
     ]
    },
    {
     "name": "stderr",
     "output_type": "stream",
     "text": [
      "Map:  68%|██████▊   | 8512/12471 [15:31<07:14,  9.12 examples/s]"
     ]
    },
    {
     "name": "stdout",
     "output_type": "stream",
     "text": [
      "Classificati 8512/12471 (68.25%) commenti...\n"
     ]
    },
    {
     "name": "stderr",
     "output_type": "stream",
     "text": [
      "Map:  69%|██████▉   | 8576/12471 [15:38<07:05,  9.16 examples/s]"
     ]
    },
    {
     "name": "stdout",
     "output_type": "stream",
     "text": [
      "Classificati 8576/12471 (68.77%) commenti...\n"
     ]
    },
    {
     "name": "stderr",
     "output_type": "stream",
     "text": [
      "Map:  69%|██████▉   | 8640/12471 [15:45<06:58,  9.16 examples/s]"
     ]
    },
    {
     "name": "stdout",
     "output_type": "stream",
     "text": [
      "Classificati 8640/12471 (69.28%) commenti...\n"
     ]
    },
    {
     "name": "stderr",
     "output_type": "stream",
     "text": [
      "Map:  70%|██████▉   | 8704/12471 [15:52<06:50,  9.18 examples/s]"
     ]
    },
    {
     "name": "stdout",
     "output_type": "stream",
     "text": [
      "Classificati 8704/12471 (69.79%) commenti...\n"
     ]
    },
    {
     "name": "stderr",
     "output_type": "stream",
     "text": [
      "Map:  70%|███████   | 8768/12471 [15:59<06:42,  9.19 examples/s]"
     ]
    },
    {
     "name": "stdout",
     "output_type": "stream",
     "text": [
      "Classificati 8768/12471 (70.31%) commenti...\n"
     ]
    },
    {
     "name": "stderr",
     "output_type": "stream",
     "text": [
      "Map:  71%|███████   | 8832/12471 [16:06<06:35,  9.21 examples/s]"
     ]
    },
    {
     "name": "stdout",
     "output_type": "stream",
     "text": [
      "Classificati 8832/12471 (70.82%) commenti...\n"
     ]
    },
    {
     "name": "stderr",
     "output_type": "stream",
     "text": [
      "Map:  71%|███████▏  | 8896/12471 [16:13<06:28,  9.20 examples/s]"
     ]
    },
    {
     "name": "stdout",
     "output_type": "stream",
     "text": [
      "Classificati 8896/12471 (71.33%) commenti...\n"
     ]
    },
    {
     "name": "stderr",
     "output_type": "stream",
     "text": [
      "Map:  72%|███████▏  | 8960/12471 [16:20<06:22,  9.18 examples/s]"
     ]
    },
    {
     "name": "stdout",
     "output_type": "stream",
     "text": [
      "Classificati 8960/12471 (71.85%) commenti...\n"
     ]
    },
    {
     "name": "stderr",
     "output_type": "stream",
     "text": [
      "Map:  72%|███████▏  | 9024/12471 [16:27<06:20,  9.07 examples/s]"
     ]
    },
    {
     "name": "stdout",
     "output_type": "stream",
     "text": [
      "Classificati 9024/12471 (72.36%) commenti...\n"
     ]
    },
    {
     "name": "stderr",
     "output_type": "stream",
     "text": [
      "Map:  73%|███████▎  | 9088/12471 [16:34<06:11,  9.10 examples/s]"
     ]
    },
    {
     "name": "stdout",
     "output_type": "stream",
     "text": [
      "Classificati 9088/12471 (72.87%) commenti...\n"
     ]
    },
    {
     "name": "stderr",
     "output_type": "stream",
     "text": [
      "Map:  73%|███████▎  | 9152/12471 [16:41<06:03,  9.13 examples/s]"
     ]
    },
    {
     "name": "stdout",
     "output_type": "stream",
     "text": [
      "Classificati 9152/12471 (73.39%) commenti...\n"
     ]
    },
    {
     "name": "stderr",
     "output_type": "stream",
     "text": [
      "Map:  74%|███████▍  | 9216/12471 [16:48<05:56,  9.13 examples/s]"
     ]
    },
    {
     "name": "stdout",
     "output_type": "stream",
     "text": [
      "Classificati 9216/12471 (73.90%) commenti...\n"
     ]
    },
    {
     "name": "stderr",
     "output_type": "stream",
     "text": [
      "Map:  74%|███████▍  | 9280/12471 [16:55<05:54,  9.01 examples/s]"
     ]
    },
    {
     "name": "stdout",
     "output_type": "stream",
     "text": [
      "Classificati 9280/12471 (74.41%) commenti...\n"
     ]
    },
    {
     "name": "stderr",
     "output_type": "stream",
     "text": [
      "Map:  75%|███████▍  | 9344/12471 [17:02<05:47,  9.00 examples/s]"
     ]
    },
    {
     "name": "stdout",
     "output_type": "stream",
     "text": [
      "Classificati 9344/12471 (74.93%) commenti...\n"
     ]
    },
    {
     "name": "stderr",
     "output_type": "stream",
     "text": [
      "Map:  75%|███████▌  | 9408/12471 [17:09<05:38,  9.06 examples/s]"
     ]
    },
    {
     "name": "stdout",
     "output_type": "stream",
     "text": [
      "Classificati 9408/12471 (75.44%) commenti...\n"
     ]
    },
    {
     "name": "stderr",
     "output_type": "stream",
     "text": [
      "Map:  76%|███████▌  | 9472/12471 [17:16<05:30,  9.08 examples/s]"
     ]
    },
    {
     "name": "stdout",
     "output_type": "stream",
     "text": [
      "Classificati 9472/12471 (75.95%) commenti...\n"
     ]
    },
    {
     "name": "stderr",
     "output_type": "stream",
     "text": [
      "Map:  76%|███████▋  | 9536/12471 [17:24<05:24,  9.05 examples/s]"
     ]
    },
    {
     "name": "stdout",
     "output_type": "stream",
     "text": [
      "Classificati 9536/12471 (76.47%) commenti...\n"
     ]
    },
    {
     "name": "stderr",
     "output_type": "stream",
     "text": [
      "Map:  77%|███████▋  | 9600/12471 [17:31<05:18,  9.03 examples/s]"
     ]
    },
    {
     "name": "stdout",
     "output_type": "stream",
     "text": [
      "Classificati 9600/12471 (76.98%) commenti...\n"
     ]
    },
    {
     "name": "stderr",
     "output_type": "stream",
     "text": [
      "Map:  77%|███████▋  | 9664/12471 [17:38<05:09,  9.08 examples/s]"
     ]
    },
    {
     "name": "stdout",
     "output_type": "stream",
     "text": [
      "Classificati 9664/12471 (77.49%) commenti...\n"
     ]
    },
    {
     "name": "stderr",
     "output_type": "stream",
     "text": [
      "Map:  78%|███████▊  | 9728/12471 [17:45<05:01,  9.11 examples/s]"
     ]
    },
    {
     "name": "stdout",
     "output_type": "stream",
     "text": [
      "Classificati 9728/12471 (78.00%) commenti...\n"
     ]
    },
    {
     "name": "stderr",
     "output_type": "stream",
     "text": [
      "Map:  79%|███████▊  | 9792/12471 [17:52<04:53,  9.14 examples/s]"
     ]
    },
    {
     "name": "stdout",
     "output_type": "stream",
     "text": [
      "Classificati 9792/12471 (78.52%) commenti...\n"
     ]
    },
    {
     "name": "stderr",
     "output_type": "stream",
     "text": [
      "Map:  79%|███████▉  | 9856/12471 [17:58<04:44,  9.19 examples/s]"
     ]
    },
    {
     "name": "stdout",
     "output_type": "stream",
     "text": [
      "Classificati 9856/12471 (79.03%) commenti...\n"
     ]
    },
    {
     "name": "stderr",
     "output_type": "stream",
     "text": [
      "Map:  80%|███████▉  | 9920/12471 [18:05<04:38,  9.17 examples/s]"
     ]
    },
    {
     "name": "stdout",
     "output_type": "stream",
     "text": [
      "Classificati 9920/12471 (79.54%) commenti...\n"
     ]
    },
    {
     "name": "stderr",
     "output_type": "stream",
     "text": [
      "Map:  80%|████████  | 9984/12471 [18:12<04:30,  9.19 examples/s]"
     ]
    },
    {
     "name": "stdout",
     "output_type": "stream",
     "text": [
      "Classificati 9984/12471 (80.06%) commenti...\n"
     ]
    },
    {
     "name": "stderr",
     "output_type": "stream",
     "text": [
      "Map:  81%|████████  | 10048/12471 [18:19<04:24,  9.17 examples/s]"
     ]
    },
    {
     "name": "stdout",
     "output_type": "stream",
     "text": [
      "Classificati 10048/12471 (80.57%) commenti...\n"
     ]
    },
    {
     "name": "stderr",
     "output_type": "stream",
     "text": [
      "Map:  81%|████████  | 10112/12471 [18:27<04:19,  9.08 examples/s]"
     ]
    },
    {
     "name": "stdout",
     "output_type": "stream",
     "text": [
      "Classificati 10112/12471 (81.08%) commenti...\n"
     ]
    },
    {
     "name": "stderr",
     "output_type": "stream",
     "text": [
      "Map:  82%|████████▏ | 10176/12471 [18:34<04:11,  9.14 examples/s]"
     ]
    },
    {
     "name": "stdout",
     "output_type": "stream",
     "text": [
      "Classificati 10176/12471 (81.60%) commenti...\n"
     ]
    },
    {
     "name": "stderr",
     "output_type": "stream",
     "text": [
      "Map:  82%|████████▏ | 10240/12471 [18:41<04:04,  9.12 examples/s]"
     ]
    },
    {
     "name": "stdout",
     "output_type": "stream",
     "text": [
      "Classificati 10240/12471 (82.11%) commenti...\n"
     ]
    },
    {
     "name": "stderr",
     "output_type": "stream",
     "text": [
      "Map:  83%|████████▎ | 10304/12471 [18:48<03:57,  9.14 examples/s]"
     ]
    },
    {
     "name": "stdout",
     "output_type": "stream",
     "text": [
      "Classificati 10304/12471 (82.62%) commenti...\n"
     ]
    },
    {
     "name": "stderr",
     "output_type": "stream",
     "text": [
      "Map:  83%|████████▎ | 10368/12471 [18:54<03:49,  9.17 examples/s]"
     ]
    },
    {
     "name": "stdout",
     "output_type": "stream",
     "text": [
      "Classificati 10368/12471 (83.14%) commenti...\n"
     ]
    },
    {
     "name": "stderr",
     "output_type": "stream",
     "text": [
      "Map:  84%|████████▎ | 10432/12471 [19:01<03:42,  9.16 examples/s]"
     ]
    },
    {
     "name": "stdout",
     "output_type": "stream",
     "text": [
      "Classificati 10432/12471 (83.65%) commenti...\n"
     ]
    },
    {
     "name": "stderr",
     "output_type": "stream",
     "text": [
      "Map:  84%|████████▍ | 10496/12471 [19:09<03:35,  9.14 examples/s]"
     ]
    },
    {
     "name": "stdout",
     "output_type": "stream",
     "text": [
      "Classificati 10496/12471 (84.16%) commenti...\n"
     ]
    },
    {
     "name": "stderr",
     "output_type": "stream",
     "text": [
      "Map:  85%|████████▍ | 10560/12471 [19:16<03:31,  9.05 examples/s]"
     ]
    },
    {
     "name": "stdout",
     "output_type": "stream",
     "text": [
      "Classificati 10560/12471 (84.68%) commenti...\n"
     ]
    },
    {
     "name": "stderr",
     "output_type": "stream",
     "text": [
      "Map:  85%|████████▌ | 10624/12471 [19:23<03:25,  8.99 examples/s]"
     ]
    },
    {
     "name": "stdout",
     "output_type": "stream",
     "text": [
      "Classificati 10624/12471 (85.19%) commenti...\n"
     ]
    },
    {
     "name": "stderr",
     "output_type": "stream",
     "text": [
      "Map:  86%|████████▌ | 10688/12471 [19:30<03:18,  8.99 examples/s]"
     ]
    },
    {
     "name": "stdout",
     "output_type": "stream",
     "text": [
      "Classificati 10688/12471 (85.70%) commenti...\n"
     ]
    },
    {
     "name": "stderr",
     "output_type": "stream",
     "text": [
      "Map:  86%|████████▌ | 10752/12471 [19:37<03:10,  9.03 examples/s]"
     ]
    },
    {
     "name": "stdout",
     "output_type": "stream",
     "text": [
      "Classificati 10752/12471 (86.22%) commenti...\n"
     ]
    },
    {
     "name": "stderr",
     "output_type": "stream",
     "text": [
      "Map:  87%|████████▋ | 10816/12471 [19:44<03:02,  9.06 examples/s]"
     ]
    },
    {
     "name": "stdout",
     "output_type": "stream",
     "text": [
      "Classificati 10816/12471 (86.73%) commenti...\n"
     ]
    },
    {
     "name": "stderr",
     "output_type": "stream",
     "text": [
      "Map:  87%|████████▋ | 10880/12471 [19:51<02:54,  9.10 examples/s]"
     ]
    },
    {
     "name": "stdout",
     "output_type": "stream",
     "text": [
      "Classificati 10880/12471 (87.24%) commenti...\n"
     ]
    },
    {
     "name": "stderr",
     "output_type": "stream",
     "text": [
      "Map:  88%|████████▊ | 10944/12471 [19:58<02:47,  9.11 examples/s]"
     ]
    },
    {
     "name": "stdout",
     "output_type": "stream",
     "text": [
      "Classificati 10944/12471 (87.76%) commenti...\n"
     ]
    },
    {
     "name": "stderr",
     "output_type": "stream",
     "text": [
      "Map:  88%|████████▊ | 11008/12471 [20:05<02:39,  9.17 examples/s]"
     ]
    },
    {
     "name": "stdout",
     "output_type": "stream",
     "text": [
      "Classificati 11008/12471 (88.27%) commenti...\n"
     ]
    },
    {
     "name": "stderr",
     "output_type": "stream",
     "text": [
      "Map:  89%|████████▉ | 11072/12471 [20:12<02:32,  9.19 examples/s]"
     ]
    },
    {
     "name": "stdout",
     "output_type": "stream",
     "text": [
      "Classificati 11072/12471 (88.78%) commenti...\n"
     ]
    },
    {
     "name": "stderr",
     "output_type": "stream",
     "text": [
      "Map:  89%|████████▉ | 11136/12471 [20:19<02:25,  9.16 examples/s]"
     ]
    },
    {
     "name": "stdout",
     "output_type": "stream",
     "text": [
      "Classificati 11136/12471 (89.30%) commenti...\n"
     ]
    },
    {
     "name": "stderr",
     "output_type": "stream",
     "text": [
      "Map:  90%|████████▉ | 11200/12471 [20:26<02:19,  9.13 examples/s]"
     ]
    },
    {
     "name": "stdout",
     "output_type": "stream",
     "text": [
      "Classificati 11200/12471 (89.81%) commenti...\n"
     ]
    },
    {
     "name": "stderr",
     "output_type": "stream",
     "text": [
      "Map:  90%|█████████ | 11264/12471 [20:33<02:12,  9.13 examples/s]"
     ]
    },
    {
     "name": "stdout",
     "output_type": "stream",
     "text": [
      "Classificati 11264/12471 (90.32%) commenti...\n"
     ]
    },
    {
     "name": "stderr",
     "output_type": "stream",
     "text": [
      "Map:  91%|█████████ | 11328/12471 [20:40<02:04,  9.15 examples/s]"
     ]
    },
    {
     "name": "stdout",
     "output_type": "stream",
     "text": [
      "Classificati 11328/12471 (90.83%) commenti...\n"
     ]
    },
    {
     "name": "stderr",
     "output_type": "stream",
     "text": [
      "Map:  91%|█████████▏| 11392/12471 [20:47<01:57,  9.17 examples/s]"
     ]
    },
    {
     "name": "stdout",
     "output_type": "stream",
     "text": [
      "Classificati 11392/12471 (91.35%) commenti...\n"
     ]
    },
    {
     "name": "stderr",
     "output_type": "stream",
     "text": [
      "Map:  92%|█████████▏| 11456/12471 [20:54<01:50,  9.16 examples/s]"
     ]
    },
    {
     "name": "stdout",
     "output_type": "stream",
     "text": [
      "Classificati 11456/12471 (91.86%) commenti...\n"
     ]
    },
    {
     "name": "stderr",
     "output_type": "stream",
     "text": [
      "Map:  92%|█████████▏| 11520/12471 [21:01<01:43,  9.18 examples/s]"
     ]
    },
    {
     "name": "stdout",
     "output_type": "stream",
     "text": [
      "Classificati 11520/12471 (92.37%) commenti...\n"
     ]
    },
    {
     "name": "stderr",
     "output_type": "stream",
     "text": [
      "Map:  93%|█████████▎| 11584/12471 [21:08<01:36,  9.21 examples/s]"
     ]
    },
    {
     "name": "stdout",
     "output_type": "stream",
     "text": [
      "Classificati 11584/12471 (92.89%) commenti...\n"
     ]
    },
    {
     "name": "stderr",
     "output_type": "stream",
     "text": [
      "Map:  93%|█████████▎| 11648/12471 [21:15<01:29,  9.20 examples/s]"
     ]
    },
    {
     "name": "stdout",
     "output_type": "stream",
     "text": [
      "Classificati 11648/12471 (93.40%) commenti...\n"
     ]
    },
    {
     "name": "stderr",
     "output_type": "stream",
     "text": [
      "Map:  94%|█████████▍| 11712/12471 [21:22<01:23,  9.11 examples/s]"
     ]
    },
    {
     "name": "stdout",
     "output_type": "stream",
     "text": [
      "Classificati 11712/12471 (93.91%) commenti...\n"
     ]
    },
    {
     "name": "stderr",
     "output_type": "stream",
     "text": [
      "Map:  94%|█████████▍| 11776/12471 [21:29<01:16,  9.10 examples/s]"
     ]
    },
    {
     "name": "stdout",
     "output_type": "stream",
     "text": [
      "Classificati 11776/12471 (94.43%) commenti...\n"
     ]
    },
    {
     "name": "stderr",
     "output_type": "stream",
     "text": [
      "Map:  95%|█████████▍| 11840/12471 [21:36<01:09,  9.09 examples/s]"
     ]
    },
    {
     "name": "stdout",
     "output_type": "stream",
     "text": [
      "Classificati 11840/12471 (94.94%) commenti...\n"
     ]
    },
    {
     "name": "stderr",
     "output_type": "stream",
     "text": [
      "Map:  95%|█████████▌| 11904/12471 [21:43<01:03,  9.00 examples/s]"
     ]
    },
    {
     "name": "stdout",
     "output_type": "stream",
     "text": [
      "Classificati 11904/12471 (95.45%) commenti...\n"
     ]
    },
    {
     "name": "stderr",
     "output_type": "stream",
     "text": [
      "Map:  96%|█████████▌| 11968/12471 [21:51<00:56,  8.89 examples/s]"
     ]
    },
    {
     "name": "stdout",
     "output_type": "stream",
     "text": [
      "Classificati 11968/12471 (95.97%) commenti...\n"
     ]
    },
    {
     "name": "stderr",
     "output_type": "stream",
     "text": [
      "Map:  96%|█████████▋| 12032/12471 [21:58<00:49,  8.81 examples/s]"
     ]
    },
    {
     "name": "stdout",
     "output_type": "stream",
     "text": [
      "Classificati 12032/12471 (96.48%) commenti...\n"
     ]
    },
    {
     "name": "stderr",
     "output_type": "stream",
     "text": [
      "Map:  97%|█████████▋| 12096/12471 [22:05<00:42,  8.79 examples/s]"
     ]
    },
    {
     "name": "stdout",
     "output_type": "stream",
     "text": [
      "Classificati 12096/12471 (96.99%) commenti...\n"
     ]
    },
    {
     "name": "stderr",
     "output_type": "stream",
     "text": [
      "Map:  98%|█████████▊| 12160/12471 [22:13<00:35,  8.85 examples/s]"
     ]
    },
    {
     "name": "stdout",
     "output_type": "stream",
     "text": [
      "Classificati 12160/12471 (97.51%) commenti...\n"
     ]
    },
    {
     "name": "stderr",
     "output_type": "stream",
     "text": [
      "Map:  98%|█████████▊| 12224/12471 [22:20<00:27,  8.89 examples/s]"
     ]
    },
    {
     "name": "stdout",
     "output_type": "stream",
     "text": [
      "Classificati 12224/12471 (98.02%) commenti...\n"
     ]
    },
    {
     "name": "stderr",
     "output_type": "stream",
     "text": [
      "Map:  99%|█████████▊| 12288/12471 [22:27<00:20,  8.96 examples/s]"
     ]
    },
    {
     "name": "stdout",
     "output_type": "stream",
     "text": [
      "Classificati 12288/12471 (98.53%) commenti...\n"
     ]
    },
    {
     "name": "stderr",
     "output_type": "stream",
     "text": [
      "Map:  99%|█████████▉| 12352/12471 [22:33<00:13,  9.09 examples/s]"
     ]
    },
    {
     "name": "stdout",
     "output_type": "stream",
     "text": [
      "Classificati 12352/12471 (99.05%) commenti...\n"
     ]
    },
    {
     "name": "stderr",
     "output_type": "stream",
     "text": [
      "Map: 100%|█████████▉| 12416/12471 [22:40<00:06,  9.11 examples/s]"
     ]
    },
    {
     "name": "stdout",
     "output_type": "stream",
     "text": [
      "Classificati 12416/12471 (99.56%) commenti...\n"
     ]
    },
    {
     "name": "stderr",
     "output_type": "stream",
     "text": [
      "Map: 100%|██████████| 12471/12471 [22:46<00:00,  9.12 examples/s]"
     ]
    },
    {
     "name": "stdout",
     "output_type": "stream",
     "text": [
      "Classificati 12471/12471 (100.00%) commenti...\n"
     ]
    },
    {
     "name": "stderr",
     "output_type": "stream",
     "text": [
      "\n"
     ]
    },
    {
     "name": "stdout",
     "output_type": "stream",
     "text": [
      "Classificazione completata.\n",
      "Risultati salvati in \"giudizi.json\" e \"dettagli_commenti.csv\"\n"
     ]
    }
   ],
   "source": [
    "warnings.filterwarnings(\"ignore\", category=UserWarning, module=\"torch.utils.data.dataloader\")\n",
    "\n",
    "classifier = pipeline(\n",
    "    \"zero-shot-classification\",\n",
    "    model=\"MoritzLaurer/DeBERTa-v3-base-mnli-fever-anli\",\n",
    "    device=0,\n",
    "    truncation=True\n",
    ")\n",
    "\n",
    "etichette = [\"colpevole\", \"innocente\", \"neutro\"]\n",
    "templates = [\n",
    "    \"Secondo questo commento, il soggetto è {}.\",\n",
    "    \"Il soggetto viene visto come {}.\"\n",
    "]\n",
    "\n",
    "texts = []\n",
    "matched_subjects = []\n",
    "dates = []\n",
    "original_comments = []\n",
    "genres = []\n",
    "\n",
    "for c in all_comments:\n",
    "    testo_pulito = pulisci_testo(c[\"content\"])\n",
    "    if not commento_valido(testo_pulito):\n",
    "        continue\n",
    "    soggetto_trovato = trova_soggetto(testo_pulito)\n",
    "    if soggetto_trovato:\n",
    "        texts.append(c[\"content\"])\n",
    "        matched_subjects.append(soggetto_trovato)\n",
    "        dates.append(c[\"date\"])\n",
    "        original_comments.append(c[\"content\"])\n",
    "        genres.append(genere_soggetti[soggetto_trovato])\n",
    "\n",
    "dataset = Dataset.from_dict({\n",
    "    \"text\": texts,\n",
    "    \"subject\": matched_subjects,\n",
    "    \"genre\": genres,\n",
    "    \"date\": dates,\n",
    "    \"original_comment\": original_comments,\n",
    "})\n",
    "\n",
    "giudizi = defaultdict(lambda: {\"colpevole\": 0, \"innocente\": 0, \"neutro\": 0})\n",
    "giudizi_per_genere = defaultdict(lambda: {\"colpevole\": 0, \"innocente\": 0, \"neutro\": 0})\n",
    "dettagli = []\n",
    "\n",
    "total = len(dataset)\n",
    "print(f\"Commenti da classificare: {total}\")\n",
    "total_classified = 0\n",
    "\n",
    "def classify_batch(batch):\n",
    "    global total_classified\n",
    "    num_samples = len(batch[\"text\"])\n",
    "\n",
    "    # Inizializza i punteggi per ogni riga\n",
    "    scores_batch = [defaultdict(float) for _ in range(num_samples)]\n",
    "\n",
    "    # Applica ogni template al batch intero\n",
    "    for template in templates:\n",
    "        outputs = classifier(\n",
    "            batch[\"text\"],\n",
    "            candidate_labels=etichette,\n",
    "            hypothesis_template=template,\n",
    "            multi_label=False\n",
    "        )\n",
    "        for i, output in enumerate(outputs):\n",
    "            for label, score in zip(output[\"labels\"], output[\"scores\"]):\n",
    "                scores_batch[i][label] += score\n",
    "\n",
    "    # Finalizza le predizioni\n",
    "    pred_labels = []\n",
    "    for votes in scores_batch:\n",
    "        total_score = sum(votes.values())\n",
    "        max_label, max_score = max(votes.items(), key=lambda x: x[1])\n",
    "        conf_percent = max_score / total_score if total_score > 0 else 0\n",
    "\n",
    "        if conf_percent < 0.40:\n",
    "            pred_labels.append(\"neutro\")\n",
    "        else:\n",
    "            pred_labels.append(max_label)\n",
    "\n",
    "    total_classified += num_samples\n",
    "    print(f\"Classificati {total_classified}/{total} ({total_classified / total * 100:.2f}%) commenti...\")\n",
    "    return {\"pred_label\": pred_labels}\n",
    "\n",
    "results = dataset.map(\n",
    "    classify_batch,\n",
    "    batched=True,\n",
    "    batch_size=64,\n",
    ")\n",
    "\n",
    "for i in range(len(results)):\n",
    "    soggetto = results[i][\"subject\"]\n",
    "    genere = results[i][\"genre\"]\n",
    "    label = results[i][\"pred_label\"]\n",
    "    giudizi[soggetto][label] += 1\n",
    "    giudizi_per_genere[genere][label] += 1\n",
    "    dettagli.append({\n",
    "        \"soggetto\": soggetto,\n",
    "        \"genere\": genere,\n",
    "        \"data\": results[i][\"date\"],\n",
    "        \"giudizio\": label,\n",
    "        \"commento\": results[i][\"original_comment\"],\n",
    "    })\n",
    "\n",
    "print(\"Classificazione completata.\")\n",
    "\n",
    "output_data = {\n",
    "    \"giudizi_per_soggetto\": giudizi,\n",
    "    \"giudizi_per_genere\": giudizi_per_genere,\n",
    "    \"dettagli_commenti\": dettagli\n",
    "}\n",
    "\n",
    "with open(\"giudizi.json\", \"w\", encoding=\"utf-8\") as f:\n",
    "    json.dump(output_data, f, ensure_ascii=False, indent=2)\n",
    "\n",
    "pd.DataFrame(dettagli).to_csv(\"dettagli_commenti.csv\", index=False)\n",
    "print('Risultati salvati in \"giudizi.json\" e \"dettagli_commenti.csv\"')"
   ]
  },
  {
   "cell_type": "code",
   "execution_count": 7,
   "id": "e334f678",
   "metadata": {},
   "outputs": [],
   "source": [
    "with open(\"giudizi.json\", \"r\", encoding=\"utf-8\") as f:\n",
    "    dati_salvati = json.load(f)"
   ]
  },
  {
   "cell_type": "code",
   "execution_count": 14,
   "id": "cb4ffbb1",
   "metadata": {},
   "outputs": [
    {
     "name": "stdout",
     "output_type": "stream",
     "text": [
      "\n",
      "== Riepilogo Giudizi per Soggetto ==\n",
      "                  colpevole  innocente  neutro  totale                           Distribuzione giudizi (%)\n",
      "stefania e paola        281         17     285     583  colpevole: 48.2% | innocente: 2.9% | neutro: 48.9%\n",
      "alberto                3327        529    1894    5750  colpevole: 57.9% | innocente: 9.2% | neutro: 32.9%\n",
      "andrea                 2236        169    1982    4387  colpevole: 51.0% | innocente: 3.9% | neutro: 45.2%\n",
      "paola                   163          2      98     263  colpevole: 62.0% | innocente: 0.8% | neutro: 37.3%\n",
      "stefania                366         10     387     763  colpevole: 48.0% | innocente: 1.3% | neutro: 50.7%\n",
      "marco                   294          6     425     725  colpevole: 40.6% | innocente: 0.8% | neutro: 58.6%\n"
     ]
    }
   ],
   "source": [
    "giudizi = dati_salvati[\"giudizi_per_soggetto\"]\n",
    "\n",
    "df_riepilogo = pd.DataFrame(giudizi).T\n",
    "df_riepilogo[\"totale\"] = df_riepilogo.sum(axis=1)\n",
    "\n",
    "for col in [\"colpevole\", \"innocente\", \"neutro\"]:\n",
    "    df_riepilogo[f\"% {col}\"] = 100 * df_riepilogo[col] / df_riepilogo[\"totale\"]\n",
    "\n",
    "df_riepilogo[\"Distribuzione giudizi (%)\"] = df_riepilogo.apply(\n",
    "    lambda row: f\"colpevole: {row['% colpevole']:.1f}% | innocente: {row['% innocente']:.1f}% | neutro: {row['% neutro']:.1f}%\",\n",
    "    axis=1\n",
    ")\n",
    "\n",
    "df_visualizza = df_riepilogo[[\"colpevole\", \"innocente\", \"neutro\", \"totale\", \"Distribuzione giudizi (%)\"]]\n",
    "\n",
    "totali_globali = df_riepilogo[[\"colpevole\", \"innocente\", \"neutro\"]].sum()\n",
    "totale_commenti = totali_globali.sum()\n",
    "percentuali_globali = (totali_globali / totale_commenti * 100).round(2)\n",
    "\n",
    "df_classifica_colpevolezza = (df_riepilogo[\"colpevole\"] / totale_commenti * 100).to_frame(name=\"% Colpevole secondo opinione pubblica\")\n",
    "df_classifica_innocenza = (df_riepilogo[\"innocente\"] / totale_commenti * 100).to_frame(name=\"% Innocente secondo opinione pubblica\")\n",
    "\n",
    "print(\"\\n== Riepilogo Giudizi per Soggetto ==\")\n",
    "print(df_visualizza.round(2).to_string(index=True))"
   ]
  },
  {
   "cell_type": "code",
   "execution_count": 20,
   "id": "b671b06b",
   "metadata": {},
   "outputs": [
    {
     "name": "stdout",
     "output_type": "stream",
     "text": [
      "\n",
      "== Classifica Colpevolezza per Soggetto ==\n",
      "                  % Colpevole secondo opinione pubblica\n",
      "paola                                         61.977186\n",
      "alberto                                       57.860870\n",
      "andrea                                        50.968771\n",
      "stefania e paola                              48.198971\n",
      "stefania                                      47.968545\n",
      "marco                                         40.551724\n",
      "\n",
      "== Classifica Innocenza per Soggetto ==\n",
      "                  % Innocente secondo opinione pubblica\n",
      "alberto                                        9.200000\n",
      "andrea                                         3.852291\n",
      "stefania e paola                               2.915952\n",
      "stefania                                       1.310616\n",
      "marco                                          0.827586\n",
      "paola                                          0.760456\n"
     ]
    }
   ],
   "source": [
    "# Classifica soggetti ritenuti più colpevoli (in percentuale)\n",
    "df_classifica_colpevolezza = (\n",
    "    df_riepilogo[\"colpevole\"] / df_riepilogo[\"totale\"] * 100\n",
    ").to_frame(name=\"% Colpevole secondo opinione pubblica\")\n",
    "print(\"\\n== Classifica Colpevolezza per Soggetto ==\")\n",
    "print(df_classifica_colpevolezza.sort_values(by=\"% Colpevole secondo opinione pubblica\", ascending=False).to_string())\n",
    "\n",
    "# Classifica soggetti ritenuti più innocenti (in percentuale)\n",
    "df_classifica_innocenza = (\n",
    "    df_riepilogo[\"innocente\"] / df_riepilogo[\"totale\"] * 100\n",
    ").to_frame(name=\"% Innocente secondo opinione pubblica\")\n",
    "print(\"\\n== Classifica Innocenza per Soggetto ==\")\n",
    "print(df_classifica_innocenza.sort_values(by=\"% Innocente secondo opinione pubblica\", ascending=False).to_string())"
   ]
  },
  {
   "cell_type": "code",
   "execution_count": 15,
   "id": "3e02b48d",
   "metadata": {},
   "outputs": [
    {
     "name": "stdout",
     "output_type": "stream",
     "text": [
      "\n",
      "== Distribuzione Globale Giudizi ==\n",
      "           Percentuale\n",
      "colpevole        53.46\n",
      "neutro           40.66\n",
      "innocente         5.88\n"
     ]
    }
   ],
   "source": [
    "print(\"\\n== Distribuzione Globale Giudizi ==\")\n",
    "print(percentuali_globali.sort_values(ascending=False).to_frame(\"Percentuale\").to_string())"
   ]
  },
  {
   "cell_type": "code",
   "execution_count": 16,
   "id": "778b0314",
   "metadata": {},
   "outputs": [
    {
     "name": "stdout",
     "output_type": "stream",
     "text": [
      "\n",
      "== Classifica Colpevolezza Globale ==\n",
      "                  % Colpevole secondo opinione pubblica\n",
      "alberto                                       26.677893\n",
      "andrea                                        17.929597\n",
      "stefania                                       2.934809\n",
      "marco                                          2.357469\n",
      "stefania e paola                               2.253227\n",
      "paola                                          1.307032\n"
     ]
    }
   ],
   "source": [
    "print(\"\\n== Classifica Colpevolezza Globale ==\")\n",
    "print(df_classifica_colpevolezza.sort_values(by=\"% Colpevole secondo opinione pubblica\", ascending=False).to_string())"
   ]
  },
  {
   "cell_type": "code",
   "execution_count": 18,
   "id": "55e9c6eb",
   "metadata": {},
   "outputs": [
    {
     "name": "stdout",
     "output_type": "stream",
     "text": [
      "\n",
      "== Classifica Innocenza Globale ==\n",
      "                  % Innocente secondo opinione pubblica\n",
      "alberto                                        4.241841\n",
      "andrea                                         1.355144\n",
      "stefania e paola                               0.136316\n",
      "stefania                                       0.080186\n",
      "marco                                          0.048112\n",
      "paola                                          0.016037\n"
     ]
    }
   ],
   "source": [
    "print(\"\\n== Classifica Innocenza Globale ==\")\n",
    "print(df_classifica_innocenza.sort_values(by=\"% Innocente secondo opinione pubblica\", ascending=False).to_string())"
   ]
  },
  {
   "cell_type": "code",
   "execution_count": 12,
   "id": "866c8596",
   "metadata": {},
   "outputs": [
    {
     "data": {
      "image/png": "[encoded data removed]",
      "text/plain": [
       "<Figure size 1100x700 with 1 Axes>"
      ]
     },
     "metadata": {},
     "output_type": "display_data"
    }
   ],
   "source": [
    "colori = [\"#e74c3c\", \"#3498db\", \"#95a5a6\"] \n",
    "\n",
    "ax = df_riepilogo[[\"colpevole\", \"innocente\", \"neutro\"]].plot(\n",
    "    kind=\"bar\",\n",
    "    stacked=True,\n",
    "    figsize=(11, 7),\n",
    "    color=colori,\n",
    "    edgecolor=\"black\",\n",
    "    linewidth=1.2\n",
    ")\n",
    "plt.title(\"Distribuzione Giudizi per Soggetto\", fontsize=17, fontweight='bold')\n",
    "plt.ylabel(\"Numero di commenti\", fontsize=13)\n",
    "plt.xlabel(\"Soggetto\", fontsize=13)\n",
    "plt.xticks(rotation=30, ha='right', fontsize=11)\n",
    "plt.yticks(fontsize=11)\n",
    "plt.legend(title=\"Giudizio\", fontsize=11, title_fontsize=12)\n",
    "plt.grid(axis='y', linestyle='--', alpha=0.5)\n",
    "plt.tight_layout()\n",
    "plt.show()"
   ]
  },
  {
   "cell_type": "code",
   "execution_count": null,
   "id": "686ee4d6",
   "metadata": {},
   "outputs": [
    {
     "name": "stdout",
     "output_type": "stream",
     "text": [
      "\n",
      "== Distribuzione Giudizi per Genere ==\n",
      "           colpevole  innocente  neutro  totale  % colpevole  % innocente  % neutro\n",
      "femminile        810         29     770    1609        50.34         1.80     47.86\n",
      "maschile        5857        704    4301   10862        53.92         6.48     39.60\n"
     ]
    },
    {
     "data": {
      "image/png": "[encoded data removed]",
      "text/plain": [
       "<Figure size 900x500 with 1 Axes>"
      ]
     },
     "metadata": {},
     "output_type": "display_data"
    }
   ],
   "source": [
    "print(\"\\n== Distribuzione Giudizi per Genere ==\")\n",
    "print(df_genere.round(2).to_string(index=True))\n",
    "\n",
    "colori = [\"#e74c3c\", \"#3498db\", \"#95a5a6\"]  # rosso, blu, grigio\n",
    "ax = df_genere[[\"colpevole\", \"innocente\", \"neutro\"]].plot(\n",
    "    kind=\"bar\",\n",
    "    stacked=True,\n",
    "    figsize=(9, 5),\n",
    "    color=colori,\n",
    "    edgecolor=\"black\",\n",
    "    linewidth=1.2\n",
    ")\n",
    "plt.title(\"Distribuzione Giudizi per Genere\", fontsize=15, fontweight='bold')\n",
    "plt.ylabel(\"Numero di commenti\", fontsize=12)\n",
    "plt.xlabel(\"Genere\", fontsize=12)\n",
    "plt.xticks(rotation=0, fontsize=11)\n",
    "plt.yticks(fontsize=11)\n",
    "plt.legend(title=\"Giudizio\", fontsize=11, title_fontsize=12)\n",
    "plt.grid(axis='y', linestyle='--', alpha=0.5)\n",
    "plt.tight_layout()\n",
    "plt.show()"
   ]
  }
 ],
 "metadata": {
  "kernelspec": {
   "display_name": "env",
   "language": "python",
   "name": "python3"
  },
  "language_info": {
   "codemirror_mode": {
    "name": "ipython",
    "version": 3
   },
   "file_extension": ".py",
   "mimetype": "text/x-python",
   "name": "python",
   "nbconvert_exporter": "python",
   "pygments_lexer": "ipython3",
   "version": "3.8.0"
  }
 },
 "nbformat": 4,
 "nbformat_minor": 5
}
