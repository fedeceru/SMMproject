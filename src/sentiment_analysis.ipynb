{
 "cells": [
  {
   "cell_type": "code",
   "execution_count": 43,
   "id": "3566c14b",
   "metadata": {},
   "outputs": [],
   "source": [
    "import json\n",
    "import re\n",
    "import random\n",
    "from datetime import datetime\n",
    "from collections import defaultdict\n",
    "from transformers import pipeline\n",
    "import pandas as pd"
   ]
  },
  {
   "cell_type": "code",
   "execution_count": 44,
   "id": "6daaa3ac",
   "metadata": {},
   "outputs": [],
   "source": [
    "MAX_COMMENTI = 40000\n",
    "MAX_TOKENS = 512\n",
    "MEDIA_TOKENS_PER_WORD = 1.4\n",
    "MAX_PAROLE = int(MAX_TOKENS / MEDIA_TOKENS_PER_WORD)\n",
    "\n",
    "soggetti = {\n",
    "    \"stefania\": [\"stefania\", \"stefania cappa\"],\n",
    "    \"paola\": [\"paola\", \"paola cappa\"],\n",
    "    \"andrea\": [\"andrea\", \"andrea sempio\", \"sempio\"],\n",
    "    \"alberto\": [\"alberto\", \"alberto stasi\", \"stasi\"],\n",
    "    \"marco\": [\"marco\", \"marco poggi\"],\n",
    "}"
   ]
  },
  {
   "cell_type": "code",
   "execution_count": 45,
   "id": "e78013d1",
   "metadata": {},
   "outputs": [],
   "source": [
    "def pulisci_testo(testo):\n",
    "    testo = re.sub(r\"http\\S+\", \"\", testo)  \n",
    "    testo = re.sub(r\"@\\w+\", \"\", testo)     \n",
    "    testo = re.sub(r\"[^a-zA-Zàèéìòùç0-9\\s']\", \" \", testo)  \n",
    "    testo = re.sub(r\"\\s+\", \" \", testo)    \n",
    "    return testo.strip().lower()\n",
    "\n",
    "def map_stars_to_sentiment(label):\n",
    "    score = int(label[0])\n",
    "    if score <= 2:\n",
    "        return \"neg\"\n",
    "    elif score == 3:\n",
    "        return \"neu\"\n",
    "    else:\n",
    "        return \"pos\""
   ]
  },
  {
   "cell_type": "code",
   "execution_count": 46,
   "id": "d4efbff0",
   "metadata": {},
   "outputs": [],
   "source": [
    "with open(\"comments.json\", \"r\", encoding=\"utf-8\") as f:\n",
    "    all_comments = json.load(f)"
   ]
  },
  {
   "cell_type": "code",
   "execution_count": 47,
   "id": "1b3dd823",
   "metadata": {},
   "outputs": [],
   "source": [
    "valid_comments = [c for c in all_comments if \"date\" in c and c[\"date\"] and c[\"content\"].strip()]\n",
    "\n",
    "for c in valid_comments:\n",
    "    try:\n",
    "        c[\"parsed_date\"] = datetime.fromisoformat(c[\"date\"].replace(\"Z\", \"\"))\n",
    "    except Exception:\n",
    "        c[\"parsed_date\"] = None\n",
    "\n",
    "valid_comments = [c for c in valid_comments if c[\"parsed_date\"]]"
   ]
  },
  {
   "cell_type": "code",
   "execution_count": 48,
   "id": "152bdfde",
   "metadata": {},
   "outputs": [
    {
     "name": "stdout",
     "output_type": "stream",
     "text": [
      "Commenti selezionati: 40000 (ogni 2 commenti)\n"
     ]
    }
   ],
   "source": [
    "valid_comments.sort(key=lambda c: c[\"parsed_date\"])\n",
    "step = max(1, len(valid_comments) // MAX_COMMENTI)\n",
    "sampled_comments = valid_comments[::step][:MAX_COMMENTI]\n",
    "print(f\"Commenti selezionati: {len(sampled_comments)} (ogni {step} commenti)\")"
   ]
  },
  {
   "cell_type": "code",
   "execution_count": 49,
   "id": "06e80431",
   "metadata": {},
   "outputs": [],
   "source": [
    "sentiment_model = pipeline(\"sentiment-analysis\", model=\"nlptown/bert-base-multilingual-uncased-sentiment\")"
   ]
  },
  {
   "cell_type": "code",
   "execution_count": 50,
   "id": "181b8dbb",
   "metadata": {},
   "outputs": [
    {
     "name": "stderr",
     "output_type": "stream",
     "text": [
      "Token indices sequence length is longer than the specified maximum sequence length for this model (542 > 512). Running this sequence through the model will result in indexing errors\n"
     ]
    },
    {
     "name": "stdout",
     "output_type": "stream",
     "text": [
      "⚠️ Errore al commento #1439: se il coinvolgimento di sempio fosse confermato questo caso sarebbe molto più si... → The size of tensor a (542) must match the size of tensor b (512) at non-singleton dimension 1\n",
      "⚠️ Errore al commento #2392: la butto lì chiara poggi ha lasciato la colazione a metà escludendo che l'assass... → The size of tensor a (518) must match the size of tensor b (512) at non-singleton dimension 1\n",
      "⚠️ Errore al commento #3894: ma non è stata la difesa di stasi a richiedere la riapertura delle indagini anch... → The size of tensor a (517) must match the size of tensor b (512) at non-singleton dimension 1\n",
      "⚠️ Errore al commento #13693: stefania non cercava di ottenere da chiara proprio un incontro con il figlio del... → The size of tensor a (534) must match the size of tensor b (512) at non-singleton dimension 1\n",
      "⚠️ Errore al commento #15939: invito a riflettere su tre aspetti fondamentali dell'attuale situazione investig... → The size of tensor a (513) must match the size of tensor b (512) at non-singleton dimension 1\n",
      "⚠️ Errore al commento #16956: buongiorno b venerdì carissima grazie del video la veggente che veggente nn e ne... → The size of tensor a (526) must match the size of tensor b (512) at non-singleton dimension 1\n",
      "⚠️ Errore al commento #17015: a me non dispiace ne la mamma di andrea ne la mamma di chiara lo stesso per i pa... → The size of tensor a (518) must match the size of tensor b (512) at non-singleton dimension 1\n",
      "⚠️ Errore al commento #17475: se alberto stasi fosse ritenuto innocente a seguito di un nuovo processo revisio... → The size of tensor a (540) must match the size of tensor b (512) at non-singleton dimension 1\n",
      "⚠️ Errore al commento #20183: il sottoscritto premette che il suo commento non ha l'obbiettivo di esprimere un... → The size of tensor a (537) must match the size of tensor b (512) at non-singleton dimension 1\n",
      "⚠️ Errore al commento #20938: ciao buga ti trovo davvero simpatica e molto preparata mi sto appassionando semp... → The size of tensor a (523) must match the size of tensor b (512) at non-singleton dimension 1\n",
      "⚠️ Errore al commento #21181: ho ripescato un articolo del 13 settembre 2007 di enrico silvestri il giornale p... → The size of tensor a (524) must match the size of tensor b (512) at non-singleton dimension 1\n",
      "⚠️ Errore al commento #23379: vogliamo parlare un po' di procedura penale la disciplina dell'incidente probato... → The size of tensor a (517) must match the size of tensor b (512) at non-singleton dimension 1\n",
      "⚠️ Errore al commento #23738: prove che hanno incastrato alberto stasi 1 scarpe troppo pulite impossibile attr... → The size of tensor a (559) must match the size of tensor b (512) at non-singleton dimension 1\n",
      "⚠️ Errore al commento #25034: se si vuole capire realmente come inquadrare questo genere di delitti mediaticam... → The size of tensor a (529) must match the size of tensor b (512) at non-singleton dimension 1\n",
      "⚠️ Errore al commento #31434: buga secondo me le cose potrebbero essere andate così tra sempio e cappa vi era ... → The size of tensor a (519) must match the size of tensor b (512) at non-singleton dimension 1\n",
      "⚠️ Errore al commento #37162: e mmobbasta me so rotto li cojoni insomma zanella i vestiti che vennero ritrovat... → The size of tensor a (532) must match the size of tensor b (512) at non-singleton dimension 1\n",
      "⚠️ Errore al commento #37514: alberto stasi non ha chiesto la riapertura del dibattimento nel processo di seco... → The size of tensor a (525) must match the size of tensor b (512) at non-singleton dimension 1\n",
      "⚠️ Errore al commento #37530: la cosa fondamentale la ricerca della verita' finalizzata al raggiungimento dell... → The size of tensor a (518) must match the size of tensor b (512) at non-singleton dimension 1\n",
      "⚠️ Errore al commento #39726: non è così strano ad esempio i miei magari rispondevano al citofono ma poi se ne... → The size of tensor a (518) must match the size of tensor b (512) at non-singleton dimension 1\n",
      "Commenti associati a soggetti: 8200\n",
      "Errori durante l'analisi: 19\n"
     ]
    }
   ],
   "source": [
    "sentiment_per_soggetto = defaultdict(lambda: {\"pos\": 0, \"neg\": 0, \"neu\": 0})\n",
    "error_count = 0\n",
    "match_count = 0\n",
    "\n",
    "for i, c in enumerate(sampled_comments):\n",
    "    testo = pulisci_testo(c[\"content\"])\n",
    "    parole = testo.split()\n",
    "    if len(parole) > MAX_PAROLE:\n",
    "        testo = \" \".join(parole[:MAX_PAROLE])\n",
    "\n",
    "    for soggetto, varianti in soggetti.items():\n",
    "        if any(v in testo for v in varianti):\n",
    "            try:\n",
    "                result = sentiment_model(testo)[0]\n",
    "                label = map_stars_to_sentiment(result[\"label\"])\n",
    "                sentiment_per_soggetto[soggetto][label] += 1\n",
    "                match_count += 1\n",
    "            except Exception as e:\n",
    "                error_count += 1\n",
    "                print(f\"⚠️ Errore al commento #{i}: {testo[:80]}... → {e}\")\n",
    "            break \n",
    "\n",
    "print(f\"Commenti associati a soggetti: {match_count}\")\n",
    "print(f\"Errori durante l'analisi: {error_count}\")"
   ]
  },
  {
   "cell_type": "code",
   "execution_count": 51,
   "id": "cb4ffbb1",
   "metadata": {},
   "outputs": [],
   "source": [
    "df = pd.DataFrame(sentiment_per_soggetto).T\n",
    "df[\"totale\"] = df.sum(axis=1)\n",
    "df[\"% negativo\"] = 100 * df[\"neg\"] / df[\"totale\"]"
   ]
  },
  {
   "cell_type": "code",
   "execution_count": 52,
   "id": "3d220550",
   "metadata": {},
   "outputs": [
    {
     "name": "stdout",
     "output_type": "stream",
     "text": [
      "          pos   neg  neu  totale  % negativo\n",
      "alberto   677  2619  615    3911   66.964971\n",
      "andrea    447  1903  891    3241   58.716446\n",
      "paola      31   103   51     185   55.675676\n",
      "stefania  123   251  171     545   46.055046\n",
      "marco      67   143  108     318   44.968553\n"
     ]
    }
   ],
   "source": [
    "print(df.sort_values(\"% negativo\", ascending=False))"
   ]
  }
 ],
 "metadata": {
  "kernelspec": {
   "display_name": "env",
   "language": "python",
   "name": "python3"
  },
  "language_info": {
   "codemirror_mode": {
    "name": "ipython",
    "version": 3
   },
   "file_extension": ".py",
   "mimetype": "text/x-python",
   "name": "python",
   "nbconvert_exporter": "python",
   "pygments_lexer": "ipython3",
   "version": "3.8.0"
  }
 },
 "nbformat": 4,
 "nbformat_minor": 5
}
