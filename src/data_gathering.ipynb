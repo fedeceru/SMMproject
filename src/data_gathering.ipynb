{
 "cells": [
  {
   "cell_type": "code",
   "execution_count": null,
   "id": "49a13baa",
   "metadata": {},
   "outputs": [],
   "source": [
    "import os\n",
    "import json\n",
    "from dotenv import load_dotenv\n",
    "from googleapiclient.discovery import build"
   ]
  },
  {
   "cell_type": "code",
   "execution_count": 267,
   "id": "24dce953",
   "metadata": {},
   "outputs": [],
   "source": [
    "load_dotenv()\n",
    "DEVELOPER_KEY = os.environ.get('yt_key')\n",
    "\n",
    "YOUTUBE_API_SERVICE_NAME = 'youtube'\n",
    "YOUTUBE_API_VERSION = 'v3'\n",
    "yt = build(YOUTUBE_API_SERVICE_NAME, YOUTUBE_API_VERSION, developerKey=DEVELOPER_KEY)"
   ]
  },
  {
   "cell_type": "code",
   "execution_count": 268,
   "id": "cb07de71",
   "metadata": {},
   "outputs": [],
   "source": [
    "# Individuo le finestre temporali per le ricerche, con i rispettivi parametri\n",
    "#windows = [\n",
    "    #{\"label\": \"approdo_maldini\", \"query\": \"Maldini Milan 2019 dirigenza\", \"after\": \"2019-05-20T00:00:00Z\", \"before\": \"2019-07-01T00:00:00Z\"},\n",
    "    #{\"label\": \"scudetto\", \"query\": \"Milan campione 2022 Maldini\", \"after\": \"2022-05-15T00:00:00Z\", \"before\": \"2022-06-15T00:00:00Z\"},\n",
    "    #{\"label\": \"licenziamento\", \"query\": \"Maldini licenziato Cardinale\", \"after\": \"2023-06-01T00:00:00Z\", \"before\": \"2023-06-30T00:00:00Z\"},\n",
    "    #{\"label\": \"cardinale_out\", \"query\": \"#CardinaleOut Milan\", \"after\": \"2023-06-01T00:00:00Z\", \"before\": \"2023-12-31T00:00:00Z\"}\n",
    "#]"
   ]
  },
  {
   "cell_type": "code",
   "execution_count": 269,
   "id": "d12d5093",
   "metadata": {},
   "outputs": [],
   "source": [
    "# 1. Recupera i canali\n",
    "def get_channels(query, max_results):\n",
    "    channels = dict()\n",
    "    request = yt.search().list(\n",
    "        part='snippet',\n",
    "        q=query,\n",
    "        type='channel',\n",
    "        maxResults=max_results,\n",
    "        relevanceLanguage='it'\n",
    "    )\n",
    "    try:\n",
    "        response = request.execute()\n",
    "        for item in response.get('items', []):\n",
    "            channel_id = item['id']['channelId']\n",
    "            channel_title = item['snippet']['title']\n",
    "            channels[channel_id] = channel_title\n",
    "        print(f\"Canali trovati per la query '{query}': {len(channels)}\")\n",
    "    except Exception as e:\n",
    "        print(f\"Errore nel recupero canali: {e}\")\n",
    "    return channels"
   ]
  },
  {
   "cell_type": "code",
   "execution_count": 270,
   "id": "de16ae3f",
   "metadata": {},
   "outputs": [
    {
     "name": "stdout",
     "output_type": "stream",
     "text": [
      "Canali trovati per la query 'AC Milan': 50\n"
     ]
    },
    {
     "data": {
      "text/plain": [
       "{'UCKcx1uK38H4AOkmfv4ywlrg': 'AC Milan',\n",
       " 'UC-Z7UsH1Qq3BEIXDoOHrQTQ': 'AC Milan Academy Junior Camp - Sporteventi',\n",
       " 'UCfDu-gxOeG2nte4vcGBQB6w': 'Milan Actu',\n",
       " 'UCkhRRSdaqpg3PNzwjLWcrQg': 'La Storia del Milan',\n",
       " 'UCUzPh1oraBmxInFoZ0tmVng': 'La Taberna del Milan',\n",
       " 'UCJv1AqHPPV0IXM5gB-L6-KA': 'Carlo Pellegatti',\n",
       " 'UCYt5p_Qy9yC40ahQOUOAmXA': 'AC Milan Addicted',\n",
       " 'UCYwM10PzkQHwkhr5CZ_uVzA': 'Lorenzo Lollo - I Milanisti Official',\n",
       " 'UCH3oDvo6BGyXmQISU5cUWcA': 'Rinaldo Morelli',\n",
       " 'UCa7LVlKqBQQgIIWc5bspGXA': 'AcmDevil',\n",
       " 'UC4yO9MP6xvdtay7DXT1GrqA': 'Football Kush',\n",
       " 'UCyA2Xjd0Pgo0XG2fwDNBMgQ': 'Alessandro Jacobone - AC Milan Live & Contents',\n",
       " 'UCEq8kCs5hYGgmRpX7WJseLA': 'AC MILAN FEDEROSSONERA',\n",
       " 'UCwncrOjASOSrPfSCBHe9Zfg': 'Vhs Dvd Ac Milan',\n",
       " 'UCSqbYQ5MEyh06ep2ixJ2UiA': 'Ac Milan 2015',\n",
       " 'UC5I4SUIhtFfmucafyv-xI1w': 'AC Milan Academy Kerala',\n",
       " 'UCxNiO4bhMiTkisqaxoqS31A': 'AC Milan Academy Craiova',\n",
       " 'UCrMHCcgSDdwX6JsKc7aLiDQ': 'Ac Milan Calcio',\n",
       " 'UCwEPg_9gbLVDUbhZcc4hXNw': 'NOTIZIA AC MILAN',\n",
       " 'UCJ_Q45ce6rYCWPG7LseG5yg': 'Diable Masqué | Actu AC Milan ',\n",
       " 'UCx5CfjBaZg7Uv9GxAvnb7Zw': 'AC MILAN NOTIZIE',\n",
       " 'UCpxRVeoOrktzwsx4dFvDGGw': 'Ac Milan Rf24',\n",
       " 'UCMPTI1c0cc32QEiXaRyv3VQ': 'AC MILAN CLUB CDMX',\n",
       " 'UC7iOD5RXcDmWbPb88JHPVwQ': 'Mauro Vigna - dalla parte del Milan',\n",
       " 'UChlKCuVQkBnU9msKYvR5Mjg': 'AC Milan Fans',\n",
       " 'UCUcbNwC36R7spdGTCS5tNIQ': 'AC Milan Official Fan Page',\n",
       " 'UCfk9hb0ADRTv6xk3Mh2tGiw': 'Notizie di AC Milan Ufficiale',\n",
       " 'UCBZIrJiJe0HPtDiJUV0rb4A': 'Notizie a.c Milan',\n",
       " 'UCAylYLDBru_yxbgHUuisHgQ': 'Rete di notizie del AC Milan',\n",
       " 'UC83lZJ-vlTmqxprN8movVfA': 'AC Milan Zone',\n",
       " 'UCAml3HXf7FnKPwIxGm-QJFw': 'AC Milan Azerbaijan',\n",
       " 'UCI75aEhX4inpsprENfHxMeg': 'AC MILAN FANS 🔴⚫',\n",
       " 'UCzZ3-JLCN4GQ8T7qpBbJtUw': 'NOTIZIE AC MILAN',\n",
       " 'UCapCPx4FSpPipnct_JFAOow': 'AC Milan Studio',\n",
       " 'UCss1bbH5q5RRH7TNnjgfeQw': 'AC MILAN NEWS',\n",
       " 'UCp0wxodLVH6kln8EYYqs__A': 'A.C Milan News',\n",
       " 'UCfbFeAVqfVhLH6jReV1HuMQ': 'Ac Milan Academy Saudi Arabia',\n",
       " 'UCspX3-Vg5exyhl0W6J71PBA': 'AC MILAN NOTIZIE',\n",
       " 'UCyK8eKfV_zRKx1XtUiSUjbA': 'Ac Milan tifosi',\n",
       " 'UCblt0GIl2mlHJsKzVuG8zpw': 'MILAN SCUOLA CALCIO GATIKA A.C.MILAN OFIZIALA',\n",
       " 'UC-5fe9WEwFbDSWm_KVULziA': 'Rossoneri News - Notizie AC Milan Oggi',\n",
       " 'UCo0LxkDv9TyX6_m-H_6sEWA': 'AC MILAN ULTIME NOTIZIE',\n",
       " 'UCNjCKmSlUCE466Q6oiiep6g': 'Following AC Milan 🔴⚫️',\n",
       " 'UC0HYn48gneembz0LdsHr8bQ': 'A.c Milan Channel',\n",
       " 'UCpx6qbjvclvRJieSjGVGD4w': 'Ac Milan Archive',\n",
       " 'UCofPiaUoZsdmMgeToOsZHhg': 'AC MILAN INDO SCUDETTO',\n",
       " 'UCCeSUoG4Nt2xwy-C-2sJACA': 'NOTIZIE AC MILAN',\n",
       " 'UC9d1REUdLVCrdgzpCVAhUDw': 'AC Milan Sempre',\n",
       " 'UC0b7zUWdomsfiJGHnadyZsQ': 'Ac Milan Museum ',\n",
       " 'UC_IsRYjv9Sk_GPSjHtxM4UA': 'AC Milan T.V News'}"
      ]
     },
     "execution_count": 270,
     "metadata": {},
     "output_type": "execute_result"
    }
   ],
   "source": [
    "query = \"AC Milan\"\n",
    "max_results = 50\n",
    "channels = get_channels(query, max_results)\n",
    "channels"
   ]
  },
  {
   "cell_type": "code",
   "execution_count": 271,
   "id": "aa0a3cf9",
   "metadata": {},
   "outputs": [],
   "source": [
    "# 2. Recupera i video recenti da un canale\n",
    "def get_recent_videos(channel_id, max_results=10):\n",
    "    videos = []\n",
    "    try:\n",
    "        request = yt.search().list(\n",
    "            part='snippet',\n",
    "            channelId=channel_id,\n",
    "            order='date',\n",
    "            maxResults=max_results,\n",
    "            type='video'\n",
    "        )\n",
    "        response = request.execute()\n",
    "        for item in response.get('items', []):\n",
    "            video_id = item['id']['videoId']\n",
    "            videos.append(video_id)\n",
    "        print(f\"Video trovati per il canale {channel_id}: {len(videos)}\")\n",
    "    except Exception as e:\n",
    "        print(f\"Errore nel recupero video da {channel_id}: {e}\")\n",
    "    return videos"
   ]
  },
  {
   "cell_type": "code",
   "execution_count": 272,
   "id": "b3ae11e1",
   "metadata": {},
   "outputs": [
    {
     "name": "stdout",
     "output_type": "stream",
     "text": [
      "Video trovati per il canale UCKcx1uK38H4AOkmfv4ywlrg: 10\n"
     ]
    }
   ],
   "source": [
    "if channels:\n",
    "    channel_id = list(channels.keys())[0]  \n",
    "    videos = get_recent_videos(channel_id, max_results=10)"
   ]
  },
  {
   "cell_type": "code",
   "execution_count": 273,
   "id": "0d866dad",
   "metadata": {},
   "outputs": [],
   "source": [
    "# 3. Recupera statistiche video\n",
    "def get_video_stats(video_ids):\n",
    "    stats = []\n",
    "    for i in range(0, len(video_ids), 50):  \n",
    "        try:\n",
    "            request = yt.videos().list(\n",
    "                part='statistics',\n",
    "                id=\",\".join(video_ids[i:i+50])\n",
    "            )\n",
    "            response = request.execute()\n",
    "            for item in response['items']:\n",
    "                stats.append({\n",
    "                    \"videoId\": item['id'],\n",
    "                    \"views\": int(item['statistics'].get('viewCount', 0)),\n",
    "                    \"comments\": int(item['statistics'].get('commentCount', 0)),\n",
    "                })\n",
    "            print(f\"Statistiche recuperate per {len(stats)} video.\")\n",
    "        except Exception as e:\n",
    "            print(f\"Errore nel recupero statistiche video: {e}\")\n",
    "    return stats"
   ]
  },
  {
   "cell_type": "code",
   "execution_count": 274,
   "id": "d385943f",
   "metadata": {},
   "outputs": [
    {
     "name": "stdout",
     "output_type": "stream",
     "text": [
      "Statistiche recuperate per 10 video.\n"
     ]
    }
   ],
   "source": [
    "if videos:\n",
    "    stats = get_video_stats(videos)"
   ]
  },
  {
   "cell_type": "code",
   "execution_count": 275,
   "id": "910e2516",
   "metadata": {},
   "outputs": [],
   "source": [
    "# 4. Filtra canali per engagement medio, iscritti e numero minimo di video\n",
    "def filter_channels_by_average_engagement(channels_dict, min_engagement=0.01, min_subscribers=10000, min_videos=20, max_videos_per_channel=20):\n",
    "    filtered_channels = {}\n",
    "    for channel_id, name in channels_dict.items():\n",
    "        \n",
    "        try:\n",
    "            request = yt.channels().list(\n",
    "                part=\"statistics\",\n",
    "                id=channel_id\n",
    "            )\n",
    "            response = request.execute()\n",
    "            subscribers = int(response['items'][0]['statistics'].get('subscriberCount', 0))\n",
    "            \n",
    "            if subscribers < min_subscribers:\n",
    "                print(f\"[{name}] Non ha abbastanza iscritti (soglia: {min_subscribers}). Escluso.\")\n",
    "                continue\n",
    "        except Exception as e:\n",
    "            print(f\"Errore nel recupero iscritti per il canale {name}: {e}\")\n",
    "            continue\n",
    "\n",
    "        video_ids = get_recent_videos(channel_id, max_results=max_videos_per_channel)\n",
    "\n",
    "        if len(video_ids) < min_videos:\n",
    "            print(f\"[{name}] Ha meno di {min_videos} video trovati. Escluso.\")\n",
    "            continue\n",
    "\n",
    "        stats = get_video_stats(video_ids)\n",
    "\n",
    "        engagements = []\n",
    "        for s in stats:\n",
    "            views = s['views']\n",
    "            comments = s['comments']\n",
    "            if views > 0:\n",
    "                engagement = comments / views\n",
    "                engagements.append(engagement)\n",
    "\n",
    "        if engagements:\n",
    "            avg_engagement = sum(engagements) / len(engagements)\n",
    "            print(f\"[{name}] Engagement medio: {avg_engagement:.4f}, Iscritti: {subscribers}, Video: {len(video_ids)}\")\n",
    "\n",
    "            if avg_engagement >= min_engagement:\n",
    "                filtered_channels[channel_id] = {\n",
    "                    \"name\": name,\n",
    "                    \"avg_engagement\": round(avg_engagement, 4),\n",
    "                    \"subscribers\": subscribers\n",
    "                }\n",
    "        else:\n",
    "            print(f\"[{name}] Nessun engagement valido trovato.\")\n",
    "    return filtered_channels"
   ]
  },
  {
   "cell_type": "code",
   "execution_count": 276,
   "id": "0423ac1b",
   "metadata": {},
   "outputs": [
    {
     "name": "stdout",
     "output_type": "stream",
     "text": [
      "Video trovati per il canale UCKcx1uK38H4AOkmfv4ywlrg: 20\n",
      "Statistiche recuperate per 20 video.\n",
      "[AC Milan] Engagement medio: 0.0018, Iscritti: 2040000, Video: 20\n",
      "Video trovati per il canale UC-Z7UsH1Qq3BEIXDoOHrQTQ: 20\n",
      "Statistiche recuperate per 20 video.\n",
      "[AC Milan Academy Junior Camp - Sporteventi] Engagement medio: 0.0002, Iscritti: 10300, Video: 20\n",
      "Video trovati per il canale UCfDu-gxOeG2nte4vcGBQB6w: 20\n",
      "Statistiche recuperate per 20 video.\n",
      "[Milan Actu] Engagement medio: 0.0092, Iscritti: 25500, Video: 20\n",
      "[La Storia del Milan] Non ha abbastanza iscritti (soglia: 10000). Escluso.\n",
      "[La Taberna del Milan] Non ha abbastanza iscritti (soglia: 10000). Escluso.\n",
      "Video trovati per il canale UCJv1AqHPPV0IXM5gB-L6-KA: 20\n",
      "Statistiche recuperate per 20 video.\n",
      "[Carlo Pellegatti] Engagement medio: 0.0317, Iscritti: 157000, Video: 20\n",
      "[AC Milan Addicted] Non ha abbastanza iscritti (soglia: 10000). Escluso.\n",
      "Video trovati per il canale UCYwM10PzkQHwkhr5CZ_uVzA: 20\n",
      "Statistiche recuperate per 20 video.\n",
      "[Lorenzo Lollo - I Milanisti Official] Engagement medio: 0.0116, Iscritti: 30400, Video: 20\n",
      "Video trovati per il canale UCH3oDvo6BGyXmQISU5cUWcA: 20\n",
      "Statistiche recuperate per 20 video.\n",
      "[Rinaldo Morelli] Engagement medio: 0.0157, Iscritti: 35500, Video: 20\n",
      "Video trovati per il canale UCa7LVlKqBQQgIIWc5bspGXA: 20\n",
      "Statistiche recuperate per 20 video.\n",
      "[AcmDevil] Engagement medio: 0.0138, Iscritti: 10900, Video: 20\n",
      "Video trovati per il canale UC4yO9MP6xvdtay7DXT1GrqA: 20\n",
      "Statistiche recuperate per 20 video.\n",
      "[Football Kush] Engagement medio: 0.0143, Iscritti: 15200, Video: 20\n",
      "[Alessandro Jacobone - AC Milan Live & Contents] Non ha abbastanza iscritti (soglia: 10000). Escluso.\n",
      "[AC MILAN FEDEROSSONERA] Non ha abbastanza iscritti (soglia: 10000). Escluso.\n",
      "[Vhs Dvd Ac Milan] Non ha abbastanza iscritti (soglia: 10000). Escluso.\n",
      "[Ac Milan 2015] Non ha abbastanza iscritti (soglia: 10000). Escluso.\n",
      "[AC Milan Academy Kerala] Non ha abbastanza iscritti (soglia: 10000). Escluso.\n",
      "[AC Milan Academy Craiova] Non ha abbastanza iscritti (soglia: 10000). Escluso.\n",
      "[Ac Milan Calcio] Non ha abbastanza iscritti (soglia: 10000). Escluso.\n",
      "[NOTIZIA AC MILAN] Non ha abbastanza iscritti (soglia: 10000). Escluso.\n",
      "[Diable Masqué | Actu AC Milan ] Non ha abbastanza iscritti (soglia: 10000). Escluso.\n",
      "[AC MILAN NOTIZIE] Non ha abbastanza iscritti (soglia: 10000). Escluso.\n",
      "[Ac Milan Rf24] Non ha abbastanza iscritti (soglia: 10000). Escluso.\n",
      "[AC MILAN CLUB CDMX] Non ha abbastanza iscritti (soglia: 10000). Escluso.\n",
      "[Mauro Vigna - dalla parte del Milan] Non ha abbastanza iscritti (soglia: 10000). Escluso.\n",
      "[AC Milan Fans] Non ha abbastanza iscritti (soglia: 10000). Escluso.\n",
      "[AC Milan Official Fan Page] Non ha abbastanza iscritti (soglia: 10000). Escluso.\n",
      "[Notizie di AC Milan Ufficiale] Non ha abbastanza iscritti (soglia: 10000). Escluso.\n",
      "[Notizie a.c Milan] Non ha abbastanza iscritti (soglia: 10000). Escluso.\n",
      "[Rete di notizie del AC Milan] Non ha abbastanza iscritti (soglia: 10000). Escluso.\n",
      "[AC Milan Zone] Non ha abbastanza iscritti (soglia: 10000). Escluso.\n",
      "[AC Milan Azerbaijan] Non ha abbastanza iscritti (soglia: 10000). Escluso.\n",
      "[AC MILAN FANS 🔴⚫] Non ha abbastanza iscritti (soglia: 10000). Escluso.\n",
      "[NOTIZIE AC MILAN] Non ha abbastanza iscritti (soglia: 10000). Escluso.\n",
      "[AC Milan Studio] Non ha abbastanza iscritti (soglia: 10000). Escluso.\n",
      "[AC MILAN NEWS] Non ha abbastanza iscritti (soglia: 10000). Escluso.\n",
      "[A.C Milan News] Non ha abbastanza iscritti (soglia: 10000). Escluso.\n",
      "[Ac Milan Academy Saudi Arabia] Non ha abbastanza iscritti (soglia: 10000). Escluso.\n",
      "[AC MILAN NOTIZIE] Non ha abbastanza iscritti (soglia: 10000). Escluso.\n",
      "[Ac Milan tifosi] Non ha abbastanza iscritti (soglia: 10000). Escluso.\n",
      "[MILAN SCUOLA CALCIO GATIKA A.C.MILAN OFIZIALA] Non ha abbastanza iscritti (soglia: 10000). Escluso.\n",
      "[Rossoneri News - Notizie AC Milan Oggi] Non ha abbastanza iscritti (soglia: 10000). Escluso.\n",
      "[AC MILAN ULTIME NOTIZIE] Non ha abbastanza iscritti (soglia: 10000). Escluso.\n",
      "[Following AC Milan 🔴⚫️] Non ha abbastanza iscritti (soglia: 10000). Escluso.\n",
      "[A.c Milan Channel] Non ha abbastanza iscritti (soglia: 10000). Escluso.\n",
      "[Ac Milan Archive] Non ha abbastanza iscritti (soglia: 10000). Escluso.\n",
      "[AC MILAN INDO SCUDETTO] Non ha abbastanza iscritti (soglia: 10000). Escluso.\n",
      "[NOTIZIE AC MILAN] Non ha abbastanza iscritti (soglia: 10000). Escluso.\n",
      "[AC Milan Sempre] Non ha abbastanza iscritti (soglia: 10000). Escluso.\n",
      "[Ac Milan Museum ] Non ha abbastanza iscritti (soglia: 10000). Escluso.\n",
      "[AC Milan T.V News] Non ha abbastanza iscritti (soglia: 10000). Escluso.\n"
     ]
    },
    {
     "data": {
      "text/plain": [
       "{'UCJv1AqHPPV0IXM5gB-L6-KA': {'name': 'Carlo Pellegatti',\n",
       "  'avg_engagement': 0.0317,\n",
       "  'subscribers': 157000},\n",
       " 'UCYwM10PzkQHwkhr5CZ_uVzA': {'name': 'Lorenzo Lollo - I Milanisti Official',\n",
       "  'avg_engagement': 0.0116,\n",
       "  'subscribers': 30400},\n",
       " 'UCH3oDvo6BGyXmQISU5cUWcA': {'name': 'Rinaldo Morelli',\n",
       "  'avg_engagement': 0.0157,\n",
       "  'subscribers': 35500},\n",
       " 'UCa7LVlKqBQQgIIWc5bspGXA': {'name': 'AcmDevil',\n",
       "  'avg_engagement': 0.0138,\n",
       "  'subscribers': 10900},\n",
       " 'UC4yO9MP6xvdtay7DXT1GrqA': {'name': 'Football Kush',\n",
       "  'avg_engagement': 0.0143,\n",
       "  'subscribers': 15200}}"
      ]
     },
     "execution_count": 276,
     "metadata": {},
     "output_type": "execute_result"
    }
   ],
   "source": [
    "filtered_channels = filter_channels_by_average_engagement(channels)\n",
    "filtered_channels"
   ]
  },
  {
   "cell_type": "code",
   "execution_count": 277,
   "id": "854cadbe",
   "metadata": {},
   "outputs": [],
   "source": [
    "# 5. Salva il risultato in JSON\n",
    "def save_channels_to_json(channels_dict, filename='canali_engaged.json'):\n",
    "    with open(filename, 'w', encoding='utf-8') as f:\n",
    "        json.dump(channels_dict, f, ensure_ascii=False, indent=4)"
   ]
  },
  {
   "cell_type": "code",
   "execution_count": 278,
   "id": "bb344411",
   "metadata": {},
   "outputs": [],
   "source": [
    "save_channels_to_json(filtered_channels)"
   ]
  }
 ],
 "metadata": {
  "kernelspec": {
   "display_name": "env",
   "language": "python",
   "name": "python3"
  },
  "language_info": {
   "codemirror_mode": {
    "name": "ipython",
    "version": 3
   },
   "file_extension": ".py",
   "mimetype": "text/x-python",
   "name": "python",
   "nbconvert_exporter": "python",
   "pygments_lexer": "ipython3",
   "version": "3.8.0"
  }
 },
 "nbformat": 4,
 "nbformat_minor": 5
}
